{
 "cells": [
  {
   "cell_type": "code",
   "execution_count": 1,
   "id": "a5806a36",
   "metadata": {},
   "outputs": [],
   "source": [
    "import pandas as pd\n",
    "import numpy as np\n",
    "from matplotlib import pyplot as plt\n",
    "%matplotlib inline"
   ]
  },
  {
   "cell_type": "code",
   "execution_count": 2,
   "id": "334fff35",
   "metadata": {},
   "outputs": [
    {
     "data": {
      "text/html": [
       "<div>\n",
       "<style scoped>\n",
       "    .dataframe tbody tr th:only-of-type {\n",
       "        vertical-align: middle;\n",
       "    }\n",
       "\n",
       "    .dataframe tbody tr th {\n",
       "        vertical-align: top;\n",
       "    }\n",
       "\n",
       "    .dataframe thead th {\n",
       "        text-align: right;\n",
       "    }\n",
       "</style>\n",
       "<table border=\"1\" class=\"dataframe\">\n",
       "  <thead>\n",
       "    <tr style=\"text-align: right;\">\n",
       "      <th></th>\n",
       "      <th>area</th>\n",
       "      <th>bedrooms</th>\n",
       "      <th>price</th>\n",
       "    </tr>\n",
       "  </thead>\n",
       "  <tbody>\n",
       "    <tr>\n",
       "      <th>19</th>\n",
       "      <td>800</td>\n",
       "      <td>1</td>\n",
       "      <td>32.00</td>\n",
       "    </tr>\n",
       "    <tr>\n",
       "      <th>0</th>\n",
       "      <td>1056</td>\n",
       "      <td>2</td>\n",
       "      <td>39.07</td>\n",
       "    </tr>\n",
       "    <tr>\n",
       "      <th>12</th>\n",
       "      <td>1000</td>\n",
       "      <td>2</td>\n",
       "      <td>38.00</td>\n",
       "    </tr>\n",
       "  </tbody>\n",
       "</table>\n",
       "</div>"
      ],
      "text/plain": [
       "    area  bedrooms  price\n",
       "19   800         1  32.00\n",
       "0   1056         2  39.07\n",
       "12  1000         2  38.00"
      ]
     },
     "execution_count": 2,
     "metadata": {},
     "output_type": "execute_result"
    }
   ],
   "source": [
    "df = pd.read_csv(\"homeprices_banglore.csv\")\n",
    "df.sample(3)"
   ]
  },
  {
   "cell_type": "code",
   "execution_count": 3,
   "id": "229e25bc",
   "metadata": {},
   "outputs": [
    {
     "name": "stdout",
     "output_type": "stream",
     "text": [
      "[[0.08827586 0.25      ]\n",
      " [0.62068966 0.75      ]\n",
      " [0.22068966 0.5       ]\n",
      " [0.24862069 0.5       ]\n",
      " [0.13793103 0.25      ]\n",
      " [0.12758621 0.25      ]\n",
      " [0.6662069  0.75      ]\n",
      " [0.86206897 0.75      ]\n",
      " [0.17586207 0.5       ]\n",
      " [1.         1.        ]\n",
      " [0.34482759 0.5       ]\n",
      " [0.68448276 0.75      ]\n",
      " [0.06896552 0.25      ]\n",
      " [0.10344828 0.25      ]\n",
      " [0.5        0.5       ]\n",
      " [0.12931034 0.25      ]\n",
      " [0.13103448 0.5       ]\n",
      " [0.25517241 0.5       ]\n",
      " [0.67931034 0.5       ]\n",
      " [0.         0.        ]]\n",
      "\n",
      "\n",
      "\n",
      "\n",
      "[[0.05237037]\n",
      " [0.65185185]\n",
      " [0.22222222]\n",
      " [0.31851852]\n",
      " [0.14074074]\n",
      " [0.04444444]\n",
      " [0.76296296]\n",
      " [0.91111111]\n",
      " [0.13333333]\n",
      " [1.        ]\n",
      " [0.37037037]\n",
      " [0.8       ]\n",
      " [0.04444444]\n",
      " [0.05925926]\n",
      " [0.51111111]\n",
      " [0.07407407]\n",
      " [0.11851852]\n",
      " [0.20740741]\n",
      " [0.51851852]\n",
      " [0.        ]]\n"
     ]
    }
   ],
   "source": [
    "from sklearn.preprocessing import MinMaxScaler\n",
    "\n",
    "scaler = MinMaxScaler()\n",
    "scaled_x = scaler.fit_transform(df.drop('price',axis='columns'))\n",
    "scaled_y = scaler.fit_transform(df['price'].values.reshape(df.shape[0],1))\n",
    "\n",
    "print(scaled_x)\n",
    "print(\"\\n\\n\\n\")\n",
    "print(scaled_y)"
   ]
  },
  {
   "cell_type": "code",
   "execution_count": 4,
   "id": "fcb84c2b",
   "metadata": {},
   "outputs": [
    {
     "name": "stdout",
     "output_type": "stream",
     "text": [
      "0      39.07\n",
      "1     120.00\n",
      "2      62.00\n",
      "3      75.00\n",
      "4      51.00\n",
      "5      38.00\n",
      "6     135.00\n",
      "7     155.00\n",
      "8      50.00\n",
      "9     167.00\n",
      "10     82.00\n",
      "11    140.00\n",
      "12     38.00\n",
      "13     40.00\n",
      "14    101.00\n",
      "15     42.00\n",
      "16     48.00\n",
      "17     60.00\n",
      "18    102.00\n",
      "19     32.00\n",
      "Name: price, dtype: float64\n"
     ]
    }
   ],
   "source": [
    "print(df['price'])"
   ]
  },
  {
   "cell_type": "code",
   "execution_count": 5,
   "id": "f2c8f3a3",
   "metadata": {},
   "outputs": [
    {
     "data": {
      "text/plain": [
       "array([ 39.07, 120.  ,  62.  ,  75.  ,  51.  ,  38.  , 135.  , 155.  ,\n",
       "        50.  , 167.  ,  82.  , 140.  ,  38.  ,  40.  , 101.  ,  42.  ,\n",
       "        48.  ,  60.  , 102.  ,  32.  ])"
      ]
     },
     "execution_count": 5,
     "metadata": {},
     "output_type": "execute_result"
    }
   ],
   "source": [
    "df.price.values"
   ]
  },
  {
   "cell_type": "code",
   "execution_count": 6,
   "id": "6aeaa7bd",
   "metadata": {},
   "outputs": [
    {
     "data": {
      "text/plain": [
       "array([[ 39.07],\n",
       "       [120.  ],\n",
       "       [ 62.  ],\n",
       "       [ 75.  ],\n",
       "       [ 51.  ],\n",
       "       [ 38.  ],\n",
       "       [135.  ],\n",
       "       [155.  ],\n",
       "       [ 50.  ],\n",
       "       [167.  ],\n",
       "       [ 82.  ],\n",
       "       [140.  ],\n",
       "       [ 38.  ],\n",
       "       [ 40.  ],\n",
       "       [101.  ],\n",
       "       [ 42.  ],\n",
       "       [ 48.  ],\n",
       "       [ 60.  ],\n",
       "       [102.  ],\n",
       "       [ 32.  ]])"
      ]
     },
     "execution_count": 6,
     "metadata": {},
     "output_type": "execute_result"
    }
   ],
   "source": [
    "df.price.values.reshape(df.shape[0],1)"
   ]
  },
  {
   "cell_type": "code",
   "execution_count": 7,
   "id": "14fe1efe",
   "metadata": {},
   "outputs": [
    {
     "data": {
      "text/plain": [
       "array([[1056,    2],\n",
       "       [2600,    4],\n",
       "       [1440,    3],\n",
       "       [1521,    3],\n",
       "       [1200,    2],\n",
       "       [1170,    2],\n",
       "       [2732,    4],\n",
       "       [3300,    4],\n",
       "       [1310,    3],\n",
       "       [3700,    5],\n",
       "       [1800,    3],\n",
       "       [2785,    4],\n",
       "       [1000,    2],\n",
       "       [1100,    2],\n",
       "       [2250,    3],\n",
       "       [1175,    2],\n",
       "       [1180,    3],\n",
       "       [1540,    3],\n",
       "       [2770,    3],\n",
       "       [ 800,    1]], dtype=int64)"
      ]
     },
     "execution_count": 7,
     "metadata": {},
     "output_type": "execute_result"
    }
   ],
   "source": [
    "df[['area','bedrooms']].values"
   ]
  },
  {
   "cell_type": "code",
   "execution_count": 8,
   "id": "04c8ef06",
   "metadata": {},
   "outputs": [
    {
     "data": {
      "text/plain": [
       "array([1056, 2600, 1440, 1521, 1200, 1170, 2732, 3300, 1310, 3700, 1800,\n",
       "       2785, 1000, 1100, 2250, 1175, 1180, 1540, 2770,  800], dtype=int64)"
      ]
     },
     "execution_count": 8,
     "metadata": {},
     "output_type": "execute_result"
    }
   ],
   "source": [
    "df['area'].values"
   ]
  },
  {
   "cell_type": "code",
   "execution_count": 9,
   "id": "39c6a6b8",
   "metadata": {
    "scrolled": true
   },
   "outputs": [
    {
     "name": "stdout",
     "output_type": "stream",
     "text": [
      "[[1. 1. 1.]\n",
      " [1. 1. 1.]]\n"
     ]
    },
    {
     "data": {
      "text/plain": [
       "array([1., 1.])"
      ]
     },
     "execution_count": 9,
     "metadata": {},
     "output_type": "execute_result"
    }
   ],
   "source": [
    "print(np.ones(shape=(2,3)))\n",
    "np.ones(shape=(2))"
   ]
  },
  {
   "cell_type": "markdown",
   "id": "807ec52e",
   "metadata": {},
   "source": [
    "## Batch Gradient Descent"
   ]
  },
  {
   "cell_type": "code",
   "execution_count": 10,
   "id": "bdff5296",
   "metadata": {},
   "outputs": [],
   "source": [
    "scaler = MinMaxScaler()\n",
    "scaled_x = scaler.fit_transform(df.drop('price',axis='columns'))\n",
    "scaled_y = scaler.fit_transform(df['price'].values.reshape(df.shape[0],1))\n",
    "\n",
    "def batch_gradient_descent(x, y, epochs, learning_rate = 0.01):\n",
    "    \n",
    "    number_of_features = x.shape[1]\n",
    "    w = np.ones(shape=(number_of_features))\n",
    "    b = 0\n",
    "    total_samples = x.shape[0]\n",
    "    \n",
    "    cost_list = []\n",
    "    epoch_list = []\n",
    "    for i in range(epochs):\n",
    "        \n",
    "        y_predicted = np.dot(x,w.T) + b\n",
    "        w_grad = (2/total_samples)*np.dot(y_predicted-y,x)\n",
    "        b_grad = (2/total_samples)*np.sum(y_predicted-y)\n",
    "        \n",
    "        w = w - learning_rate * w_grad\n",
    "        b = b - learning_rate * b_grad\n",
    "        \n",
    "        cost = np.mean(np.square(y_predicted-y))\n",
    "        \n",
    "        if i%10 == 0:\n",
    "            cost_list.append(cost)\n",
    "            epoch_list.append(i)\n",
    "        \n",
    "    return w, b, cost, cost_list, epoch_list            "
   ]
  },
  {
   "cell_type": "code",
   "execution_count": 11,
   "id": "8b823aa8",
   "metadata": {},
   "outputs": [],
   "source": [
    "w, b, cost, cost_list, epoch_list = batch_gradient_descent(scaled_x,scaled_y.reshape(scaled_y.shape[0],),500)"
   ]
  },
  {
   "cell_type": "code",
   "execution_count": 12,
   "id": "ce71f469",
   "metadata": {},
   "outputs": [
    {
     "data": {
      "text/plain": [
       "(array([0.70712464, 0.67456527]), -0.23034857438407422, 0.0068641890429808105)"
      ]
     },
     "execution_count": 12,
     "metadata": {},
     "output_type": "execute_result"
    }
   ],
   "source": [
    "w,b,cost"
   ]
  },
  {
   "cell_type": "code",
   "execution_count": 13,
   "id": "8021816c",
   "metadata": {},
   "outputs": [
    {
     "data": {
      "text/plain": [
       "[<matplotlib.lines.Line2D at 0x202ee727be0>]"
      ]
     },
     "execution_count": 13,
     "metadata": {},
     "output_type": "execute_result"
    },
    {
     "data": {
      "image/png": "[encoded data removed]",
      "text/plain": [
       "<Figure size 432x288 with 1 Axes>"
      ]
     },
     "metadata": {
      "needs_background": "light"
     },
     "output_type": "display_data"
    }
   ],
   "source": [
    "plt.xlabel('epochs')\n",
    "plt.ylabel('cost')\n",
    "plt.plot(epoch_list,cost_list)"
   ]
  },
  {
   "cell_type": "code",
   "execution_count": 14,
   "id": "45315622",
   "metadata": {},
   "outputs": [
    {
     "data": {
      "text/plain": [
       "128.45484403267596"
      ]
     },
     "execution_count": 14,
     "metadata": {},
     "output_type": "execute_result"
    }
   ],
   "source": [
    "def predict(area, bedrooms):\n",
    "    sx = MinMaxScaler()\n",
    "    sy = MinMaxScaler()\n",
    "    sx.fit(df.drop('price',axis='columns').values)\n",
    "    sy.fit(df['price'].values.reshape(df.shape[0],1))\n",
    "    scaled_x = sx.transform([[area,bedrooms]])[0] # it returns 2d array\n",
    "    \n",
    "    \"\"\"\n",
    "    area, bedrooms = 1000, 3\n",
    "    scaled_x = scaler.fit_transform([[area,bedrooms]])\n",
    "    scaled_x\n",
    "    \n",
    "    output:\n",
    "    array([[0., 0.]])\n",
    "    \"\"\"\n",
    "    \n",
    "    scaled_price = w[0]*scaled_x[0] + w[1]*scaled_x[1] + b\n",
    "    return sy.inverse_transform([[scaled_price]])[0][0]\n",
    "\n",
    "predict(2600,4)"
   ]
  },
  {
   "cell_type": "code",
   "execution_count": 15,
   "id": "2c40d730",
   "metadata": {},
   "outputs": [
    {
     "data": {
      "text/plain": [
       "30.253094462442363"
      ]
     },
     "execution_count": 15,
     "metadata": {},
     "output_type": "execute_result"
    }
   ],
   "source": [
    "predict(1000,2)"
   ]
  },
  {
   "cell_type": "code",
   "execution_count": 16,
   "id": "be16d04d",
   "metadata": {},
   "outputs": [
    {
     "data": {
      "text/plain": [
       "108.70412125185155"
      ]
     },
     "execution_count": 16,
     "metadata": {},
     "output_type": "execute_result"
    }
   ],
   "source": [
    "predict(2000,4)"
   ]
  },
  {
   "cell_type": "markdown",
   "id": "fd53e510",
   "metadata": {},
   "source": [
    "## Stochastic Gradient Descent"
   ]
  },
  {
   "cell_type": "code",
   "execution_count": 17,
   "id": "02b8e043",
   "metadata": {},
   "outputs": [],
   "source": [
    "scaler = MinMaxScaler()\n",
    "scaled_x = scaler.fit_transform(df.drop('price',axis='columns'))\n",
    "scaled_y = scaler.fit_transform(df['price'].values.reshape(df.shape[0],1))\n",
    "\n",
    "import random\n",
    "def stochastic_gradient_descent(x, y, epochs, learning_rate = 0.01):\n",
    "    \n",
    "    number_of_features = x.shape[1]\n",
    "    w = np.ones(shape=(number_of_features))\n",
    "    b = 0\n",
    "    total_samples = x.shape[0]\n",
    "    \n",
    "    cost_list = []\n",
    "    epoch_list = []\n",
    "    for i in range(epochs):\n",
    "        \n",
    "        random_index = random.randint(0,total_samples-1)\n",
    "        sample_x = x[random_index]\n",
    "        sample_y = y[random_index]\n",
    "        \n",
    "        y_predicted = np.dot(sample_x,w) + b\n",
    "        w_grad = (2/total_samples)*(np.dot(y_predicted-sample_y,sample_x))\n",
    "        b_grad = (2/total_samples)*(y_predicted-sample_y)\n",
    "        \n",
    "        w = w - learning_rate * w_grad\n",
    "        b = b - learning_rate * b_grad\n",
    "        \n",
    "        cost = np.square(y_predicted-sample_y)\n",
    "        \n",
    "        if i%100 == 0:\n",
    "            cost_list.append(cost)\n",
    "            epoch_list.append(i)\n",
    "        \n",
    "    return w, b, cost, cost_list, epoch_list            "
   ]
  },
  {
   "cell_type": "code",
   "execution_count": 18,
   "id": "b87ef2ef",
   "metadata": {},
   "outputs": [],
   "source": [
    "w_sgd, b_sgd, cost_sgd, cost_list_sgd, epoch_list_sgd = stochastic_gradient_descent(scaled_x, scaled_y.reshape(scaled_y.shape[0],), 10000)"
   ]
  },
  {
   "cell_type": "code",
   "execution_count": 19,
   "id": "8fd8351e",
   "metadata": {},
   "outputs": [
    {
     "data": {
      "text/plain": [
       "(array([0.70868894, 0.67350329]), -0.23241000474270038, 0.0029054381484049548)"
      ]
     },
     "execution_count": 19,
     "metadata": {},
     "output_type": "execute_result"
    }
   ],
   "source": [
    "w_sgd, b_sgd, cost_sgd"
   ]
  },
  {
   "cell_type": "code",
   "execution_count": 20,
   "id": "e9e58dcc",
   "metadata": {},
   "outputs": [
    {
     "data": {
      "text/plain": [
       "[<matplotlib.lines.Line2D at 0x202f08c4d90>]"
      ]
     },
     "execution_count": 20,
     "metadata": {},
     "output_type": "execute_result"
    },
    {
     "data": {
      "image/png": "[encoded data removed]",
      "text/plain": [
       "<Figure size 432x288 with 1 Axes>"
      ]
     },
     "metadata": {
      "needs_background": "light"
     },
     "output_type": "display_data"
    }
   ],
   "source": [
    "plt.title('Stochastic Gradient Descent')\n",
    "plt.xlabel('epochs')\n",
    "plt.ylabel('cost')\n",
    "plt.plot(epoch_list_sgd,cost_list_sgd)"
   ]
  },
  {
   "cell_type": "code",
   "execution_count": 21,
   "id": "3e94bc15",
   "metadata": {},
   "outputs": [
    {
     "data": {
      "text/plain": [
       "128.4783960985915"
      ]
     },
     "execution_count": 21,
     "metadata": {},
     "output_type": "execute_result"
    }
   ],
   "source": [
    "def predict_sgd(area, bedrooms):\n",
    "    sx = MinMaxScaler()\n",
    "    sy = MinMaxScaler()\n",
    "    sx.fit(df.drop('price',axis='columns').values)\n",
    "    sy.fit(df['price'].values.reshape(df.shape[0],1))\n",
    "    scaled_x = sx.transform([[area,bedrooms]])[0] # it returns 2d array\n",
    "    \n",
    "    \"\"\"\n",
    "    area, bedrooms = 1000, 3\n",
    "    scaled_x = scaler.fit_transform([[area,bedrooms]])\n",
    "    scaled_x\n",
    "    \n",
    "    output:\n",
    "    array([[0., 0.]])\n",
    "    \"\"\"\n",
    "    \n",
    "    scaled_price = w_sgd[0]*scaled_x[0] + w_sgd[1]*scaled_x[1] + b\n",
    "    return sy.inverse_transform([[scaled_price]])[0][0]\n",
    "\n",
    "predict_sgd(2600,4)"
   ]
  },
  {
   "cell_type": "markdown",
   "id": "7cf40c5c",
   "metadata": {},
   "source": [
    "## Mini Batch Gradient Descent"
   ]
  },
  {
   "cell_type": "code",
   "execution_count": 22,
   "id": "9fdd0a82",
   "metadata": {},
   "outputs": [],
   "source": [
    "scaler = MinMaxScaler()\n",
    "scaled_x = scaler.fit_transform(df.drop('price',axis='columns'))\n",
    "scaled_y = scaler.fit_transform(df['price'].values.reshape(df.shape[0],1))\n",
    "\n",
    "import random\n",
    "def mb_gradient_descent(x, y, epochs, learning_rate = 0.01, batch = 3):\n",
    "    \n",
    "    number_of_features = x.shape[1]\n",
    "    w = np.ones(shape=(number_of_features))\n",
    "    b = 0\n",
    "    total_samples = x.shape[0]\n",
    "    cost_list = []\n",
    "    epoch_list = []\n",
    "    for i in range(epochs):\n",
    "        \n",
    "        random_index = random.randint(0,total_samples-batch)\n",
    "        sample_x = x[random_index:random_index+batch]\n",
    "        sample_y = y[random_index:random_index+batch]\n",
    "        \n",
    "        y_predicted = np.dot(sample_x,w) + b\n",
    "        w_grad = (2/total_samples)*(np.dot(y_predicted-sample_y,sample_x))\n",
    "        b_grad = (2/total_samples)*np.sum(y_predicted-sample_y)\n",
    "        \n",
    "        w = w - learning_rate * w_grad\n",
    "        b = b - learning_rate * b_grad\n",
    "        \n",
    "        cost = np.mean(np.square(y_predicted-sample_y))\n",
    "        \n",
    "        if i%100 == 0:\n",
    "            cost_list.append(cost)\n",
    "            epoch_list.append(i)\n",
    "        \n",
    "    return w, b, cost, cost_list, epoch_list"
   ]
  },
  {
   "cell_type": "code",
   "execution_count": 23,
   "id": "f79555a3",
   "metadata": {},
   "outputs": [
    {
     "data": {
      "text/plain": [
       "(array([0.67382268, 0.5948642 ]), -0.17744361586166202, 0.0029950607087051435)"
      ]
     },
     "execution_count": 23,
     "metadata": {},
     "output_type": "execute_result"
    }
   ],
   "source": [
    "w_mb, b_mb, cost_mb, cost_list_mb, epoch_list_mb = mb_gradient_descent(scaled_x, scaled_y.reshape(scaled_y.shape[0],), 10000)\n",
    "w_mb, b_mb, cost_mb"
   ]
  },
  {
   "cell_type": "code",
   "execution_count": 24,
   "id": "7e4710cf",
   "metadata": {},
   "outputs": [
    {
     "data": {
      "text/plain": [
       "[<matplotlib.lines.Line2D at 0x202f093c730>]"
      ]
     },
     "execution_count": 24,
     "metadata": {},
     "output_type": "execute_result"
    },
    {
     "data": {
      "image/png": "[encoded data removed]",
      "text/plain": [
       "<Figure size 432x288 with 1 Axes>"
      ]
     },
     "metadata": {
      "needs_background": "light"
     },
     "output_type": "display_data"
    }
   ],
   "source": [
    "plt.title('Mini Batch Gradient Descent')\n",
    "plt.xlabel('epochs')\n",
    "plt.ylabel('cost')\n",
    "plt.plot(epoch_list_mb,cost_list_mb)"
   ]
  },
  {
   "cell_type": "code",
   "execution_count": 25,
   "id": "0ace1196",
   "metadata": {},
   "outputs": [
    {
     "data": {
      "text/plain": [
       "128.4783960985915"
      ]
     },
     "execution_count": 25,
     "metadata": {},
     "output_type": "execute_result"
    }
   ],
   "source": [
    "def predict_mb(area, bedrooms):\n",
    "    sx = MinMaxScaler()\n",
    "    sy = MinMaxScaler()\n",
    "    sx.fit(df.drop('price',axis='columns').values)\n",
    "    sy.fit(df['price'].values.reshape(df.shape[0],1))\n",
    "    scaled_x = sx.transform([[area,bedrooms]])[0] # it returns 2d array\n",
    "    \n",
    "    \"\"\"\n",
    "    area, bedrooms = 1000, 3\n",
    "    scaled_x = scaler.fit_transform([[area,bedrooms]])\n",
    "    scaled_x\n",
    "    \n",
    "    output:\n",
    "    array([[0., 0.]])\n",
    "    \"\"\"\n",
    "    \n",
    "    scaled_price = w_sgd[0]*scaled_x[0] + w_sgd[1]*scaled_x[1] + b\n",
    "    return sy.inverse_transform([[scaled_price]])[0][0]\n",
    "\n",
    "predict_mb(2600,4)"
   ]
  }
 ],
 "metadata": {
  "kernelspec": {
   "display_name": "Python 3 (ipykernel)",
   "language": "python",
   "name": "python3"
  },
  "language_info": {
   "codemirror_mode": {
    "name": "ipython",
    "version": 3
   },
   "file_extension": ".py",
   "mimetype": "text/x-python",
   "name": "python",
   "nbconvert_exporter": "python",
   "pygments_lexer": "ipython3",
   "version": "3.10.5"
  }
 },
 "nbformat": 4,
 "nbformat_minor": 5
}
