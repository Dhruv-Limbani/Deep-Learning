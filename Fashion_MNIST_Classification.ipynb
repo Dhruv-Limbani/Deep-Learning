{
  "nbformat": 4,
  "nbformat_minor": 0,
  "metadata": {
    "colab": {
      "name": "Fashion_MNIST_Classification.ipynb",
      "provenance": [],
      "collapsed_sections": [],
      "authorship_tag": "ABX9TyP4Ujg3S0zOJ8J+8yLmMJvC"
    },
    "kernelspec": {
      "name": "python3",
      "display_name": "Python 3"
    },
    "language_info": {
      "name": "python"
    },
    "accelerator": "GPU",
    "gpuClass": "standard"
  },
  "cells": [
    {
      "cell_type": "markdown",
      "source": [
        "# Fashion MNIST Classification"
      ],
      "metadata": {
        "id": "Z0A4GGPqoRKW"
      }
    },
    {
      "cell_type": "code",
      "execution_count": 1,
      "metadata": {
        "id": "z4m307Xng0dH"
      },
      "outputs": [],
      "source": [
        "import tensorflow as tf\n",
        "from tensorflow import keras\n",
        "import numpy as np\n",
        "import matplotlib.pyplot as plt"
      ]
    },
    {
      "cell_type": "code",
      "source": [
        "(x_train, y_train) , (x_test, y_test) = keras.datasets.fashion_mnist.load_data()"
      ],
      "metadata": {
        "colab": {
          "base_uri": "https://localhost:8080/"
        },
        "id": "bC2H62edhE8a",
        "outputId": "0499ff87-95d7-4e3c-e4dd-dcb57c07c0e2"
      },
      "execution_count": 2,
      "outputs": [
        {
          "output_type": "stream",
          "name": "stdout",
          "text": [
            "Downloading data from https://storage.googleapis.com/tensorflow/tf-keras-datasets/train-labels-idx1-ubyte.gz\n",
            "32768/29515 [=================================] - 0s 0us/step\n",
            "40960/29515 [=========================================] - 0s 0us/step\n",
            "Downloading data from https://storage.googleapis.com/tensorflow/tf-keras-datasets/train-images-idx3-ubyte.gz\n",
            "26427392/26421880 [==============================] - 0s 0us/step\n",
            "26435584/26421880 [==============================] - 0s 0us/step\n",
            "Downloading data from https://storage.googleapis.com/tensorflow/tf-keras-datasets/t10k-labels-idx1-ubyte.gz\n",
            "16384/5148 [===============================================================================================] - 0s 0us/step\n",
            "Downloading data from https://storage.googleapis.com/tensorflow/tf-keras-datasets/t10k-images-idx3-ubyte.gz\n",
            "4423680/4422102 [==============================] - 0s 0us/step\n",
            "4431872/4422102 [==============================] - 0s 0us/step\n"
          ]
        }
      ]
    },
    {
      "cell_type": "code",
      "source": [
        "x_train.shape"
      ],
      "metadata": {
        "colab": {
          "base_uri": "https://localhost:8080/"
        },
        "id": "OhFk_EachleL",
        "outputId": "809e86ba-d774-47ab-a4e0-7d54bfb6d0c6"
      },
      "execution_count": 3,
      "outputs": [
        {
          "output_type": "execute_result",
          "data": {
            "text/plain": [
              "(60000, 28, 28)"
            ]
          },
          "metadata": {},
          "execution_count": 3
        }
      ]
    },
    {
      "cell_type": "code",
      "source": [
        "y_train.shape"
      ],
      "metadata": {
        "colab": {
          "base_uri": "https://localhost:8080/"
        },
        "id": "MWd69LyVhorr",
        "outputId": "1d2a2038-f877-4cd8-82c4-4a5f8b807540"
      },
      "execution_count": 6,
      "outputs": [
        {
          "output_type": "execute_result",
          "data": {
            "text/plain": [
              "(60000,)"
            ]
          },
          "metadata": {},
          "execution_count": 6
        }
      ]
    },
    {
      "cell_type": "code",
      "source": [
        "classes = [\"T-shirt/top\", \"Trouser\", \"Pullover\", \"Dress\", \"Coat\", \"Sandal\", \"Shirt\", \"Sneaker\", \"Bag\", \"Ankle boot\"]"
      ],
      "metadata": {
        "id": "1ctusDWLiC9l"
      },
      "execution_count": 7,
      "outputs": []
    },
    {
      "cell_type": "code",
      "source": [
        "def plot_img(index):\n",
        "  plt.figure(figsize=(20,5))\n",
        "  plt.imshow(x_train[index],cmap = plt.get_cmap('gray'))\n",
        "  plt.title(classes[y_train[index]])"
      ],
      "metadata": {
        "id": "c8JQ-btWhq5-"
      },
      "execution_count": 14,
      "outputs": []
    },
    {
      "cell_type": "code",
      "source": [
        "plot_img(6)"
      ],
      "metadata": {
        "colab": {
          "base_uri": "https://localhost:8080/",
          "height": 336
        },
        "id": "oFBm5FbtiykG",
        "outputId": "15c8ae50-6445-4940-efba-3b9b15f935d1"
      },
      "execution_count": 16,
      "outputs": [
        {
          "output_type": "display_data",
          "data": {
            "text/plain": [
              "<Figure size 1440x360 with 1 Axes>"
            ],
            "image/png": "[encoded data removed]"
          },
          "metadata": {
            "needs_background": "light"
          }
        }
      ]
    },
    {
      "cell_type": "code",
      "source": [
        "x_train[0]"
      ],
      "metadata": {
        "colab": {
          "base_uri": "https://localhost:8080/"
        },
        "id": "r6TYQIPni1Ep",
        "outputId": "4fec8a5e-5372-42b0-b2ff-c77ff0d73daf"
      },
      "execution_count": 17,
      "outputs": [
        {
          "output_type": "execute_result",
          "data": {
            "text/plain": [
              "array([[  0,   0,   0,   0,   0,   0,   0,   0,   0,   0,   0,   0,   0,\n",
              "          0,   0,   0,   0,   0,   0,   0,   0,   0,   0,   0,   0,   0,\n",
              "          0,   0],\n",
              "       [  0,   0,   0,   0,   0,   0,   0,   0,   0,   0,   0,   0,   0,\n",
              "          0,   0,   0,   0,   0,   0,   0,   0,   0,   0,   0,   0,   0,\n",
              "          0,   0],\n",
              "       [  0,   0,   0,   0,   0,   0,   0,   0,   0,   0,   0,   0,   0,\n",
              "          0,   0,   0,   0,   0,   0,   0,   0,   0,   0,   0,   0,   0,\n",
              "          0,   0],\n",
              "       [  0,   0,   0,   0,   0,   0,   0,   0,   0,   0,   0,   0,   1,\n",
              "          0,   0,  13,  73,   0,   0,   1,   4,   0,   0,   0,   0,   1,\n",
              "          1,   0],\n",
              "       [  0,   0,   0,   0,   0,   0,   0,   0,   0,   0,   0,   0,   3,\n",
              "          0,  36, 136, 127,  62,  54,   0,   0,   0,   1,   3,   4,   0,\n",
              "          0,   3],\n",
              "       [  0,   0,   0,   0,   0,   0,   0,   0,   0,   0,   0,   0,   6,\n",
              "          0, 102, 204, 176, 134, 144, 123,  23,   0,   0,   0,   0,  12,\n",
              "         10,   0],\n",
              "       [  0,   0,   0,   0,   0,   0,   0,   0,   0,   0,   0,   0,   0,\n",
              "          0, 155, 236, 207, 178, 107, 156, 161, 109,  64,  23,  77, 130,\n",
              "         72,  15],\n",
              "       [  0,   0,   0,   0,   0,   0,   0,   0,   0,   0,   0,   1,   0,\n",
              "         69, 207, 223, 218, 216, 216, 163, 127, 121, 122, 146, 141,  88,\n",
              "        172,  66],\n",
              "       [  0,   0,   0,   0,   0,   0,   0,   0,   0,   1,   1,   1,   0,\n",
              "        200, 232, 232, 233, 229, 223, 223, 215, 213, 164, 127, 123, 196,\n",
              "        229,   0],\n",
              "       [  0,   0,   0,   0,   0,   0,   0,   0,   0,   0,   0,   0,   0,\n",
              "        183, 225, 216, 223, 228, 235, 227, 224, 222, 224, 221, 223, 245,\n",
              "        173,   0],\n",
              "       [  0,   0,   0,   0,   0,   0,   0,   0,   0,   0,   0,   0,   0,\n",
              "        193, 228, 218, 213, 198, 180, 212, 210, 211, 213, 223, 220, 243,\n",
              "        202,   0],\n",
              "       [  0,   0,   0,   0,   0,   0,   0,   0,   0,   1,   3,   0,  12,\n",
              "        219, 220, 212, 218, 192, 169, 227, 208, 218, 224, 212, 226, 197,\n",
              "        209,  52],\n",
              "       [  0,   0,   0,   0,   0,   0,   0,   0,   0,   0,   6,   0,  99,\n",
              "        244, 222, 220, 218, 203, 198, 221, 215, 213, 222, 220, 245, 119,\n",
              "        167,  56],\n",
              "       [  0,   0,   0,   0,   0,   0,   0,   0,   0,   4,   0,   0,  55,\n",
              "        236, 228, 230, 228, 240, 232, 213, 218, 223, 234, 217, 217, 209,\n",
              "         92,   0],\n",
              "       [  0,   0,   1,   4,   6,   7,   2,   0,   0,   0,   0,   0, 237,\n",
              "        226, 217, 223, 222, 219, 222, 221, 216, 223, 229, 215, 218, 255,\n",
              "         77,   0],\n",
              "       [  0,   3,   0,   0,   0,   0,   0,   0,   0,  62, 145, 204, 228,\n",
              "        207, 213, 221, 218, 208, 211, 218, 224, 223, 219, 215, 224, 244,\n",
              "        159,   0],\n",
              "       [  0,   0,   0,   0,  18,  44,  82, 107, 189, 228, 220, 222, 217,\n",
              "        226, 200, 205, 211, 230, 224, 234, 176, 188, 250, 248, 233, 238,\n",
              "        215,   0],\n",
              "       [  0,  57, 187, 208, 224, 221, 224, 208, 204, 214, 208, 209, 200,\n",
              "        159, 245, 193, 206, 223, 255, 255, 221, 234, 221, 211, 220, 232,\n",
              "        246,   0],\n",
              "       [  3, 202, 228, 224, 221, 211, 211, 214, 205, 205, 205, 220, 240,\n",
              "         80, 150, 255, 229, 221, 188, 154, 191, 210, 204, 209, 222, 228,\n",
              "        225,   0],\n",
              "       [ 98, 233, 198, 210, 222, 229, 229, 234, 249, 220, 194, 215, 217,\n",
              "        241,  65,  73, 106, 117, 168, 219, 221, 215, 217, 223, 223, 224,\n",
              "        229,  29],\n",
              "       [ 75, 204, 212, 204, 193, 205, 211, 225, 216, 185, 197, 206, 198,\n",
              "        213, 240, 195, 227, 245, 239, 223, 218, 212, 209, 222, 220, 221,\n",
              "        230,  67],\n",
              "       [ 48, 203, 183, 194, 213, 197, 185, 190, 194, 192, 202, 214, 219,\n",
              "        221, 220, 236, 225, 216, 199, 206, 186, 181, 177, 172, 181, 205,\n",
              "        206, 115],\n",
              "       [  0, 122, 219, 193, 179, 171, 183, 196, 204, 210, 213, 207, 211,\n",
              "        210, 200, 196, 194, 191, 195, 191, 198, 192, 176, 156, 167, 177,\n",
              "        210,  92],\n",
              "       [  0,   0,  74, 189, 212, 191, 175, 172, 175, 181, 185, 188, 189,\n",
              "        188, 193, 198, 204, 209, 210, 210, 211, 188, 188, 194, 192, 216,\n",
              "        170,   0],\n",
              "       [  2,   0,   0,   0,  66, 200, 222, 237, 239, 242, 246, 243, 244,\n",
              "        221, 220, 193, 191, 179, 182, 182, 181, 176, 166, 168,  99,  58,\n",
              "          0,   0],\n",
              "       [  0,   0,   0,   0,   0,   0,   0,  40,  61,  44,  72,  41,  35,\n",
              "          0,   0,   0,   0,   0,   0,   0,   0,   0,   0,   0,   0,   0,\n",
              "          0,   0],\n",
              "       [  0,   0,   0,   0,   0,   0,   0,   0,   0,   0,   0,   0,   0,\n",
              "          0,   0,   0,   0,   0,   0,   0,   0,   0,   0,   0,   0,   0,\n",
              "          0,   0],\n",
              "       [  0,   0,   0,   0,   0,   0,   0,   0,   0,   0,   0,   0,   0,\n",
              "          0,   0,   0,   0,   0,   0,   0,   0,   0,   0,   0,   0,   0,\n",
              "          0,   0]], dtype=uint8)"
            ]
          },
          "metadata": {},
          "execution_count": 17
        }
      ]
    },
    {
      "cell_type": "code",
      "source": [
        "x_train_scaled = x_train/255\n",
        "x_test_scaled = x_test/255"
      ],
      "metadata": {
        "id": "SjxTv1TVjzQm"
      },
      "execution_count": 18,
      "outputs": []
    },
    {
      "cell_type": "code",
      "source": [
        "y_train"
      ],
      "metadata": {
        "colab": {
          "base_uri": "https://localhost:8080/"
        },
        "id": "cjXvc8K3j9BC",
        "outputId": "0e003c73-9d69-45c5-cdf5-9faf2f05393c"
      },
      "execution_count": 21,
      "outputs": [
        {
          "output_type": "execute_result",
          "data": {
            "text/plain": [
              "array([9, 0, 0, ..., 3, 0, 5], dtype=uint8)"
            ]
          },
          "metadata": {},
          "execution_count": 21
        }
      ]
    },
    {
      "cell_type": "code",
      "source": [
        "y_train_categorical = keras.utils.to_categorical(\n",
        "    y_train, num_classes = 10, dtype='float32'\n",
        ")\n",
        "\n",
        "y_test_categorical = keras.utils.to_categorical(\n",
        "    y_test, num_classes = 10, dtype='float32'\n",
        ")"
      ],
      "metadata": {
        "id": "myMnLAlnkEcO"
      },
      "execution_count": 22,
      "outputs": []
    },
    {
      "cell_type": "code",
      "source": [
        "y_train_categorical"
      ],
      "metadata": {
        "colab": {
          "base_uri": "https://localhost:8080/"
        },
        "id": "itItjbDnkaIc",
        "outputId": "4ef6561d-5b36-4ea1-d270-6ec6ec22b189"
      },
      "execution_count": 24,
      "outputs": [
        {
          "output_type": "execute_result",
          "data": {
            "text/plain": [
              "array([[0., 0., 0., ..., 0., 0., 1.],\n",
              "       [1., 0., 0., ..., 0., 0., 0.],\n",
              "       [1., 0., 0., ..., 0., 0., 0.],\n",
              "       ...,\n",
              "       [0., 0., 0., ..., 0., 0., 0.],\n",
              "       [1., 0., 0., ..., 0., 0., 0.],\n",
              "       [0., 0., 0., ..., 0., 0., 0.]], dtype=float32)"
            ]
          },
          "metadata": {},
          "execution_count": 24
        }
      ]
    },
    {
      "cell_type": "code",
      "source": [
        "model = keras.Sequential([\n",
        "    keras.layers.Flatten(input_shape = (28, 28)),\n",
        "    keras.layers.Dense(150,activation='relu'),\n",
        "    keras.layers.Dense(30, activation = 'relu'),\n",
        "    keras.layers.Dense(10, activation = 'sigmoid')\n",
        "])\n",
        "\n",
        "model.compile(\n",
        "    optimizer = 'adam',\n",
        "    loss = 'categorical_crossentropy',\n",
        "    metrics = ['accuracy'] \n",
        ")\n",
        "\n",
        "model.fit(x_train_scaled,y_train_categorical,epochs=50,batch_size=50)"
      ],
      "metadata": {
        "colab": {
          "base_uri": "https://localhost:8080/"
        },
        "id": "32azWce2kb6C",
        "outputId": "75319180-8069-4e1d-9e70-122aaf95d0fc"
      },
      "execution_count": 25,
      "outputs": [
        {
          "output_type": "stream",
          "name": "stdout",
          "text": [
            "Epoch 1/50\n",
            "1200/1200 [==============================] - 6s 2ms/step - loss: 0.5076 - accuracy: 0.8215\n",
            "Epoch 2/50\n",
            "1200/1200 [==============================] - 3s 2ms/step - loss: 0.3758 - accuracy: 0.8649\n",
            "Epoch 3/50\n",
            "1200/1200 [==============================] - 3s 2ms/step - loss: 0.3344 - accuracy: 0.8785\n",
            "Epoch 4/50\n",
            "1200/1200 [==============================] - 3s 2ms/step - loss: 0.3138 - accuracy: 0.8849\n",
            "Epoch 5/50\n",
            "1200/1200 [==============================] - 3s 2ms/step - loss: 0.2964 - accuracy: 0.8904\n",
            "Epoch 6/50\n",
            "1200/1200 [==============================] - 3s 3ms/step - loss: 0.2810 - accuracy: 0.8960\n",
            "Epoch 7/50\n",
            "1200/1200 [==============================] - 3s 2ms/step - loss: 0.2680 - accuracy: 0.9000\n",
            "Epoch 8/50\n",
            "1200/1200 [==============================] - 3s 2ms/step - loss: 0.2615 - accuracy: 0.9033\n",
            "Epoch 9/50\n",
            "1200/1200 [==============================] - 3s 2ms/step - loss: 0.2505 - accuracy: 0.9068\n",
            "Epoch 10/50\n",
            "1200/1200 [==============================] - 3s 2ms/step - loss: 0.2391 - accuracy: 0.9101\n",
            "Epoch 11/50\n",
            "1200/1200 [==============================] - 3s 3ms/step - loss: 0.2324 - accuracy: 0.9119\n",
            "Epoch 12/50\n",
            "1200/1200 [==============================] - 3s 2ms/step - loss: 0.2232 - accuracy: 0.9164\n",
            "Epoch 13/50\n",
            "1200/1200 [==============================] - 3s 2ms/step - loss: 0.2180 - accuracy: 0.9176\n",
            "Epoch 14/50\n",
            "1200/1200 [==============================] - 4s 3ms/step - loss: 0.2106 - accuracy: 0.9213\n",
            "Epoch 15/50\n",
            "1200/1200 [==============================] - 3s 2ms/step - loss: 0.2055 - accuracy: 0.9226\n",
            "Epoch 16/50\n",
            "1200/1200 [==============================] - 3s 2ms/step - loss: 0.1974 - accuracy: 0.9259\n",
            "Epoch 17/50\n",
            "1200/1200 [==============================] - 3s 2ms/step - loss: 0.1933 - accuracy: 0.9273\n",
            "Epoch 18/50\n",
            "1200/1200 [==============================] - 3s 2ms/step - loss: 0.1875 - accuracy: 0.9290\n",
            "Epoch 19/50\n",
            "1200/1200 [==============================] - 3s 2ms/step - loss: 0.1812 - accuracy: 0.9313\n",
            "Epoch 20/50\n",
            "1200/1200 [==============================] - 3s 2ms/step - loss: 0.1789 - accuracy: 0.9328\n",
            "Epoch 21/50\n",
            "1200/1200 [==============================] - 3s 2ms/step - loss: 0.1738 - accuracy: 0.9349\n",
            "Epoch 22/50\n",
            "1200/1200 [==============================] - 3s 2ms/step - loss: 0.1677 - accuracy: 0.9376\n",
            "Epoch 23/50\n",
            "1200/1200 [==============================] - 3s 2ms/step - loss: 0.1656 - accuracy: 0.9369\n",
            "Epoch 24/50\n",
            "1200/1200 [==============================] - 3s 2ms/step - loss: 0.1598 - accuracy: 0.9395\n",
            "Epoch 25/50\n",
            "1200/1200 [==============================] - 3s 2ms/step - loss: 0.1579 - accuracy: 0.9410\n",
            "Epoch 26/50\n",
            "1200/1200 [==============================] - 3s 2ms/step - loss: 0.1542 - accuracy: 0.9420\n",
            "Epoch 27/50\n",
            "1200/1200 [==============================] - 3s 2ms/step - loss: 0.1502 - accuracy: 0.9434\n",
            "Epoch 28/50\n",
            "1200/1200 [==============================] - 3s 3ms/step - loss: 0.1448 - accuracy: 0.9453\n",
            "Epoch 29/50\n",
            "1200/1200 [==============================] - 3s 3ms/step - loss: 0.1427 - accuracy: 0.9457\n",
            "Epoch 30/50\n",
            "1200/1200 [==============================] - 3s 2ms/step - loss: 0.1425 - accuracy: 0.9459\n",
            "Epoch 31/50\n",
            "1200/1200 [==============================] - 3s 2ms/step - loss: 0.1370 - accuracy: 0.9481\n",
            "Epoch 32/50\n",
            "1200/1200 [==============================] - 3s 2ms/step - loss: 0.1336 - accuracy: 0.9496\n",
            "Epoch 33/50\n",
            "1200/1200 [==============================] - 3s 2ms/step - loss: 0.1310 - accuracy: 0.9512\n",
            "Epoch 34/50\n",
            "1200/1200 [==============================] - 3s 2ms/step - loss: 0.1279 - accuracy: 0.9521\n",
            "Epoch 35/50\n",
            "1200/1200 [==============================] - 3s 2ms/step - loss: 0.1227 - accuracy: 0.9535\n",
            "Epoch 36/50\n",
            "1200/1200 [==============================] - 3s 2ms/step - loss: 0.1255 - accuracy: 0.9516\n",
            "Epoch 37/50\n",
            "1200/1200 [==============================] - 3s 2ms/step - loss: 0.1187 - accuracy: 0.9557\n",
            "Epoch 38/50\n",
            "1200/1200 [==============================] - 3s 3ms/step - loss: 0.1195 - accuracy: 0.9552\n",
            "Epoch 39/50\n",
            "1200/1200 [==============================] - 3s 3ms/step - loss: 0.1162 - accuracy: 0.9563\n",
            "Epoch 40/50\n",
            "1200/1200 [==============================] - 3s 2ms/step - loss: 0.1115 - accuracy: 0.9576\n",
            "Epoch 41/50\n",
            "1200/1200 [==============================] - 3s 3ms/step - loss: 0.1141 - accuracy: 0.9566\n",
            "Epoch 42/50\n",
            "1200/1200 [==============================] - 3s 2ms/step - loss: 0.1077 - accuracy: 0.9598\n",
            "Epoch 43/50\n",
            "1200/1200 [==============================] - 3s 2ms/step - loss: 0.1100 - accuracy: 0.9584\n",
            "Epoch 44/50\n",
            "1200/1200 [==============================] - 3s 2ms/step - loss: 0.1029 - accuracy: 0.9601\n",
            "Epoch 45/50\n",
            "1200/1200 [==============================] - 3s 2ms/step - loss: 0.1024 - accuracy: 0.9608\n",
            "Epoch 46/50\n",
            "1200/1200 [==============================] - 3s 2ms/step - loss: 0.1053 - accuracy: 0.9607\n",
            "Epoch 47/50\n",
            "1200/1200 [==============================] - 3s 2ms/step - loss: 0.1042 - accuracy: 0.9606\n",
            "Epoch 48/50\n",
            "1200/1200 [==============================] - 3s 2ms/step - loss: 0.1008 - accuracy: 0.9615\n",
            "Epoch 49/50\n",
            "1200/1200 [==============================] - 3s 2ms/step - loss: 0.0961 - accuracy: 0.9630\n",
            "Epoch 50/50\n",
            "1200/1200 [==============================] - 3s 2ms/step - loss: 0.0966 - accuracy: 0.9638\n"
          ]
        },
        {
          "output_type": "execute_result",
          "data": {
            "text/plain": [
              "<keras.callbacks.History at 0x7f04a0446110>"
            ]
          },
          "metadata": {},
          "execution_count": 25
        }
      ]
    },
    {
      "cell_type": "code",
      "source": [
        "model.predict(x_test_scaled)[0]"
      ],
      "metadata": {
        "colab": {
          "base_uri": "https://localhost:8080/"
        },
        "id": "C9NOuDOTmIvb",
        "outputId": "0067d5ce-130d-4ccd-affc-9f36267088dd"
      },
      "execution_count": 26,
      "outputs": [
        {
          "output_type": "execute_result",
          "data": {
            "text/plain": [
              "array([4.1674325e-10, 5.9504952e-14, 6.7537315e-02, 9.8251562e-08,\n",
              "       1.6744288e-02, 5.2882475e-01, 5.3898082e-04, 9.9999452e-01,\n",
              "       8.2072099e-11, 1.0000000e+00], dtype=float32)"
            ]
          },
          "metadata": {},
          "execution_count": 26
        }
      ]
    },
    {
      "cell_type": "code",
      "source": [
        "y_predicted = model.predict(x_test_scaled)\n",
        "y_predicted = [np.argmax(i) for i in y_predicted]\n",
        "y_predicted[:5]"
      ],
      "metadata": {
        "colab": {
          "base_uri": "https://localhost:8080/"
        },
        "id": "sEI7ExBZmz1D",
        "outputId": "11734abe-4e61-4f3f-c401-dd24dc7d24a0"
      },
      "execution_count": 28,
      "outputs": [
        {
          "output_type": "execute_result",
          "data": {
            "text/plain": [
              "[9, 2, 1, 1, 6]"
            ]
          },
          "metadata": {},
          "execution_count": 28
        }
      ]
    },
    {
      "cell_type": "code",
      "source": [
        "def plot_actual(index):\n",
        "  #plt.figure(figsize=(20,5))\n",
        "  plt.imshow(x_test[index],cmap = plt.get_cmap('gray'))\n",
        "  plt.title(classes[y_test[index]])\n",
        "\n",
        "def plot_predicted(index):\n",
        "  plt.imshow(x_test[index],cmap = plt.get_cmap('gray'))\n",
        "  plt.title(classes[y_predicted[index]])"
      ],
      "metadata": {
        "id": "MJuL7nSKnBH1"
      },
      "execution_count": 33,
      "outputs": []
    },
    {
      "cell_type": "code",
      "source": [
        "plot_predicted(4)"
      ],
      "metadata": {
        "colab": {
          "base_uri": "https://localhost:8080/",
          "height": 281
        },
        "id": "QvvzEh_6njbH",
        "outputId": "428e9e92-9c35-4ec8-9d81-9563a9c1c982"
      },
      "execution_count": 35,
      "outputs": [
        {
          "output_type": "display_data",
          "data": {
            "text/plain": [
              "<Figure size 432x288 with 1 Axes>"
            ],
            "image/png": "[encoded data removed]"
          },
          "metadata": {
            "needs_background": "light"
          }
        }
      ]
    },
    {
      "cell_type": "code",
      "source": [
        "plot_actual(4)"
      ],
      "metadata": {
        "colab": {
          "base_uri": "https://localhost:8080/",
          "height": 281
        },
        "id": "lxMxYVYrnnib",
        "outputId": "7fe75c75-9731-4f9e-e4fe-68f1e24d31f7"
      },
      "execution_count": 36,
      "outputs": [
        {
          "output_type": "display_data",
          "data": {
            "text/plain": [
              "<Figure size 432x288 with 1 Axes>"
            ],
            "image/png": "[encoded data removed]"
          },
          "metadata": {
            "needs_background": "light"
          }
        }
      ]
    },
    {
      "cell_type": "code",
      "source": [
        "plot_predicted(784)"
      ],
      "metadata": {
        "colab": {
          "base_uri": "https://localhost:8080/",
          "height": 281
        },
        "id": "dz89kvEPnzc9",
        "outputId": "339bb38d-8078-4ff5-d37d-5f02e8a8f18f"
      },
      "execution_count": 38,
      "outputs": [
        {
          "output_type": "display_data",
          "data": {
            "text/plain": [
              "<Figure size 432x288 with 1 Axes>"
            ],
            "image/png": "[encoded data removed]"
          },
          "metadata": {
            "needs_background": "light"
          }
        }
      ]
    },
    {
      "cell_type": "code",
      "source": [
        "plot_actual(784)"
      ],
      "metadata": {
        "colab": {
          "base_uri": "https://localhost:8080/",
          "height": 281
        },
        "id": "cui8N1o-n25F",
        "outputId": "d15b09bc-2875-457f-cff7-50129863e4f6"
      },
      "execution_count": 39,
      "outputs": [
        {
          "output_type": "display_data",
          "data": {
            "text/plain": [
              "<Figure size 432x288 with 1 Axes>"
            ],
            "image/png": "[encoded data removed]"
          },
          "metadata": {
            "needs_background": "light"
          }
        }
      ]
    },
    {
      "cell_type": "code",
      "source": [
        "model.evaluate(x_test_scaled,y_test_categorical)"
      ],
      "metadata": {
        "colab": {
          "base_uri": "https://localhost:8080/"
        },
        "id": "FaurDVYSn7_B",
        "outputId": "1a9f034f-33db-43e7-c530-c0e83e792ee9"
      },
      "execution_count": 40,
      "outputs": [
        {
          "output_type": "stream",
          "name": "stdout",
          "text": [
            "313/313 [==============================] - 1s 2ms/step - loss: 0.5179 - accuracy: 0.8887\n"
          ]
        },
        {
          "output_type": "execute_result",
          "data": {
            "text/plain": [
              "[0.5178722143173218, 0.888700008392334]"
            ]
          },
          "metadata": {},
          "execution_count": 40
        }
      ]
    }
  ]
}