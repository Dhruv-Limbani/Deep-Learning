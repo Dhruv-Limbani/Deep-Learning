{
  "nbformat": 4,
  "nbformat_minor": 0,
  "metadata": {
    "colab": {
      "provenance": [],
      "collapsed_sections": [
        "1Q0lsumasEza",
        "D2YPlG5Wb32U",
        "4kBJ3DsFesV0",
        "lrQJP-cPkYYs"
      ],
      "authorship_tag": "ABX9TyPVY1YRl9N/lWNruSSGjB29"
    },
    "kernelspec": {
      "name": "python3",
      "display_name": "Python 3"
    },
    "language_info": {
      "name": "python"
    },
    "accelerator": "GPU",
    "gpuClass": "standard"
  },
  "cells": [
    {
      "cell_type": "markdown",
      "source": [
        "# Telco Customer Churn Prediction using ANN"
      ],
      "metadata": {
        "id": "Xwrb2wEC9e1F"
      }
    },
    {
      "cell_type": "code",
      "execution_count": 1,
      "metadata": {
        "id": "yM7rq5qLpKn8"
      },
      "outputs": [],
      "source": [
        "import tensorflow as tf\n",
        "from tensorflow import keras\n",
        "import numpy as np\n",
        "import pandas as pd\n",
        "import matplotlib.pyplot as plt"
      ]
    },
    {
      "cell_type": "code",
      "source": [
        "df = pd.read_csv(\"/content/customer_churn.csv\")\n",
        "df.head()"
      ],
      "metadata": {
        "colab": {
          "base_uri": "https://localhost:8080/",
          "height": 386
        },
        "id": "2uH6SykBs5Ah",
        "outputId": "b6ee4489-80bf-4738-d100-16ad9019997e"
      },
      "execution_count": 2,
      "outputs": [
        {
          "output_type": "execute_result",
          "data": {
            "text/plain": [
              "   customerID  gender  SeniorCitizen Partner Dependents  tenure PhoneService  \\\n",
              "0  7590-VHVEG  Female              0     Yes         No       1           No   \n",
              "1  5575-GNVDE    Male              0      No         No      34          Yes   \n",
              "2  3668-QPYBK    Male              0      No         No       2          Yes   \n",
              "3  7795-CFOCW    Male              0      No         No      45           No   \n",
              "4  9237-HQITU  Female              0      No         No       2          Yes   \n",
              "\n",
              "      MultipleLines InternetService OnlineSecurity  ... DeviceProtection  \\\n",
              "0  No phone service             DSL             No  ...               No   \n",
              "1                No             DSL            Yes  ...              Yes   \n",
              "2                No             DSL            Yes  ...               No   \n",
              "3  No phone service             DSL            Yes  ...              Yes   \n",
              "4                No     Fiber optic             No  ...               No   \n",
              "\n",
              "  TechSupport StreamingTV StreamingMovies        Contract PaperlessBilling  \\\n",
              "0          No          No              No  Month-to-month              Yes   \n",
              "1          No          No              No        One year               No   \n",
              "2          No          No              No  Month-to-month              Yes   \n",
              "3         Yes          No              No        One year               No   \n",
              "4          No          No              No  Month-to-month              Yes   \n",
              "\n",
              "               PaymentMethod MonthlyCharges  TotalCharges Churn  \n",
              "0           Electronic check          29.85         29.85    No  \n",
              "1               Mailed check          56.95        1889.5    No  \n",
              "2               Mailed check          53.85        108.15   Yes  \n",
              "3  Bank transfer (automatic)          42.30       1840.75    No  \n",
              "4           Electronic check          70.70        151.65   Yes  \n",
              "\n",
              "[5 rows x 21 columns]"
            ],
            "text/html": [
              "\n",
              "  <div id=\"df-ba57b921-66c4-4670-81cb-597a3f5cc257\">\n",
              "    <div class=\"colab-df-container\">\n",
              "      <div>\n",
              "<style scoped>\n",
              "    .dataframe tbody tr th:only-of-type {\n",
              "        vertical-align: middle;\n",
              "    }\n",
              "\n",
              "    .dataframe tbody tr th {\n",
              "        vertical-align: top;\n",
              "    }\n",
              "\n",
              "    .dataframe thead th {\n",
              "        text-align: right;\n",
              "    }\n",
              "</style>\n",
              "<table border=\"1\" class=\"dataframe\">\n",
              "  <thead>\n",
              "    <tr style=\"text-align: right;\">\n",
              "      <th></th>\n",
              "      <th>customerID</th>\n",
              "      <th>gender</th>\n",
              "      <th>SeniorCitizen</th>\n",
              "      <th>Partner</th>\n",
              "      <th>Dependents</th>\n",
              "      <th>tenure</th>\n",
              "      <th>PhoneService</th>\n",
              "      <th>MultipleLines</th>\n",
              "      <th>InternetService</th>\n",
              "      <th>OnlineSecurity</th>\n",
              "      <th>...</th>\n",
              "      <th>DeviceProtection</th>\n",
              "      <th>TechSupport</th>\n",
              "      <th>StreamingTV</th>\n",
              "      <th>StreamingMovies</th>\n",
              "      <th>Contract</th>\n",
              "      <th>PaperlessBilling</th>\n",
              "      <th>PaymentMethod</th>\n",
              "      <th>MonthlyCharges</th>\n",
              "      <th>TotalCharges</th>\n",
              "      <th>Churn</th>\n",
              "    </tr>\n",
              "  </thead>\n",
              "  <tbody>\n",
              "    <tr>\n",
              "      <th>0</th>\n",
              "      <td>7590-VHVEG</td>\n",
              "      <td>Female</td>\n",
              "      <td>0</td>\n",
              "      <td>Yes</td>\n",
              "      <td>No</td>\n",
              "      <td>1</td>\n",
              "      <td>No</td>\n",
              "      <td>No phone service</td>\n",
              "      <td>DSL</td>\n",
              "      <td>No</td>\n",
              "      <td>...</td>\n",
              "      <td>No</td>\n",
              "      <td>No</td>\n",
              "      <td>No</td>\n",
              "      <td>No</td>\n",
              "      <td>Month-to-month</td>\n",
              "      <td>Yes</td>\n",
              "      <td>Electronic check</td>\n",
              "      <td>29.85</td>\n",
              "      <td>29.85</td>\n",
              "      <td>No</td>\n",
              "    </tr>\n",
              "    <tr>\n",
              "      <th>1</th>\n",
              "      <td>5575-GNVDE</td>\n",
              "      <td>Male</td>\n",
              "      <td>0</td>\n",
              "      <td>No</td>\n",
              "      <td>No</td>\n",
              "      <td>34</td>\n",
              "      <td>Yes</td>\n",
              "      <td>No</td>\n",
              "      <td>DSL</td>\n",
              "      <td>Yes</td>\n",
              "      <td>...</td>\n",
              "      <td>Yes</td>\n",
              "      <td>No</td>\n",
              "      <td>No</td>\n",
              "      <td>No</td>\n",
              "      <td>One year</td>\n",
              "      <td>No</td>\n",
              "      <td>Mailed check</td>\n",
              "      <td>56.95</td>\n",
              "      <td>1889.5</td>\n",
              "      <td>No</td>\n",
              "    </tr>\n",
              "    <tr>\n",
              "      <th>2</th>\n",
              "      <td>3668-QPYBK</td>\n",
              "      <td>Male</td>\n",
              "      <td>0</td>\n",
              "      <td>No</td>\n",
              "      <td>No</td>\n",
              "      <td>2</td>\n",
              "      <td>Yes</td>\n",
              "      <td>No</td>\n",
              "      <td>DSL</td>\n",
              "      <td>Yes</td>\n",
              "      <td>...</td>\n",
              "      <td>No</td>\n",
              "      <td>No</td>\n",
              "      <td>No</td>\n",
              "      <td>No</td>\n",
              "      <td>Month-to-month</td>\n",
              "      <td>Yes</td>\n",
              "      <td>Mailed check</td>\n",
              "      <td>53.85</td>\n",
              "      <td>108.15</td>\n",
              "      <td>Yes</td>\n",
              "    </tr>\n",
              "    <tr>\n",
              "      <th>3</th>\n",
              "      <td>7795-CFOCW</td>\n",
              "      <td>Male</td>\n",
              "      <td>0</td>\n",
              "      <td>No</td>\n",
              "      <td>No</td>\n",
              "      <td>45</td>\n",
              "      <td>No</td>\n",
              "      <td>No phone service</td>\n",
              "      <td>DSL</td>\n",
              "      <td>Yes</td>\n",
              "      <td>...</td>\n",
              "      <td>Yes</td>\n",
              "      <td>Yes</td>\n",
              "      <td>No</td>\n",
              "      <td>No</td>\n",
              "      <td>One year</td>\n",
              "      <td>No</td>\n",
              "      <td>Bank transfer (automatic)</td>\n",
              "      <td>42.30</td>\n",
              "      <td>1840.75</td>\n",
              "      <td>No</td>\n",
              "    </tr>\n",
              "    <tr>\n",
              "      <th>4</th>\n",
              "      <td>9237-HQITU</td>\n",
              "      <td>Female</td>\n",
              "      <td>0</td>\n",
              "      <td>No</td>\n",
              "      <td>No</td>\n",
              "      <td>2</td>\n",
              "      <td>Yes</td>\n",
              "      <td>No</td>\n",
              "      <td>Fiber optic</td>\n",
              "      <td>No</td>\n",
              "      <td>...</td>\n",
              "      <td>No</td>\n",
              "      <td>No</td>\n",
              "      <td>No</td>\n",
              "      <td>No</td>\n",
              "      <td>Month-to-month</td>\n",
              "      <td>Yes</td>\n",
              "      <td>Electronic check</td>\n",
              "      <td>70.70</td>\n",
              "      <td>151.65</td>\n",
              "      <td>Yes</td>\n",
              "    </tr>\n",
              "  </tbody>\n",
              "</table>\n",
              "<p>5 rows × 21 columns</p>\n",
              "</div>\n",
              "      <button class=\"colab-df-convert\" onclick=\"convertToInteractive('df-ba57b921-66c4-4670-81cb-597a3f5cc257')\"\n",
              "              title=\"Convert this dataframe to an interactive table.\"\n",
              "              style=\"display:none;\">\n",
              "        \n",
              "  <svg xmlns=\"http://www.w3.org/2000/svg\" height=\"24px\"viewBox=\"0 0 24 24\"\n",
              "       width=\"24px\">\n",
              "    <path d=\"M0 0h24v24H0V0z\" fill=\"none\"/>\n",
              "    <path d=\"M18.56 5.44l.94 2.06.94-2.06 2.06-.94-2.06-.94-.94-2.06-.94 2.06-2.06.94zm-11 1L8.5 8.5l.94-2.06 2.06-.94-2.06-.94L8.5 2.5l-.94 2.06-2.06.94zm10 10l.94 2.06.94-2.06 2.06-.94-2.06-.94-.94-2.06-.94 2.06-2.06.94z\"/><path d=\"M17.41 7.96l-1.37-1.37c-.4-.4-.92-.59-1.43-.59-.52 0-1.04.2-1.43.59L10.3 9.45l-7.72 7.72c-.78.78-.78 2.05 0 2.83L4 21.41c.39.39.9.59 1.41.59.51 0 1.02-.2 1.41-.59l7.78-7.78 2.81-2.81c.8-.78.8-2.07 0-2.86zM5.41 20L4 18.59l7.72-7.72 1.47 1.35L5.41 20z\"/>\n",
              "  </svg>\n",
              "      </button>\n",
              "      \n",
              "  <style>\n",
              "    .colab-df-container {\n",
              "      display:flex;\n",
              "      flex-wrap:wrap;\n",
              "      gap: 12px;\n",
              "    }\n",
              "\n",
              "    .colab-df-convert {\n",
              "      background-color: #E8F0FE;\n",
              "      border: none;\n",
              "      border-radius: 50%;\n",
              "      cursor: pointer;\n",
              "      display: none;\n",
              "      fill: #1967D2;\n",
              "      height: 32px;\n",
              "      padding: 0 0 0 0;\n",
              "      width: 32px;\n",
              "    }\n",
              "\n",
              "    .colab-df-convert:hover {\n",
              "      background-color: #E2EBFA;\n",
              "      box-shadow: 0px 1px 2px rgba(60, 64, 67, 0.3), 0px 1px 3px 1px rgba(60, 64, 67, 0.15);\n",
              "      fill: #174EA6;\n",
              "    }\n",
              "\n",
              "    [theme=dark] .colab-df-convert {\n",
              "      background-color: #3B4455;\n",
              "      fill: #D2E3FC;\n",
              "    }\n",
              "\n",
              "    [theme=dark] .colab-df-convert:hover {\n",
              "      background-color: #434B5C;\n",
              "      box-shadow: 0px 1px 3px 1px rgba(0, 0, 0, 0.15);\n",
              "      filter: drop-shadow(0px 1px 2px rgba(0, 0, 0, 0.3));\n",
              "      fill: #FFFFFF;\n",
              "    }\n",
              "  </style>\n",
              "\n",
              "      <script>\n",
              "        const buttonEl =\n",
              "          document.querySelector('#df-ba57b921-66c4-4670-81cb-597a3f5cc257 button.colab-df-convert');\n",
              "        buttonEl.style.display =\n",
              "          google.colab.kernel.accessAllowed ? 'block' : 'none';\n",
              "\n",
              "        async function convertToInteractive(key) {\n",
              "          const element = document.querySelector('#df-ba57b921-66c4-4670-81cb-597a3f5cc257');\n",
              "          const dataTable =\n",
              "            await google.colab.kernel.invokeFunction('convertToInteractive',\n",
              "                                                     [key], {});\n",
              "          if (!dataTable) return;\n",
              "\n",
              "          const docLinkHtml = 'Like what you see? Visit the ' +\n",
              "            '<a target=\"_blank\" href=https://colab.research.google.com/notebooks/data_table.ipynb>data table notebook</a>'\n",
              "            + ' to learn more about interactive tables.';\n",
              "          element.innerHTML = '';\n",
              "          dataTable['output_type'] = 'display_data';\n",
              "          await google.colab.output.renderOutput(dataTable, element);\n",
              "          const docLink = document.createElement('div');\n",
              "          docLink.innerHTML = docLinkHtml;\n",
              "          element.appendChild(docLink);\n",
              "        }\n",
              "      </script>\n",
              "    </div>\n",
              "  </div>\n",
              "  "
            ]
          },
          "metadata": {},
          "execution_count": 2
        }
      ]
    },
    {
      "cell_type": "code",
      "source": [
        "df.drop('customerID', axis='columns', inplace=True)\n",
        "df.dtypes"
      ],
      "metadata": {
        "colab": {
          "base_uri": "https://localhost:8080/"
        },
        "id": "XOvXwdnhtClL",
        "outputId": "5329440f-24fd-4d22-9b64-ed807cb3f108"
      },
      "execution_count": 3,
      "outputs": [
        {
          "output_type": "execute_result",
          "data": {
            "text/plain": [
              "gender               object\n",
              "SeniorCitizen         int64\n",
              "Partner              object\n",
              "Dependents           object\n",
              "tenure                int64\n",
              "PhoneService         object\n",
              "MultipleLines        object\n",
              "InternetService      object\n",
              "OnlineSecurity       object\n",
              "OnlineBackup         object\n",
              "DeviceProtection     object\n",
              "TechSupport          object\n",
              "StreamingTV          object\n",
              "StreamingMovies      object\n",
              "Contract             object\n",
              "PaperlessBilling     object\n",
              "PaymentMethod        object\n",
              "MonthlyCharges      float64\n",
              "TotalCharges         object\n",
              "Churn                object\n",
              "dtype: object"
            ]
          },
          "metadata": {},
          "execution_count": 3
        }
      ]
    },
    {
      "cell_type": "code",
      "source": [
        "df.TotalCharges.values"
      ],
      "metadata": {
        "colab": {
          "base_uri": "https://localhost:8080/"
        },
        "id": "IYfZ3nFXtYF_",
        "outputId": "b657c9dd-1277-4e98-e004-66984ec3d3de"
      },
      "execution_count": 4,
      "outputs": [
        {
          "output_type": "execute_result",
          "data": {
            "text/plain": [
              "array(['29.85', '1889.5', '108.15', ..., '346.45', '306.6', '6844.5'],\n",
              "      dtype=object)"
            ]
          },
          "metadata": {},
          "execution_count": 4
        }
      ]
    },
    {
      "cell_type": "code",
      "source": [
        "df.MonthlyCharges.values"
      ],
      "metadata": {
        "colab": {
          "base_uri": "https://localhost:8080/"
        },
        "id": "QvQp3hYltobW",
        "outputId": "eeaec0a9-57ac-47d5-adaa-89e556104de9"
      },
      "execution_count": 5,
      "outputs": [
        {
          "output_type": "execute_result",
          "data": {
            "text/plain": [
              "array([ 29.85,  56.95,  53.85, ...,  29.6 ,  74.4 , 105.65])"
            ]
          },
          "metadata": {},
          "execution_count": 5
        }
      ]
    },
    {
      "cell_type": "code",
      "source": [
        "#pd.to_numeric(df.TotalCharges)"
      ],
      "metadata": {
        "id": "zf2cpebEttJ9"
      },
      "execution_count": 6,
      "outputs": []
    },
    {
      "cell_type": "code",
      "source": [
        "pd.to_numeric(df.TotalCharges, errors = 'coerce') # will ignore the error cases and put NA there "
      ],
      "metadata": {
        "colab": {
          "base_uri": "https://localhost:8080/"
        },
        "id": "vcMEfFomt6_k",
        "outputId": "76799669-e9a6-41ca-888c-9fe8c0f78c48"
      },
      "execution_count": 7,
      "outputs": [
        {
          "output_type": "execute_result",
          "data": {
            "text/plain": [
              "0         29.85\n",
              "1       1889.50\n",
              "2        108.15\n",
              "3       1840.75\n",
              "4        151.65\n",
              "         ...   \n",
              "7038    1990.50\n",
              "7039    7362.90\n",
              "7040     346.45\n",
              "7041     306.60\n",
              "7042    6844.50\n",
              "Name: TotalCharges, Length: 7043, dtype: float64"
            ]
          },
          "metadata": {},
          "execution_count": 7
        }
      ]
    },
    {
      "cell_type": "code",
      "source": [
        "df[pd.to_numeric(df.TotalCharges, errors = 'coerce').isnull()]"
      ],
      "metadata": {
        "colab": {
          "base_uri": "https://localhost:8080/",
          "height": 614
        },
        "id": "1MLxX-GjuIOm",
        "outputId": "ade4d28f-34de-4d8d-c345-2499a214bc73"
      },
      "execution_count": 8,
      "outputs": [
        {
          "output_type": "execute_result",
          "data": {
            "text/plain": [
              "      gender  SeniorCitizen Partner Dependents  tenure PhoneService  \\\n",
              "488   Female              0     Yes        Yes       0           No   \n",
              "753     Male              0      No        Yes       0          Yes   \n",
              "936   Female              0     Yes        Yes       0          Yes   \n",
              "1082    Male              0     Yes        Yes       0          Yes   \n",
              "1340  Female              0     Yes        Yes       0           No   \n",
              "3331    Male              0     Yes        Yes       0          Yes   \n",
              "3826    Male              0     Yes        Yes       0          Yes   \n",
              "4380  Female              0     Yes        Yes       0          Yes   \n",
              "5218    Male              0     Yes        Yes       0          Yes   \n",
              "6670  Female              0     Yes        Yes       0          Yes   \n",
              "6754    Male              0      No        Yes       0          Yes   \n",
              "\n",
              "         MultipleLines InternetService       OnlineSecurity  \\\n",
              "488   No phone service             DSL                  Yes   \n",
              "753                 No              No  No internet service   \n",
              "936                 No             DSL                  Yes   \n",
              "1082               Yes              No  No internet service   \n",
              "1340  No phone service             DSL                  Yes   \n",
              "3331                No              No  No internet service   \n",
              "3826               Yes              No  No internet service   \n",
              "4380                No              No  No internet service   \n",
              "5218                No              No  No internet service   \n",
              "6670               Yes             DSL                   No   \n",
              "6754               Yes             DSL                  Yes   \n",
              "\n",
              "             OnlineBackup     DeviceProtection          TechSupport  \\\n",
              "488                    No                  Yes                  Yes   \n",
              "753   No internet service  No internet service  No internet service   \n",
              "936                   Yes                  Yes                   No   \n",
              "1082  No internet service  No internet service  No internet service   \n",
              "1340                  Yes                  Yes                  Yes   \n",
              "3331  No internet service  No internet service  No internet service   \n",
              "3826  No internet service  No internet service  No internet service   \n",
              "4380  No internet service  No internet service  No internet service   \n",
              "5218  No internet service  No internet service  No internet service   \n",
              "6670                  Yes                  Yes                  Yes   \n",
              "6754                  Yes                   No                  Yes   \n",
              "\n",
              "              StreamingTV      StreamingMovies  Contract PaperlessBilling  \\\n",
              "488                   Yes                   No  Two year              Yes   \n",
              "753   No internet service  No internet service  Two year               No   \n",
              "936                   Yes                  Yes  Two year               No   \n",
              "1082  No internet service  No internet service  Two year               No   \n",
              "1340                  Yes                   No  Two year               No   \n",
              "3331  No internet service  No internet service  Two year               No   \n",
              "3826  No internet service  No internet service  Two year               No   \n",
              "4380  No internet service  No internet service  Two year               No   \n",
              "5218  No internet service  No internet service  One year              Yes   \n",
              "6670                  Yes                   No  Two year               No   \n",
              "6754                   No                   No  Two year              Yes   \n",
              "\n",
              "                  PaymentMethod  MonthlyCharges TotalCharges Churn  \n",
              "488   Bank transfer (automatic)           52.55                 No  \n",
              "753                Mailed check           20.25                 No  \n",
              "936                Mailed check           80.85                 No  \n",
              "1082               Mailed check           25.75                 No  \n",
              "1340    Credit card (automatic)           56.05                 No  \n",
              "3331               Mailed check           19.85                 No  \n",
              "3826               Mailed check           25.35                 No  \n",
              "4380               Mailed check           20.00                 No  \n",
              "5218               Mailed check           19.70                 No  \n",
              "6670               Mailed check           73.35                 No  \n",
              "6754  Bank transfer (automatic)           61.90                 No  "
            ],
            "text/html": [
              "\n",
              "  <div id=\"df-1f785828-ed00-4f9f-a047-7314242c2969\">\n",
              "    <div class=\"colab-df-container\">\n",
              "      <div>\n",
              "<style scoped>\n",
              "    .dataframe tbody tr th:only-of-type {\n",
              "        vertical-align: middle;\n",
              "    }\n",
              "\n",
              "    .dataframe tbody tr th {\n",
              "        vertical-align: top;\n",
              "    }\n",
              "\n",
              "    .dataframe thead th {\n",
              "        text-align: right;\n",
              "    }\n",
              "</style>\n",
              "<table border=\"1\" class=\"dataframe\">\n",
              "  <thead>\n",
              "    <tr style=\"text-align: right;\">\n",
              "      <th></th>\n",
              "      <th>gender</th>\n",
              "      <th>SeniorCitizen</th>\n",
              "      <th>Partner</th>\n",
              "      <th>Dependents</th>\n",
              "      <th>tenure</th>\n",
              "      <th>PhoneService</th>\n",
              "      <th>MultipleLines</th>\n",
              "      <th>InternetService</th>\n",
              "      <th>OnlineSecurity</th>\n",
              "      <th>OnlineBackup</th>\n",
              "      <th>DeviceProtection</th>\n",
              "      <th>TechSupport</th>\n",
              "      <th>StreamingTV</th>\n",
              "      <th>StreamingMovies</th>\n",
              "      <th>Contract</th>\n",
              "      <th>PaperlessBilling</th>\n",
              "      <th>PaymentMethod</th>\n",
              "      <th>MonthlyCharges</th>\n",
              "      <th>TotalCharges</th>\n",
              "      <th>Churn</th>\n",
              "    </tr>\n",
              "  </thead>\n",
              "  <tbody>\n",
              "    <tr>\n",
              "      <th>488</th>\n",
              "      <td>Female</td>\n",
              "      <td>0</td>\n",
              "      <td>Yes</td>\n",
              "      <td>Yes</td>\n",
              "      <td>0</td>\n",
              "      <td>No</td>\n",
              "      <td>No phone service</td>\n",
              "      <td>DSL</td>\n",
              "      <td>Yes</td>\n",
              "      <td>No</td>\n",
              "      <td>Yes</td>\n",
              "      <td>Yes</td>\n",
              "      <td>Yes</td>\n",
              "      <td>No</td>\n",
              "      <td>Two year</td>\n",
              "      <td>Yes</td>\n",
              "      <td>Bank transfer (automatic)</td>\n",
              "      <td>52.55</td>\n",
              "      <td></td>\n",
              "      <td>No</td>\n",
              "    </tr>\n",
              "    <tr>\n",
              "      <th>753</th>\n",
              "      <td>Male</td>\n",
              "      <td>0</td>\n",
              "      <td>No</td>\n",
              "      <td>Yes</td>\n",
              "      <td>0</td>\n",
              "      <td>Yes</td>\n",
              "      <td>No</td>\n",
              "      <td>No</td>\n",
              "      <td>No internet service</td>\n",
              "      <td>No internet service</td>\n",
              "      <td>No internet service</td>\n",
              "      <td>No internet service</td>\n",
              "      <td>No internet service</td>\n",
              "      <td>No internet service</td>\n",
              "      <td>Two year</td>\n",
              "      <td>No</td>\n",
              "      <td>Mailed check</td>\n",
              "      <td>20.25</td>\n",
              "      <td></td>\n",
              "      <td>No</td>\n",
              "    </tr>\n",
              "    <tr>\n",
              "      <th>936</th>\n",
              "      <td>Female</td>\n",
              "      <td>0</td>\n",
              "      <td>Yes</td>\n",
              "      <td>Yes</td>\n",
              "      <td>0</td>\n",
              "      <td>Yes</td>\n",
              "      <td>No</td>\n",
              "      <td>DSL</td>\n",
              "      <td>Yes</td>\n",
              "      <td>Yes</td>\n",
              "      <td>Yes</td>\n",
              "      <td>No</td>\n",
              "      <td>Yes</td>\n",
              "      <td>Yes</td>\n",
              "      <td>Two year</td>\n",
              "      <td>No</td>\n",
              "      <td>Mailed check</td>\n",
              "      <td>80.85</td>\n",
              "      <td></td>\n",
              "      <td>No</td>\n",
              "    </tr>\n",
              "    <tr>\n",
              "      <th>1082</th>\n",
              "      <td>Male</td>\n",
              "      <td>0</td>\n",
              "      <td>Yes</td>\n",
              "      <td>Yes</td>\n",
              "      <td>0</td>\n",
              "      <td>Yes</td>\n",
              "      <td>Yes</td>\n",
              "      <td>No</td>\n",
              "      <td>No internet service</td>\n",
              "      <td>No internet service</td>\n",
              "      <td>No internet service</td>\n",
              "      <td>No internet service</td>\n",
              "      <td>No internet service</td>\n",
              "      <td>No internet service</td>\n",
              "      <td>Two year</td>\n",
              "      <td>No</td>\n",
              "      <td>Mailed check</td>\n",
              "      <td>25.75</td>\n",
              "      <td></td>\n",
              "      <td>No</td>\n",
              "    </tr>\n",
              "    <tr>\n",
              "      <th>1340</th>\n",
              "      <td>Female</td>\n",
              "      <td>0</td>\n",
              "      <td>Yes</td>\n",
              "      <td>Yes</td>\n",
              "      <td>0</td>\n",
              "      <td>No</td>\n",
              "      <td>No phone service</td>\n",
              "      <td>DSL</td>\n",
              "      <td>Yes</td>\n",
              "      <td>Yes</td>\n",
              "      <td>Yes</td>\n",
              "      <td>Yes</td>\n",
              "      <td>Yes</td>\n",
              "      <td>No</td>\n",
              "      <td>Two year</td>\n",
              "      <td>No</td>\n",
              "      <td>Credit card (automatic)</td>\n",
              "      <td>56.05</td>\n",
              "      <td></td>\n",
              "      <td>No</td>\n",
              "    </tr>\n",
              "    <tr>\n",
              "      <th>3331</th>\n",
              "      <td>Male</td>\n",
              "      <td>0</td>\n",
              "      <td>Yes</td>\n",
              "      <td>Yes</td>\n",
              "      <td>0</td>\n",
              "      <td>Yes</td>\n",
              "      <td>No</td>\n",
              "      <td>No</td>\n",
              "      <td>No internet service</td>\n",
              "      <td>No internet service</td>\n",
              "      <td>No internet service</td>\n",
              "      <td>No internet service</td>\n",
              "      <td>No internet service</td>\n",
              "      <td>No internet service</td>\n",
              "      <td>Two year</td>\n",
              "      <td>No</td>\n",
              "      <td>Mailed check</td>\n",
              "      <td>19.85</td>\n",
              "      <td></td>\n",
              "      <td>No</td>\n",
              "    </tr>\n",
              "    <tr>\n",
              "      <th>3826</th>\n",
              "      <td>Male</td>\n",
              "      <td>0</td>\n",
              "      <td>Yes</td>\n",
              "      <td>Yes</td>\n",
              "      <td>0</td>\n",
              "      <td>Yes</td>\n",
              "      <td>Yes</td>\n",
              "      <td>No</td>\n",
              "      <td>No internet service</td>\n",
              "      <td>No internet service</td>\n",
              "      <td>No internet service</td>\n",
              "      <td>No internet service</td>\n",
              "      <td>No internet service</td>\n",
              "      <td>No internet service</td>\n",
              "      <td>Two year</td>\n",
              "      <td>No</td>\n",
              "      <td>Mailed check</td>\n",
              "      <td>25.35</td>\n",
              "      <td></td>\n",
              "      <td>No</td>\n",
              "    </tr>\n",
              "    <tr>\n",
              "      <th>4380</th>\n",
              "      <td>Female</td>\n",
              "      <td>0</td>\n",
              "      <td>Yes</td>\n",
              "      <td>Yes</td>\n",
              "      <td>0</td>\n",
              "      <td>Yes</td>\n",
              "      <td>No</td>\n",
              "      <td>No</td>\n",
              "      <td>No internet service</td>\n",
              "      <td>No internet service</td>\n",
              "      <td>No internet service</td>\n",
              "      <td>No internet service</td>\n",
              "      <td>No internet service</td>\n",
              "      <td>No internet service</td>\n",
              "      <td>Two year</td>\n",
              "      <td>No</td>\n",
              "      <td>Mailed check</td>\n",
              "      <td>20.00</td>\n",
              "      <td></td>\n",
              "      <td>No</td>\n",
              "    </tr>\n",
              "    <tr>\n",
              "      <th>5218</th>\n",
              "      <td>Male</td>\n",
              "      <td>0</td>\n",
              "      <td>Yes</td>\n",
              "      <td>Yes</td>\n",
              "      <td>0</td>\n",
              "      <td>Yes</td>\n",
              "      <td>No</td>\n",
              "      <td>No</td>\n",
              "      <td>No internet service</td>\n",
              "      <td>No internet service</td>\n",
              "      <td>No internet service</td>\n",
              "      <td>No internet service</td>\n",
              "      <td>No internet service</td>\n",
              "      <td>No internet service</td>\n",
              "      <td>One year</td>\n",
              "      <td>Yes</td>\n",
              "      <td>Mailed check</td>\n",
              "      <td>19.70</td>\n",
              "      <td></td>\n",
              "      <td>No</td>\n",
              "    </tr>\n",
              "    <tr>\n",
              "      <th>6670</th>\n",
              "      <td>Female</td>\n",
              "      <td>0</td>\n",
              "      <td>Yes</td>\n",
              "      <td>Yes</td>\n",
              "      <td>0</td>\n",
              "      <td>Yes</td>\n",
              "      <td>Yes</td>\n",
              "      <td>DSL</td>\n",
              "      <td>No</td>\n",
              "      <td>Yes</td>\n",
              "      <td>Yes</td>\n",
              "      <td>Yes</td>\n",
              "      <td>Yes</td>\n",
              "      <td>No</td>\n",
              "      <td>Two year</td>\n",
              "      <td>No</td>\n",
              "      <td>Mailed check</td>\n",
              "      <td>73.35</td>\n",
              "      <td></td>\n",
              "      <td>No</td>\n",
              "    </tr>\n",
              "    <tr>\n",
              "      <th>6754</th>\n",
              "      <td>Male</td>\n",
              "      <td>0</td>\n",
              "      <td>No</td>\n",
              "      <td>Yes</td>\n",
              "      <td>0</td>\n",
              "      <td>Yes</td>\n",
              "      <td>Yes</td>\n",
              "      <td>DSL</td>\n",
              "      <td>Yes</td>\n",
              "      <td>Yes</td>\n",
              "      <td>No</td>\n",
              "      <td>Yes</td>\n",
              "      <td>No</td>\n",
              "      <td>No</td>\n",
              "      <td>Two year</td>\n",
              "      <td>Yes</td>\n",
              "      <td>Bank transfer (automatic)</td>\n",
              "      <td>61.90</td>\n",
              "      <td></td>\n",
              "      <td>No</td>\n",
              "    </tr>\n",
              "  </tbody>\n",
              "</table>\n",
              "</div>\n",
              "      <button class=\"colab-df-convert\" onclick=\"convertToInteractive('df-1f785828-ed00-4f9f-a047-7314242c2969')\"\n",
              "              title=\"Convert this dataframe to an interactive table.\"\n",
              "              style=\"display:none;\">\n",
              "        \n",
              "  <svg xmlns=\"http://www.w3.org/2000/svg\" height=\"24px\"viewBox=\"0 0 24 24\"\n",
              "       width=\"24px\">\n",
              "    <path d=\"M0 0h24v24H0V0z\" fill=\"none\"/>\n",
              "    <path d=\"M18.56 5.44l.94 2.06.94-2.06 2.06-.94-2.06-.94-.94-2.06-.94 2.06-2.06.94zm-11 1L8.5 8.5l.94-2.06 2.06-.94-2.06-.94L8.5 2.5l-.94 2.06-2.06.94zm10 10l.94 2.06.94-2.06 2.06-.94-2.06-.94-.94-2.06-.94 2.06-2.06.94z\"/><path d=\"M17.41 7.96l-1.37-1.37c-.4-.4-.92-.59-1.43-.59-.52 0-1.04.2-1.43.59L10.3 9.45l-7.72 7.72c-.78.78-.78 2.05 0 2.83L4 21.41c.39.39.9.59 1.41.59.51 0 1.02-.2 1.41-.59l7.78-7.78 2.81-2.81c.8-.78.8-2.07 0-2.86zM5.41 20L4 18.59l7.72-7.72 1.47 1.35L5.41 20z\"/>\n",
              "  </svg>\n",
              "      </button>\n",
              "      \n",
              "  <style>\n",
              "    .colab-df-container {\n",
              "      display:flex;\n",
              "      flex-wrap:wrap;\n",
              "      gap: 12px;\n",
              "    }\n",
              "\n",
              "    .colab-df-convert {\n",
              "      background-color: #E8F0FE;\n",
              "      border: none;\n",
              "      border-radius: 50%;\n",
              "      cursor: pointer;\n",
              "      display: none;\n",
              "      fill: #1967D2;\n",
              "      height: 32px;\n",
              "      padding: 0 0 0 0;\n",
              "      width: 32px;\n",
              "    }\n",
              "\n",
              "    .colab-df-convert:hover {\n",
              "      background-color: #E2EBFA;\n",
              "      box-shadow: 0px 1px 2px rgba(60, 64, 67, 0.3), 0px 1px 3px 1px rgba(60, 64, 67, 0.15);\n",
              "      fill: #174EA6;\n",
              "    }\n",
              "\n",
              "    [theme=dark] .colab-df-convert {\n",
              "      background-color: #3B4455;\n",
              "      fill: #D2E3FC;\n",
              "    }\n",
              "\n",
              "    [theme=dark] .colab-df-convert:hover {\n",
              "      background-color: #434B5C;\n",
              "      box-shadow: 0px 1px 3px 1px rgba(0, 0, 0, 0.15);\n",
              "      filter: drop-shadow(0px 1px 2px rgba(0, 0, 0, 0.3));\n",
              "      fill: #FFFFFF;\n",
              "    }\n",
              "  </style>\n",
              "\n",
              "      <script>\n",
              "        const buttonEl =\n",
              "          document.querySelector('#df-1f785828-ed00-4f9f-a047-7314242c2969 button.colab-df-convert');\n",
              "        buttonEl.style.display =\n",
              "          google.colab.kernel.accessAllowed ? 'block' : 'none';\n",
              "\n",
              "        async function convertToInteractive(key) {\n",
              "          const element = document.querySelector('#df-1f785828-ed00-4f9f-a047-7314242c2969');\n",
              "          const dataTable =\n",
              "            await google.colab.kernel.invokeFunction('convertToInteractive',\n",
              "                                                     [key], {});\n",
              "          if (!dataTable) return;\n",
              "\n",
              "          const docLinkHtml = 'Like what you see? Visit the ' +\n",
              "            '<a target=\"_blank\" href=https://colab.research.google.com/notebooks/data_table.ipynb>data table notebook</a>'\n",
              "            + ' to learn more about interactive tables.';\n",
              "          element.innerHTML = '';\n",
              "          dataTable['output_type'] = 'display_data';\n",
              "          await google.colab.output.renderOutput(dataTable, element);\n",
              "          const docLink = document.createElement('div');\n",
              "          docLink.innerHTML = docLinkHtml;\n",
              "          element.appendChild(docLink);\n",
              "        }\n",
              "      </script>\n",
              "    </div>\n",
              "  </div>\n",
              "  "
            ]
          },
          "metadata": {},
          "execution_count": 8
        }
      ]
    },
    {
      "cell_type": "code",
      "source": [
        "print(df.shape)\n",
        "df1 = df[df.TotalCharges!=' '].copy()\n",
        "df1.shape"
      ],
      "metadata": {
        "colab": {
          "base_uri": "https://localhost:8080/"
        },
        "id": "PDAqnXz9ub24",
        "outputId": "fcc72f51-4ba2-437d-8f18-a8d9dbe23940"
      },
      "execution_count": 9,
      "outputs": [
        {
          "output_type": "stream",
          "name": "stdout",
          "text": [
            "(7043, 20)\n"
          ]
        },
        {
          "output_type": "execute_result",
          "data": {
            "text/plain": [
              "(7032, 20)"
            ]
          },
          "metadata": {},
          "execution_count": 9
        }
      ]
    },
    {
      "cell_type": "code",
      "source": [
        "df1.dtypes"
      ],
      "metadata": {
        "colab": {
          "base_uri": "https://localhost:8080/"
        },
        "id": "kSSL8po0u5Q_",
        "outputId": "4e0f560b-c19c-4419-8b50-457454fadd61"
      },
      "execution_count": 10,
      "outputs": [
        {
          "output_type": "execute_result",
          "data": {
            "text/plain": [
              "gender               object\n",
              "SeniorCitizen         int64\n",
              "Partner              object\n",
              "Dependents           object\n",
              "tenure                int64\n",
              "PhoneService         object\n",
              "MultipleLines        object\n",
              "InternetService      object\n",
              "OnlineSecurity       object\n",
              "OnlineBackup         object\n",
              "DeviceProtection     object\n",
              "TechSupport          object\n",
              "StreamingTV          object\n",
              "StreamingMovies      object\n",
              "Contract             object\n",
              "PaperlessBilling     object\n",
              "PaymentMethod        object\n",
              "MonthlyCharges      float64\n",
              "TotalCharges         object\n",
              "Churn                object\n",
              "dtype: object"
            ]
          },
          "metadata": {},
          "execution_count": 10
        }
      ]
    },
    {
      "cell_type": "code",
      "source": [
        "df1.TotalCharges = pd.to_numeric(df1.TotalCharges)\n",
        "df1.dtypes"
      ],
      "metadata": {
        "colab": {
          "base_uri": "https://localhost:8080/"
        },
        "id": "u5WpfBOxu9_6",
        "outputId": "b5f8cd5c-4ef2-4c3c-c920-a6fd478b11a9"
      },
      "execution_count": 11,
      "outputs": [
        {
          "output_type": "execute_result",
          "data": {
            "text/plain": [
              "gender               object\n",
              "SeniorCitizen         int64\n",
              "Partner              object\n",
              "Dependents           object\n",
              "tenure                int64\n",
              "PhoneService         object\n",
              "MultipleLines        object\n",
              "InternetService      object\n",
              "OnlineSecurity       object\n",
              "OnlineBackup         object\n",
              "DeviceProtection     object\n",
              "TechSupport          object\n",
              "StreamingTV          object\n",
              "StreamingMovies      object\n",
              "Contract             object\n",
              "PaperlessBilling     object\n",
              "PaymentMethod        object\n",
              "MonthlyCharges      float64\n",
              "TotalCharges        float64\n",
              "Churn                object\n",
              "dtype: object"
            ]
          },
          "metadata": {},
          "execution_count": 11
        }
      ]
    },
    {
      "cell_type": "code",
      "source": [
        "tenure_churn_no = df1[df1.Churn=='No'].tenure\n",
        "tenure_churn_yes = df1[df1.Churn=='Yes'].tenure\n",
        "plt.hist([tenure_churn_no,tenure_churn_yes],label=['Churn=No','Churn=Yes'])\n",
        "plt.xlabel('Tenure')\n",
        "plt.ylabel('Number of Customers')\n",
        "plt.title('Customer Churn Prediction')\n",
        "plt.legend()"
      ],
      "metadata": {
        "colab": {
          "base_uri": "https://localhost:8080/",
          "height": 402
        },
        "id": "EYOk2sfWvNDD",
        "outputId": "93f317a9-b531-43a9-c006-1c889fa52d1c"
      },
      "execution_count": 12,
      "outputs": [
        {
          "output_type": "stream",
          "name": "stderr",
          "text": [
            "/usr/local/lib/python3.7/dist-packages/numpy/core/fromnumeric.py:3208: VisibleDeprecationWarning: Creating an ndarray from ragged nested sequences (which is a list-or-tuple of lists-or-tuples-or ndarrays with different lengths or shapes) is deprecated. If you meant to do this, you must specify 'dtype=object' when creating the ndarray.\n",
            "  return asarray(a).size\n",
            "/usr/local/lib/python3.7/dist-packages/matplotlib/cbook/__init__.py:1376: VisibleDeprecationWarning: Creating an ndarray from ragged nested sequences (which is a list-or-tuple of lists-or-tuples-or ndarrays with different lengths or shapes) is deprecated. If you meant to do this, you must specify 'dtype=object' when creating the ndarray.\n",
            "  X = np.atleast_1d(X.T if isinstance(X, np.ndarray) else np.asarray(X))\n"
          ]
        },
        {
          "output_type": "execute_result",
          "data": {
            "text/plain": [
              "<matplotlib.legend.Legend at 0x7f3900b94610>"
            ]
          },
          "metadata": {},
          "execution_count": 12
        },
        {
          "output_type": "display_data",
          "data": {
            "text/plain": [
              "<Figure size 432x288 with 1 Axes>"
            ],
            "image/png": "[encoded data removed]"
          },
          "metadata": {
            "needs_background": "light"
          }
        }
      ]
    },
    {
      "cell_type": "code",
      "source": [
        "mc_churn_no = df1[df1.Churn=='No'].MonthlyCharges\n",
        "mc_churn_yes = df1[df1.Churn=='Yes'].MonthlyCharges\n",
        "plt.hist([mc_churn_no,mc_churn_yes],label=['Churn=No','Churn=Yes'])\n",
        "plt.xlabel('Monthly Charges')\n",
        "plt.ylabel('Number of Customers')\n",
        "plt.title('Customer Churn Prediction')\n",
        "plt.legend()"
      ],
      "metadata": {
        "colab": {
          "base_uri": "https://localhost:8080/",
          "height": 312
        },
        "id": "_axBIhA-wOXO",
        "outputId": "3f643312-735f-4dd1-af03-929c9513a8b6"
      },
      "execution_count": 13,
      "outputs": [
        {
          "output_type": "execute_result",
          "data": {
            "text/plain": [
              "<matplotlib.legend.Legend at 0x7f39009f1690>"
            ]
          },
          "metadata": {},
          "execution_count": 13
        },
        {
          "output_type": "display_data",
          "data": {
            "text/plain": [
              "<Figure size 432x288 with 1 Axes>"
            ],
            "image/png": "[encoded data removed]"
          },
          "metadata": {
            "needs_background": "light"
          }
        }
      ]
    },
    {
      "cell_type": "code",
      "source": [
        "def print_unique_values(df):\n",
        "  for x in df.columns:\n",
        "    if df[x].dtype == 'object':\n",
        "      print(f'{x} : {np.unique(df[x])}')"
      ],
      "metadata": {
        "id": "Yc2FCzGHx9PI"
      },
      "execution_count": 14,
      "outputs": []
    },
    {
      "cell_type": "code",
      "source": [
        "print_unique_values(df1)"
      ],
      "metadata": {
        "colab": {
          "base_uri": "https://localhost:8080/"
        },
        "id": "UvjlbwFrydx6",
        "outputId": "3dcbd9f9-7e66-4c91-8193-219611db9764"
      },
      "execution_count": 15,
      "outputs": [
        {
          "output_type": "stream",
          "name": "stdout",
          "text": [
            "gender : ['Female' 'Male']\n",
            "Partner : ['No' 'Yes']\n",
            "Dependents : ['No' 'Yes']\n",
            "PhoneService : ['No' 'Yes']\n",
            "MultipleLines : ['No' 'No phone service' 'Yes']\n",
            "InternetService : ['DSL' 'Fiber optic' 'No']\n",
            "OnlineSecurity : ['No' 'No internet service' 'Yes']\n",
            "OnlineBackup : ['No' 'No internet service' 'Yes']\n",
            "DeviceProtection : ['No' 'No internet service' 'Yes']\n",
            "TechSupport : ['No' 'No internet service' 'Yes']\n",
            "StreamingTV : ['No' 'No internet service' 'Yes']\n",
            "StreamingMovies : ['No' 'No internet service' 'Yes']\n",
            "Contract : ['Month-to-month' 'One year' 'Two year']\n",
            "PaperlessBilling : ['No' 'Yes']\n",
            "PaymentMethod : ['Bank transfer (automatic)' 'Credit card (automatic)' 'Electronic check'\n",
            " 'Mailed check']\n",
            "Churn : ['No' 'Yes']\n"
          ]
        }
      ]
    },
    {
      "cell_type": "code",
      "source": [
        "df1.replace('No internet service', 'No', inplace=True)\n",
        "df1.replace('No phone service', 'No', inplace=True)"
      ],
      "metadata": {
        "id": "LXT-tqzMzRln"
      },
      "execution_count": 16,
      "outputs": []
    },
    {
      "cell_type": "code",
      "source": [
        "print_unique_values(df1)"
      ],
      "metadata": {
        "colab": {
          "base_uri": "https://localhost:8080/"
        },
        "id": "GSTKX3iUz3gC",
        "outputId": "3df11738-f0b0-4643-8012-c945a557ac90"
      },
      "execution_count": 17,
      "outputs": [
        {
          "output_type": "stream",
          "name": "stdout",
          "text": [
            "gender : ['Female' 'Male']\n",
            "Partner : ['No' 'Yes']\n",
            "Dependents : ['No' 'Yes']\n",
            "PhoneService : ['No' 'Yes']\n",
            "MultipleLines : ['No' 'Yes']\n",
            "InternetService : ['DSL' 'Fiber optic' 'No']\n",
            "OnlineSecurity : ['No' 'Yes']\n",
            "OnlineBackup : ['No' 'Yes']\n",
            "DeviceProtection : ['No' 'Yes']\n",
            "TechSupport : ['No' 'Yes']\n",
            "StreamingTV : ['No' 'Yes']\n",
            "StreamingMovies : ['No' 'Yes']\n",
            "Contract : ['Month-to-month' 'One year' 'Two year']\n",
            "PaperlessBilling : ['No' 'Yes']\n",
            "PaymentMethod : ['Bank transfer (automatic)' 'Credit card (automatic)' 'Electronic check'\n",
            " 'Mailed check']\n",
            "Churn : ['No' 'Yes']\n"
          ]
        }
      ]
    },
    {
      "cell_type": "code",
      "source": [
        "yes_no_columns = [x for x in df1.columns if len(np.unique(df1[x]))==2 and np.unique(df1[x])[0] == 'No']\n",
        "yes_no_columns"
      ],
      "metadata": {
        "colab": {
          "base_uri": "https://localhost:8080/"
        },
        "id": "QRNOlpMH01_w",
        "outputId": "884485cc-73af-428e-c54e-6c35e416443e"
      },
      "execution_count": 18,
      "outputs": [
        {
          "output_type": "execute_result",
          "data": {
            "text/plain": [
              "['Partner',\n",
              " 'Dependents',\n",
              " 'PhoneService',\n",
              " 'MultipleLines',\n",
              " 'OnlineSecurity',\n",
              " 'OnlineBackup',\n",
              " 'DeviceProtection',\n",
              " 'TechSupport',\n",
              " 'StreamingTV',\n",
              " 'StreamingMovies',\n",
              " 'PaperlessBilling',\n",
              " 'Churn']"
            ]
          },
          "metadata": {},
          "execution_count": 18
        }
      ]
    },
    {
      "cell_type": "code",
      "source": [
        "for col in yes_no_columns:\n",
        "  df1[col].replace({'Yes':1, 'No':0}, inplace = True)"
      ],
      "metadata": {
        "id": "ueJzgzGH1LNz"
      },
      "execution_count": 19,
      "outputs": []
    },
    {
      "cell_type": "code",
      "source": [
        "for col in df1:\n",
        "  print(f\"{col} : {df1[col].unique()}\")"
      ],
      "metadata": {
        "colab": {
          "base_uri": "https://localhost:8080/"
        },
        "id": "S8_8Mb2c2BTH",
        "outputId": "0aad9676-c0e5-4421-b4cb-01386a7d8af7"
      },
      "execution_count": 20,
      "outputs": [
        {
          "output_type": "stream",
          "name": "stdout",
          "text": [
            "gender : ['Female' 'Male']\n",
            "SeniorCitizen : [0 1]\n",
            "Partner : [1 0]\n",
            "Dependents : [0 1]\n",
            "tenure : [ 1 34  2 45  8 22 10 28 62 13 16 58 49 25 69 52 71 21 12 30 47 72 17 27\n",
            "  5 46 11 70 63 43 15 60 18 66  9  3 31 50 64 56  7 42 35 48 29 65 38 68\n",
            " 32 55 37 36 41  6  4 33 67 23 57 61 14 20 53 40 59 24 44 19 54 51 26 39]\n",
            "PhoneService : [0 1]\n",
            "MultipleLines : [0 1]\n",
            "InternetService : ['DSL' 'Fiber optic' 'No']\n",
            "OnlineSecurity : [0 1]\n",
            "OnlineBackup : [1 0]\n",
            "DeviceProtection : [0 1]\n",
            "TechSupport : [0 1]\n",
            "StreamingTV : [0 1]\n",
            "StreamingMovies : [0 1]\n",
            "Contract : ['Month-to-month' 'One year' 'Two year']\n",
            "PaperlessBilling : [1 0]\n",
            "PaymentMethod : ['Electronic check' 'Mailed check' 'Bank transfer (automatic)'\n",
            " 'Credit card (automatic)']\n",
            "MonthlyCharges : [29.85 56.95 53.85 ... 63.1  44.2  78.7 ]\n",
            "TotalCharges : [  29.85 1889.5   108.15 ...  346.45  306.6  6844.5 ]\n",
            "Churn : [0 1]\n"
          ]
        }
      ]
    },
    {
      "cell_type": "code",
      "source": [
        "df1['gender'].replace({'Female':0,'Male':1}, inplace=True)"
      ],
      "metadata": {
        "id": "cWekyiBD2FU4"
      },
      "execution_count": 21,
      "outputs": []
    },
    {
      "cell_type": "code",
      "source": [
        "df2 = pd.get_dummies(data=df1,columns=['InternetService', 'Contract', 'PaymentMethod'])\n",
        "df2.columns"
      ],
      "metadata": {
        "colab": {
          "base_uri": "https://localhost:8080/"
        },
        "id": "94fb67k92v3l",
        "outputId": "5da29de8-5dd9-4cd6-d5e1-8d004745cd85"
      },
      "execution_count": 22,
      "outputs": [
        {
          "output_type": "execute_result",
          "data": {
            "text/plain": [
              "Index(['gender', 'SeniorCitizen', 'Partner', 'Dependents', 'tenure',\n",
              "       'PhoneService', 'MultipleLines', 'OnlineSecurity', 'OnlineBackup',\n",
              "       'DeviceProtection', 'TechSupport', 'StreamingTV', 'StreamingMovies',\n",
              "       'PaperlessBilling', 'MonthlyCharges', 'TotalCharges', 'Churn',\n",
              "       'InternetService_DSL', 'InternetService_Fiber optic',\n",
              "       'InternetService_No', 'Contract_Month-to-month', 'Contract_One year',\n",
              "       'Contract_Two year', 'PaymentMethod_Bank transfer (automatic)',\n",
              "       'PaymentMethod_Credit card (automatic)',\n",
              "       'PaymentMethod_Electronic check', 'PaymentMethod_Mailed check'],\n",
              "      dtype='object')"
            ]
          },
          "metadata": {},
          "execution_count": 22
        }
      ]
    },
    {
      "cell_type": "code",
      "source": [
        "df2.head()"
      ],
      "metadata": {
        "colab": {
          "base_uri": "https://localhost:8080/",
          "height": 334
        },
        "id": "OLKPTGAn3Z8u",
        "outputId": "8b8f1066-6595-4cab-973d-3a4864260173"
      },
      "execution_count": 23,
      "outputs": [
        {
          "output_type": "execute_result",
          "data": {
            "text/plain": [
              "   gender  SeniorCitizen  Partner  Dependents  tenure  PhoneService  \\\n",
              "0       0              0        1           0       1             0   \n",
              "1       1              0        0           0      34             1   \n",
              "2       1              0        0           0       2             1   \n",
              "3       1              0        0           0      45             0   \n",
              "4       0              0        0           0       2             1   \n",
              "\n",
              "   MultipleLines  OnlineSecurity  OnlineBackup  DeviceProtection  ...  \\\n",
              "0              0               0             1                 0  ...   \n",
              "1              0               1             0                 1  ...   \n",
              "2              0               1             1                 0  ...   \n",
              "3              0               1             0                 1  ...   \n",
              "4              0               0             0                 0  ...   \n",
              "\n",
              "   InternetService_DSL  InternetService_Fiber optic  InternetService_No  \\\n",
              "0                    1                            0                   0   \n",
              "1                    1                            0                   0   \n",
              "2                    1                            0                   0   \n",
              "3                    1                            0                   0   \n",
              "4                    0                            1                   0   \n",
              "\n",
              "   Contract_Month-to-month  Contract_One year  Contract_Two year  \\\n",
              "0                        1                  0                  0   \n",
              "1                        0                  1                  0   \n",
              "2                        1                  0                  0   \n",
              "3                        0                  1                  0   \n",
              "4                        1                  0                  0   \n",
              "\n",
              "   PaymentMethod_Bank transfer (automatic)  \\\n",
              "0                                        0   \n",
              "1                                        0   \n",
              "2                                        0   \n",
              "3                                        1   \n",
              "4                                        0   \n",
              "\n",
              "   PaymentMethod_Credit card (automatic)  PaymentMethod_Electronic check  \\\n",
              "0                                      0                               1   \n",
              "1                                      0                               0   \n",
              "2                                      0                               0   \n",
              "3                                      0                               0   \n",
              "4                                      0                               1   \n",
              "\n",
              "   PaymentMethod_Mailed check  \n",
              "0                           0  \n",
              "1                           1  \n",
              "2                           1  \n",
              "3                           0  \n",
              "4                           0  \n",
              "\n",
              "[5 rows x 27 columns]"
            ],
            "text/html": [
              "\n",
              "  <div id=\"df-a7658aef-7bfc-4351-97d6-1488f8bdc203\">\n",
              "    <div class=\"colab-df-container\">\n",
              "      <div>\n",
              "<style scoped>\n",
              "    .dataframe tbody tr th:only-of-type {\n",
              "        vertical-align: middle;\n",
              "    }\n",
              "\n",
              "    .dataframe tbody tr th {\n",
              "        vertical-align: top;\n",
              "    }\n",
              "\n",
              "    .dataframe thead th {\n",
              "        text-align: right;\n",
              "    }\n",
              "</style>\n",
              "<table border=\"1\" class=\"dataframe\">\n",
              "  <thead>\n",
              "    <tr style=\"text-align: right;\">\n",
              "      <th></th>\n",
              "      <th>gender</th>\n",
              "      <th>SeniorCitizen</th>\n",
              "      <th>Partner</th>\n",
              "      <th>Dependents</th>\n",
              "      <th>tenure</th>\n",
              "      <th>PhoneService</th>\n",
              "      <th>MultipleLines</th>\n",
              "      <th>OnlineSecurity</th>\n",
              "      <th>OnlineBackup</th>\n",
              "      <th>DeviceProtection</th>\n",
              "      <th>...</th>\n",
              "      <th>InternetService_DSL</th>\n",
              "      <th>InternetService_Fiber optic</th>\n",
              "      <th>InternetService_No</th>\n",
              "      <th>Contract_Month-to-month</th>\n",
              "      <th>Contract_One year</th>\n",
              "      <th>Contract_Two year</th>\n",
              "      <th>PaymentMethod_Bank transfer (automatic)</th>\n",
              "      <th>PaymentMethod_Credit card (automatic)</th>\n",
              "      <th>PaymentMethod_Electronic check</th>\n",
              "      <th>PaymentMethod_Mailed check</th>\n",
              "    </tr>\n",
              "  </thead>\n",
              "  <tbody>\n",
              "    <tr>\n",
              "      <th>0</th>\n",
              "      <td>0</td>\n",
              "      <td>0</td>\n",
              "      <td>1</td>\n",
              "      <td>0</td>\n",
              "      <td>1</td>\n",
              "      <td>0</td>\n",
              "      <td>0</td>\n",
              "      <td>0</td>\n",
              "      <td>1</td>\n",
              "      <td>0</td>\n",
              "      <td>...</td>\n",
              "      <td>1</td>\n",
              "      <td>0</td>\n",
              "      <td>0</td>\n",
              "      <td>1</td>\n",
              "      <td>0</td>\n",
              "      <td>0</td>\n",
              "      <td>0</td>\n",
              "      <td>0</td>\n",
              "      <td>1</td>\n",
              "      <td>0</td>\n",
              "    </tr>\n",
              "    <tr>\n",
              "      <th>1</th>\n",
              "      <td>1</td>\n",
              "      <td>0</td>\n",
              "      <td>0</td>\n",
              "      <td>0</td>\n",
              "      <td>34</td>\n",
              "      <td>1</td>\n",
              "      <td>0</td>\n",
              "      <td>1</td>\n",
              "      <td>0</td>\n",
              "      <td>1</td>\n",
              "      <td>...</td>\n",
              "      <td>1</td>\n",
              "      <td>0</td>\n",
              "      <td>0</td>\n",
              "      <td>0</td>\n",
              "      <td>1</td>\n",
              "      <td>0</td>\n",
              "      <td>0</td>\n",
              "      <td>0</td>\n",
              "      <td>0</td>\n",
              "      <td>1</td>\n",
              "    </tr>\n",
              "    <tr>\n",
              "      <th>2</th>\n",
              "      <td>1</td>\n",
              "      <td>0</td>\n",
              "      <td>0</td>\n",
              "      <td>0</td>\n",
              "      <td>2</td>\n",
              "      <td>1</td>\n",
              "      <td>0</td>\n",
              "      <td>1</td>\n",
              "      <td>1</td>\n",
              "      <td>0</td>\n",
              "      <td>...</td>\n",
              "      <td>1</td>\n",
              "      <td>0</td>\n",
              "      <td>0</td>\n",
              "      <td>1</td>\n",
              "      <td>0</td>\n",
              "      <td>0</td>\n",
              "      <td>0</td>\n",
              "      <td>0</td>\n",
              "      <td>0</td>\n",
              "      <td>1</td>\n",
              "    </tr>\n",
              "    <tr>\n",
              "      <th>3</th>\n",
              "      <td>1</td>\n",
              "      <td>0</td>\n",
              "      <td>0</td>\n",
              "      <td>0</td>\n",
              "      <td>45</td>\n",
              "      <td>0</td>\n",
              "      <td>0</td>\n",
              "      <td>1</td>\n",
              "      <td>0</td>\n",
              "      <td>1</td>\n",
              "      <td>...</td>\n",
              "      <td>1</td>\n",
              "      <td>0</td>\n",
              "      <td>0</td>\n",
              "      <td>0</td>\n",
              "      <td>1</td>\n",
              "      <td>0</td>\n",
              "      <td>1</td>\n",
              "      <td>0</td>\n",
              "      <td>0</td>\n",
              "      <td>0</td>\n",
              "    </tr>\n",
              "    <tr>\n",
              "      <th>4</th>\n",
              "      <td>0</td>\n",
              "      <td>0</td>\n",
              "      <td>0</td>\n",
              "      <td>0</td>\n",
              "      <td>2</td>\n",
              "      <td>1</td>\n",
              "      <td>0</td>\n",
              "      <td>0</td>\n",
              "      <td>0</td>\n",
              "      <td>0</td>\n",
              "      <td>...</td>\n",
              "      <td>0</td>\n",
              "      <td>1</td>\n",
              "      <td>0</td>\n",
              "      <td>1</td>\n",
              "      <td>0</td>\n",
              "      <td>0</td>\n",
              "      <td>0</td>\n",
              "      <td>0</td>\n",
              "      <td>1</td>\n",
              "      <td>0</td>\n",
              "    </tr>\n",
              "  </tbody>\n",
              "</table>\n",
              "<p>5 rows × 27 columns</p>\n",
              "</div>\n",
              "      <button class=\"colab-df-convert\" onclick=\"convertToInteractive('df-a7658aef-7bfc-4351-97d6-1488f8bdc203')\"\n",
              "              title=\"Convert this dataframe to an interactive table.\"\n",
              "              style=\"display:none;\">\n",
              "        \n",
              "  <svg xmlns=\"http://www.w3.org/2000/svg\" height=\"24px\"viewBox=\"0 0 24 24\"\n",
              "       width=\"24px\">\n",
              "    <path d=\"M0 0h24v24H0V0z\" fill=\"none\"/>\n",
              "    <path d=\"M18.56 5.44l.94 2.06.94-2.06 2.06-.94-2.06-.94-.94-2.06-.94 2.06-2.06.94zm-11 1L8.5 8.5l.94-2.06 2.06-.94-2.06-.94L8.5 2.5l-.94 2.06-2.06.94zm10 10l.94 2.06.94-2.06 2.06-.94-2.06-.94-.94-2.06-.94 2.06-2.06.94z\"/><path d=\"M17.41 7.96l-1.37-1.37c-.4-.4-.92-.59-1.43-.59-.52 0-1.04.2-1.43.59L10.3 9.45l-7.72 7.72c-.78.78-.78 2.05 0 2.83L4 21.41c.39.39.9.59 1.41.59.51 0 1.02-.2 1.41-.59l7.78-7.78 2.81-2.81c.8-.78.8-2.07 0-2.86zM5.41 20L4 18.59l7.72-7.72 1.47 1.35L5.41 20z\"/>\n",
              "  </svg>\n",
              "      </button>\n",
              "      \n",
              "  <style>\n",
              "    .colab-df-container {\n",
              "      display:flex;\n",
              "      flex-wrap:wrap;\n",
              "      gap: 12px;\n",
              "    }\n",
              "\n",
              "    .colab-df-convert {\n",
              "      background-color: #E8F0FE;\n",
              "      border: none;\n",
              "      border-radius: 50%;\n",
              "      cursor: pointer;\n",
              "      display: none;\n",
              "      fill: #1967D2;\n",
              "      height: 32px;\n",
              "      padding: 0 0 0 0;\n",
              "      width: 32px;\n",
              "    }\n",
              "\n",
              "    .colab-df-convert:hover {\n",
              "      background-color: #E2EBFA;\n",
              "      box-shadow: 0px 1px 2px rgba(60, 64, 67, 0.3), 0px 1px 3px 1px rgba(60, 64, 67, 0.15);\n",
              "      fill: #174EA6;\n",
              "    }\n",
              "\n",
              "    [theme=dark] .colab-df-convert {\n",
              "      background-color: #3B4455;\n",
              "      fill: #D2E3FC;\n",
              "    }\n",
              "\n",
              "    [theme=dark] .colab-df-convert:hover {\n",
              "      background-color: #434B5C;\n",
              "      box-shadow: 0px 1px 3px 1px rgba(0, 0, 0, 0.15);\n",
              "      filter: drop-shadow(0px 1px 2px rgba(0, 0, 0, 0.3));\n",
              "      fill: #FFFFFF;\n",
              "    }\n",
              "  </style>\n",
              "\n",
              "      <script>\n",
              "        const buttonEl =\n",
              "          document.querySelector('#df-a7658aef-7bfc-4351-97d6-1488f8bdc203 button.colab-df-convert');\n",
              "        buttonEl.style.display =\n",
              "          google.colab.kernel.accessAllowed ? 'block' : 'none';\n",
              "\n",
              "        async function convertToInteractive(key) {\n",
              "          const element = document.querySelector('#df-a7658aef-7bfc-4351-97d6-1488f8bdc203');\n",
              "          const dataTable =\n",
              "            await google.colab.kernel.invokeFunction('convertToInteractive',\n",
              "                                                     [key], {});\n",
              "          if (!dataTable) return;\n",
              "\n",
              "          const docLinkHtml = 'Like what you see? Visit the ' +\n",
              "            '<a target=\"_blank\" href=https://colab.research.google.com/notebooks/data_table.ipynb>data table notebook</a>'\n",
              "            + ' to learn more about interactive tables.';\n",
              "          element.innerHTML = '';\n",
              "          dataTable['output_type'] = 'display_data';\n",
              "          await google.colab.output.renderOutput(dataTable, element);\n",
              "          const docLink = document.createElement('div');\n",
              "          docLink.innerHTML = docLinkHtml;\n",
              "          element.appendChild(docLink);\n",
              "        }\n",
              "      </script>\n",
              "    </div>\n",
              "  </div>\n",
              "  "
            ]
          },
          "metadata": {},
          "execution_count": 23
        }
      ]
    },
    {
      "cell_type": "code",
      "source": [
        "df2.dtypes"
      ],
      "metadata": {
        "colab": {
          "base_uri": "https://localhost:8080/"
        },
        "id": "huRv9YS53u8O",
        "outputId": "30fd78fd-9450-44e7-e60c-f5513ed4e0df"
      },
      "execution_count": 24,
      "outputs": [
        {
          "output_type": "execute_result",
          "data": {
            "text/plain": [
              "gender                                       int64\n",
              "SeniorCitizen                                int64\n",
              "Partner                                      int64\n",
              "Dependents                                   int64\n",
              "tenure                                       int64\n",
              "PhoneService                                 int64\n",
              "MultipleLines                                int64\n",
              "OnlineSecurity                               int64\n",
              "OnlineBackup                                 int64\n",
              "DeviceProtection                             int64\n",
              "TechSupport                                  int64\n",
              "StreamingTV                                  int64\n",
              "StreamingMovies                              int64\n",
              "PaperlessBilling                             int64\n",
              "MonthlyCharges                             float64\n",
              "TotalCharges                               float64\n",
              "Churn                                        int64\n",
              "InternetService_DSL                          uint8\n",
              "InternetService_Fiber optic                  uint8\n",
              "InternetService_No                           uint8\n",
              "Contract_Month-to-month                      uint8\n",
              "Contract_One year                            uint8\n",
              "Contract_Two year                            uint8\n",
              "PaymentMethod_Bank transfer (automatic)      uint8\n",
              "PaymentMethod_Credit card (automatic)        uint8\n",
              "PaymentMethod_Electronic check               uint8\n",
              "PaymentMethod_Mailed check                   uint8\n",
              "dtype: object"
            ]
          },
          "metadata": {},
          "execution_count": 24
        }
      ]
    },
    {
      "cell_type": "code",
      "source": [
        "cols_to_scale = ['tenure','MonthlyCharges','TotalCharges']\n",
        "\n",
        "from sklearn.preprocessing import MinMaxScaler\n",
        "scaler = MinMaxScaler()\n",
        "\n",
        "df2[cols_to_scale] = scaler.fit_transform(df2[cols_to_scale])\n",
        "\n",
        "df2.sample(3)"
      ],
      "metadata": {
        "colab": {
          "base_uri": "https://localhost:8080/",
          "height": 271
        },
        "id": "kYMAe5Fd3y26",
        "outputId": "410d6890-0077-49e6-edda-0dc4722c4e76"
      },
      "execution_count": 25,
      "outputs": [
        {
          "output_type": "execute_result",
          "data": {
            "text/plain": [
              "     gender  SeniorCitizen  Partner  Dependents    tenure  PhoneService  \\\n",
              "393       0              0        0           0  0.253521             1   \n",
              "331       0              0        0           0  0.098592             1   \n",
              "540       0              0        1           1  1.000000             1   \n",
              "\n",
              "     MultipleLines  OnlineSecurity  OnlineBackup  DeviceProtection  ...  \\\n",
              "393              0               0             0                 0  ...   \n",
              "331              0               0             0                 0  ...   \n",
              "540              1               1             1                 1  ...   \n",
              "\n",
              "     InternetService_DSL  InternetService_Fiber optic  InternetService_No  \\\n",
              "393                    0                            0                   1   \n",
              "331                    0                            0                   1   \n",
              "540                    0                            1                   0   \n",
              "\n",
              "     Contract_Month-to-month  Contract_One year  Contract_Two year  \\\n",
              "393                        1                  0                  0   \n",
              "331                        0                  1                  0   \n",
              "540                        0                  0                  1   \n",
              "\n",
              "     PaymentMethod_Bank transfer (automatic)  \\\n",
              "393                                        0   \n",
              "331                                        0   \n",
              "540                                        1   \n",
              "\n",
              "     PaymentMethod_Credit card (automatic)  PaymentMethod_Electronic check  \\\n",
              "393                                      0                               0   \n",
              "331                                      0                               0   \n",
              "540                                      0                               0   \n",
              "\n",
              "     PaymentMethod_Mailed check  \n",
              "393                           1  \n",
              "331                           1  \n",
              "540                           0  \n",
              "\n",
              "[3 rows x 27 columns]"
            ],
            "text/html": [
              "\n",
              "  <div id=\"df-6bbf3f2e-439f-4555-be51-f6df68e9a066\">\n",
              "    <div class=\"colab-df-container\">\n",
              "      <div>\n",
              "<style scoped>\n",
              "    .dataframe tbody tr th:only-of-type {\n",
              "        vertical-align: middle;\n",
              "    }\n",
              "\n",
              "    .dataframe tbody tr th {\n",
              "        vertical-align: top;\n",
              "    }\n",
              "\n",
              "    .dataframe thead th {\n",
              "        text-align: right;\n",
              "    }\n",
              "</style>\n",
              "<table border=\"1\" class=\"dataframe\">\n",
              "  <thead>\n",
              "    <tr style=\"text-align: right;\">\n",
              "      <th></th>\n",
              "      <th>gender</th>\n",
              "      <th>SeniorCitizen</th>\n",
              "      <th>Partner</th>\n",
              "      <th>Dependents</th>\n",
              "      <th>tenure</th>\n",
              "      <th>PhoneService</th>\n",
              "      <th>MultipleLines</th>\n",
              "      <th>OnlineSecurity</th>\n",
              "      <th>OnlineBackup</th>\n",
              "      <th>DeviceProtection</th>\n",
              "      <th>...</th>\n",
              "      <th>InternetService_DSL</th>\n",
              "      <th>InternetService_Fiber optic</th>\n",
              "      <th>InternetService_No</th>\n",
              "      <th>Contract_Month-to-month</th>\n",
              "      <th>Contract_One year</th>\n",
              "      <th>Contract_Two year</th>\n",
              "      <th>PaymentMethod_Bank transfer (automatic)</th>\n",
              "      <th>PaymentMethod_Credit card (automatic)</th>\n",
              "      <th>PaymentMethod_Electronic check</th>\n",
              "      <th>PaymentMethod_Mailed check</th>\n",
              "    </tr>\n",
              "  </thead>\n",
              "  <tbody>\n",
              "    <tr>\n",
              "      <th>393</th>\n",
              "      <td>0</td>\n",
              "      <td>0</td>\n",
              "      <td>0</td>\n",
              "      <td>0</td>\n",
              "      <td>0.253521</td>\n",
              "      <td>1</td>\n",
              "      <td>0</td>\n",
              "      <td>0</td>\n",
              "      <td>0</td>\n",
              "      <td>0</td>\n",
              "      <td>...</td>\n",
              "      <td>0</td>\n",
              "      <td>0</td>\n",
              "      <td>1</td>\n",
              "      <td>1</td>\n",
              "      <td>0</td>\n",
              "      <td>0</td>\n",
              "      <td>0</td>\n",
              "      <td>0</td>\n",
              "      <td>0</td>\n",
              "      <td>1</td>\n",
              "    </tr>\n",
              "    <tr>\n",
              "      <th>331</th>\n",
              "      <td>0</td>\n",
              "      <td>0</td>\n",
              "      <td>0</td>\n",
              "      <td>0</td>\n",
              "      <td>0.098592</td>\n",
              "      <td>1</td>\n",
              "      <td>0</td>\n",
              "      <td>0</td>\n",
              "      <td>0</td>\n",
              "      <td>0</td>\n",
              "      <td>...</td>\n",
              "      <td>0</td>\n",
              "      <td>0</td>\n",
              "      <td>1</td>\n",
              "      <td>0</td>\n",
              "      <td>1</td>\n",
              "      <td>0</td>\n",
              "      <td>0</td>\n",
              "      <td>0</td>\n",
              "      <td>0</td>\n",
              "      <td>1</td>\n",
              "    </tr>\n",
              "    <tr>\n",
              "      <th>540</th>\n",
              "      <td>0</td>\n",
              "      <td>0</td>\n",
              "      <td>1</td>\n",
              "      <td>1</td>\n",
              "      <td>1.000000</td>\n",
              "      <td>1</td>\n",
              "      <td>1</td>\n",
              "      <td>1</td>\n",
              "      <td>1</td>\n",
              "      <td>1</td>\n",
              "      <td>...</td>\n",
              "      <td>0</td>\n",
              "      <td>1</td>\n",
              "      <td>0</td>\n",
              "      <td>0</td>\n",
              "      <td>0</td>\n",
              "      <td>1</td>\n",
              "      <td>1</td>\n",
              "      <td>0</td>\n",
              "      <td>0</td>\n",
              "      <td>0</td>\n",
              "    </tr>\n",
              "  </tbody>\n",
              "</table>\n",
              "<p>3 rows × 27 columns</p>\n",
              "</div>\n",
              "      <button class=\"colab-df-convert\" onclick=\"convertToInteractive('df-6bbf3f2e-439f-4555-be51-f6df68e9a066')\"\n",
              "              title=\"Convert this dataframe to an interactive table.\"\n",
              "              style=\"display:none;\">\n",
              "        \n",
              "  <svg xmlns=\"http://www.w3.org/2000/svg\" height=\"24px\"viewBox=\"0 0 24 24\"\n",
              "       width=\"24px\">\n",
              "    <path d=\"M0 0h24v24H0V0z\" fill=\"none\"/>\n",
              "    <path d=\"M18.56 5.44l.94 2.06.94-2.06 2.06-.94-2.06-.94-.94-2.06-.94 2.06-2.06.94zm-11 1L8.5 8.5l.94-2.06 2.06-.94-2.06-.94L8.5 2.5l-.94 2.06-2.06.94zm10 10l.94 2.06.94-2.06 2.06-.94-2.06-.94-.94-2.06-.94 2.06-2.06.94z\"/><path d=\"M17.41 7.96l-1.37-1.37c-.4-.4-.92-.59-1.43-.59-.52 0-1.04.2-1.43.59L10.3 9.45l-7.72 7.72c-.78.78-.78 2.05 0 2.83L4 21.41c.39.39.9.59 1.41.59.51 0 1.02-.2 1.41-.59l7.78-7.78 2.81-2.81c.8-.78.8-2.07 0-2.86zM5.41 20L4 18.59l7.72-7.72 1.47 1.35L5.41 20z\"/>\n",
              "  </svg>\n",
              "      </button>\n",
              "      \n",
              "  <style>\n",
              "    .colab-df-container {\n",
              "      display:flex;\n",
              "      flex-wrap:wrap;\n",
              "      gap: 12px;\n",
              "    }\n",
              "\n",
              "    .colab-df-convert {\n",
              "      background-color: #E8F0FE;\n",
              "      border: none;\n",
              "      border-radius: 50%;\n",
              "      cursor: pointer;\n",
              "      display: none;\n",
              "      fill: #1967D2;\n",
              "      height: 32px;\n",
              "      padding: 0 0 0 0;\n",
              "      width: 32px;\n",
              "    }\n",
              "\n",
              "    .colab-df-convert:hover {\n",
              "      background-color: #E2EBFA;\n",
              "      box-shadow: 0px 1px 2px rgba(60, 64, 67, 0.3), 0px 1px 3px 1px rgba(60, 64, 67, 0.15);\n",
              "      fill: #174EA6;\n",
              "    }\n",
              "\n",
              "    [theme=dark] .colab-df-convert {\n",
              "      background-color: #3B4455;\n",
              "      fill: #D2E3FC;\n",
              "    }\n",
              "\n",
              "    [theme=dark] .colab-df-convert:hover {\n",
              "      background-color: #434B5C;\n",
              "      box-shadow: 0px 1px 3px 1px rgba(0, 0, 0, 0.15);\n",
              "      filter: drop-shadow(0px 1px 2px rgba(0, 0, 0, 0.3));\n",
              "      fill: #FFFFFF;\n",
              "    }\n",
              "  </style>\n",
              "\n",
              "      <script>\n",
              "        const buttonEl =\n",
              "          document.querySelector('#df-6bbf3f2e-439f-4555-be51-f6df68e9a066 button.colab-df-convert');\n",
              "        buttonEl.style.display =\n",
              "          google.colab.kernel.accessAllowed ? 'block' : 'none';\n",
              "\n",
              "        async function convertToInteractive(key) {\n",
              "          const element = document.querySelector('#df-6bbf3f2e-439f-4555-be51-f6df68e9a066');\n",
              "          const dataTable =\n",
              "            await google.colab.kernel.invokeFunction('convertToInteractive',\n",
              "                                                     [key], {});\n",
              "          if (!dataTable) return;\n",
              "\n",
              "          const docLinkHtml = 'Like what you see? Visit the ' +\n",
              "            '<a target=\"_blank\" href=https://colab.research.google.com/notebooks/data_table.ipynb>data table notebook</a>'\n",
              "            + ' to learn more about interactive tables.';\n",
              "          element.innerHTML = '';\n",
              "          dataTable['output_type'] = 'display_data';\n",
              "          await google.colab.output.renderOutput(dataTable, element);\n",
              "          const docLink = document.createElement('div');\n",
              "          docLink.innerHTML = docLinkHtml;\n",
              "          element.appendChild(docLink);\n",
              "        }\n",
              "      </script>\n",
              "    </div>\n",
              "  </div>\n",
              "  "
            ]
          },
          "metadata": {},
          "execution_count": 25
        }
      ]
    },
    {
      "cell_type": "code",
      "source": [
        "x = df2.drop('Churn',axis='columns')\n",
        "y = df2['Churn']"
      ],
      "metadata": {
        "id": "vbKF1BWv4bVu"
      },
      "execution_count": 26,
      "outputs": []
    },
    {
      "cell_type": "code",
      "source": [
        "from sklearn.model_selection import train_test_split\n",
        "x_train,x_test,y_train,y_test = train_test_split(x,y,test_size = 0.2, random_state=5)"
      ],
      "metadata": {
        "id": "uPFgK0zW4lin"
      },
      "execution_count": 27,
      "outputs": []
    },
    {
      "cell_type": "code",
      "source": [
        "x_train.shape, x_test.shape"
      ],
      "metadata": {
        "colab": {
          "base_uri": "https://localhost:8080/"
        },
        "id": "M9fWf7I644r8",
        "outputId": "3d2f3aab-130e-4ab5-eb81-db68e7ab6f33"
      },
      "execution_count": 28,
      "outputs": [
        {
          "output_type": "execute_result",
          "data": {
            "text/plain": [
              "((5625, 26), (1407, 26))"
            ]
          },
          "metadata": {},
          "execution_count": 28
        }
      ]
    },
    {
      "cell_type": "code",
      "source": [
        "model = keras.Sequential([\n",
        "    keras.layers.Dense(20,input_shape=(26,),activation='relu'),\n",
        "    keras.layers.Dense(13,activation='relu'),\n",
        "    keras.layers.Dense(1, activation='sigmoid')\n",
        "])\n",
        "\n",
        "model.compile(\n",
        "    optimizer = 'adam',\n",
        "    loss = 'binary_crossentropy',\n",
        "    metrics = ['accuracy']\n",
        ")\n",
        "\n",
        "model.fit(x_train,y_train,epochs=100)"
      ],
      "metadata": {
        "colab": {
          "base_uri": "https://localhost:8080/"
        },
        "id": "He8cth6647n6",
        "outputId": "8068bf7c-913b-407a-c2bc-949c3ba0b3c8"
      },
      "execution_count": 29,
      "outputs": [
        {
          "output_type": "stream",
          "name": "stdout",
          "text": [
            "Epoch 1/100\n",
            "176/176 [==============================] - 4s 3ms/step - loss: 0.5451 - accuracy: 0.7349\n",
            "Epoch 2/100\n",
            "176/176 [==============================] - 0s 3ms/step - loss: 0.4288 - accuracy: 0.7956\n",
            "Epoch 3/100\n",
            "176/176 [==============================] - 0s 3ms/step - loss: 0.4191 - accuracy: 0.7982\n",
            "Epoch 4/100\n",
            "176/176 [==============================] - 0s 3ms/step - loss: 0.4150 - accuracy: 0.8000\n",
            "Epoch 5/100\n",
            "176/176 [==============================] - 0s 3ms/step - loss: 0.4152 - accuracy: 0.8039\n",
            "Epoch 6/100\n",
            "176/176 [==============================] - 0s 3ms/step - loss: 0.4115 - accuracy: 0.8055\n",
            "Epoch 7/100\n",
            "176/176 [==============================] - 1s 5ms/step - loss: 0.4099 - accuracy: 0.8068\n",
            "Epoch 8/100\n",
            "176/176 [==============================] - 1s 3ms/step - loss: 0.4087 - accuracy: 0.8071\n",
            "Epoch 9/100\n",
            "176/176 [==============================] - 1s 5ms/step - loss: 0.4078 - accuracy: 0.8073\n",
            "Epoch 10/100\n",
            "176/176 [==============================] - 1s 3ms/step - loss: 0.4062 - accuracy: 0.8092\n",
            "Epoch 11/100\n",
            "176/176 [==============================] - 0s 3ms/step - loss: 0.4049 - accuracy: 0.8112\n",
            "Epoch 12/100\n",
            "176/176 [==============================] - 0s 3ms/step - loss: 0.4041 - accuracy: 0.8068\n",
            "Epoch 13/100\n",
            "176/176 [==============================] - 0s 3ms/step - loss: 0.4024 - accuracy: 0.8096\n",
            "Epoch 14/100\n",
            "176/176 [==============================] - 1s 4ms/step - loss: 0.4034 - accuracy: 0.8107\n",
            "Epoch 15/100\n",
            "176/176 [==============================] - 1s 4ms/step - loss: 0.4015 - accuracy: 0.8116\n",
            "Epoch 16/100\n",
            "176/176 [==============================] - 1s 3ms/step - loss: 0.4001 - accuracy: 0.8128\n",
            "Epoch 17/100\n",
            "176/176 [==============================] - 1s 4ms/step - loss: 0.4001 - accuracy: 0.8130\n",
            "Epoch 18/100\n",
            "176/176 [==============================] - 0s 3ms/step - loss: 0.3995 - accuracy: 0.8103\n",
            "Epoch 19/100\n",
            "176/176 [==============================] - 0s 3ms/step - loss: 0.3979 - accuracy: 0.8146\n",
            "Epoch 20/100\n",
            "176/176 [==============================] - 0s 3ms/step - loss: 0.3972 - accuracy: 0.8126\n",
            "Epoch 21/100\n",
            "176/176 [==============================] - 0s 3ms/step - loss: 0.3979 - accuracy: 0.8151\n",
            "Epoch 22/100\n",
            "176/176 [==============================] - 0s 2ms/step - loss: 0.3965 - accuracy: 0.8128\n",
            "Epoch 23/100\n",
            "176/176 [==============================] - 0s 3ms/step - loss: 0.3956 - accuracy: 0.8128\n",
            "Epoch 24/100\n",
            "176/176 [==============================] - 0s 3ms/step - loss: 0.3952 - accuracy: 0.8142\n",
            "Epoch 25/100\n",
            "176/176 [==============================] - 0s 3ms/step - loss: 0.3944 - accuracy: 0.8135\n",
            "Epoch 26/100\n",
            "176/176 [==============================] - 0s 3ms/step - loss: 0.3964 - accuracy: 0.8139\n",
            "Epoch 27/100\n",
            "176/176 [==============================] - 0s 3ms/step - loss: 0.3936 - accuracy: 0.8183\n",
            "Epoch 28/100\n",
            "176/176 [==============================] - 0s 3ms/step - loss: 0.3927 - accuracy: 0.8139\n",
            "Epoch 29/100\n",
            "176/176 [==============================] - 0s 3ms/step - loss: 0.3928 - accuracy: 0.8140\n",
            "Epoch 30/100\n",
            "176/176 [==============================] - 0s 3ms/step - loss: 0.3920 - accuracy: 0.8140\n",
            "Epoch 31/100\n",
            "176/176 [==============================] - 0s 3ms/step - loss: 0.3912 - accuracy: 0.8164\n",
            "Epoch 32/100\n",
            "176/176 [==============================] - 0s 3ms/step - loss: 0.3904 - accuracy: 0.8183\n",
            "Epoch 33/100\n",
            "176/176 [==============================] - 0s 2ms/step - loss: 0.3911 - accuracy: 0.8158\n",
            "Epoch 34/100\n",
            "176/176 [==============================] - 0s 3ms/step - loss: 0.3896 - accuracy: 0.8151\n",
            "Epoch 35/100\n",
            "176/176 [==============================] - 0s 3ms/step - loss: 0.3891 - accuracy: 0.8197\n",
            "Epoch 36/100\n",
            "176/176 [==============================] - 0s 3ms/step - loss: 0.3893 - accuracy: 0.8169\n",
            "Epoch 37/100\n",
            "176/176 [==============================] - 0s 3ms/step - loss: 0.3893 - accuracy: 0.8178\n",
            "Epoch 38/100\n",
            "176/176 [==============================] - 0s 3ms/step - loss: 0.3877 - accuracy: 0.8181\n",
            "Epoch 39/100\n",
            "176/176 [==============================] - 0s 3ms/step - loss: 0.3868 - accuracy: 0.8197\n",
            "Epoch 40/100\n",
            "176/176 [==============================] - 0s 3ms/step - loss: 0.3874 - accuracy: 0.8181\n",
            "Epoch 41/100\n",
            "176/176 [==============================] - 0s 3ms/step - loss: 0.3868 - accuracy: 0.8204\n",
            "Epoch 42/100\n",
            "176/176 [==============================] - 0s 3ms/step - loss: 0.3868 - accuracy: 0.8194\n",
            "Epoch 43/100\n",
            "176/176 [==============================] - 0s 3ms/step - loss: 0.3852 - accuracy: 0.8167\n",
            "Epoch 44/100\n",
            "176/176 [==============================] - 0s 3ms/step - loss: 0.3859 - accuracy: 0.8183\n",
            "Epoch 45/100\n",
            "176/176 [==============================] - 0s 3ms/step - loss: 0.3852 - accuracy: 0.8208\n",
            "Epoch 46/100\n",
            "176/176 [==============================] - 0s 3ms/step - loss: 0.3851 - accuracy: 0.8203\n",
            "Epoch 47/100\n",
            "176/176 [==============================] - 0s 3ms/step - loss: 0.3832 - accuracy: 0.8204\n",
            "Epoch 48/100\n",
            "176/176 [==============================] - 0s 3ms/step - loss: 0.3839 - accuracy: 0.8201\n",
            "Epoch 49/100\n",
            "176/176 [==============================] - 0s 3ms/step - loss: 0.3831 - accuracy: 0.8156\n",
            "Epoch 50/100\n",
            "176/176 [==============================] - 0s 3ms/step - loss: 0.3822 - accuracy: 0.8192\n",
            "Epoch 51/100\n",
            "176/176 [==============================] - 0s 3ms/step - loss: 0.3816 - accuracy: 0.8240\n",
            "Epoch 52/100\n",
            "176/176 [==============================] - 0s 3ms/step - loss: 0.3812 - accuracy: 0.8212\n",
            "Epoch 53/100\n",
            "176/176 [==============================] - 0s 3ms/step - loss: 0.3822 - accuracy: 0.8201\n",
            "Epoch 54/100\n",
            "176/176 [==============================] - 0s 3ms/step - loss: 0.3811 - accuracy: 0.8245\n",
            "Epoch 55/100\n",
            "176/176 [==============================] - 0s 3ms/step - loss: 0.3801 - accuracy: 0.8228\n",
            "Epoch 56/100\n",
            "176/176 [==============================] - 0s 3ms/step - loss: 0.3803 - accuracy: 0.8197\n",
            "Epoch 57/100\n",
            "176/176 [==============================] - 0s 3ms/step - loss: 0.3804 - accuracy: 0.8206\n",
            "Epoch 58/100\n",
            "176/176 [==============================] - 0s 3ms/step - loss: 0.3801 - accuracy: 0.8194\n",
            "Epoch 59/100\n",
            "176/176 [==============================] - 0s 3ms/step - loss: 0.3789 - accuracy: 0.8235\n",
            "Epoch 60/100\n",
            "176/176 [==============================] - 0s 3ms/step - loss: 0.3785 - accuracy: 0.8217\n",
            "Epoch 61/100\n",
            "176/176 [==============================] - 0s 3ms/step - loss: 0.3780 - accuracy: 0.8220\n",
            "Epoch 62/100\n",
            "176/176 [==============================] - 0s 3ms/step - loss: 0.3779 - accuracy: 0.8231\n",
            "Epoch 63/100\n",
            "176/176 [==============================] - 0s 3ms/step - loss: 0.3779 - accuracy: 0.8231\n",
            "Epoch 64/100\n",
            "176/176 [==============================] - 0s 3ms/step - loss: 0.3786 - accuracy: 0.8220\n",
            "Epoch 65/100\n",
            "176/176 [==============================] - 0s 3ms/step - loss: 0.3774 - accuracy: 0.8238\n",
            "Epoch 66/100\n",
            "176/176 [==============================] - 0s 3ms/step - loss: 0.3763 - accuracy: 0.8226\n",
            "Epoch 67/100\n",
            "176/176 [==============================] - 0s 3ms/step - loss: 0.3762 - accuracy: 0.8228\n",
            "Epoch 68/100\n",
            "176/176 [==============================] - 0s 3ms/step - loss: 0.3757 - accuracy: 0.8233\n",
            "Epoch 69/100\n",
            "176/176 [==============================] - 0s 3ms/step - loss: 0.3755 - accuracy: 0.8224\n",
            "Epoch 70/100\n",
            "176/176 [==============================] - 0s 3ms/step - loss: 0.3744 - accuracy: 0.8224\n",
            "Epoch 71/100\n",
            "176/176 [==============================] - 0s 3ms/step - loss: 0.3742 - accuracy: 0.8226\n",
            "Epoch 72/100\n",
            "176/176 [==============================] - 0s 3ms/step - loss: 0.3729 - accuracy: 0.8254\n",
            "Epoch 73/100\n",
            "176/176 [==============================] - 0s 3ms/step - loss: 0.3732 - accuracy: 0.8242\n",
            "Epoch 74/100\n",
            "176/176 [==============================] - 0s 3ms/step - loss: 0.3751 - accuracy: 0.8224\n",
            "Epoch 75/100\n",
            "176/176 [==============================] - 0s 3ms/step - loss: 0.3738 - accuracy: 0.8242\n",
            "Epoch 76/100\n",
            "176/176 [==============================] - 0s 3ms/step - loss: 0.3731 - accuracy: 0.8265\n",
            "Epoch 77/100\n",
            "176/176 [==============================] - 0s 3ms/step - loss: 0.3721 - accuracy: 0.8251\n",
            "Epoch 78/100\n",
            "176/176 [==============================] - 0s 3ms/step - loss: 0.3733 - accuracy: 0.8219\n",
            "Epoch 79/100\n",
            "176/176 [==============================] - 0s 3ms/step - loss: 0.3732 - accuracy: 0.8244\n",
            "Epoch 80/100\n",
            "176/176 [==============================] - 0s 3ms/step - loss: 0.3720 - accuracy: 0.8245\n",
            "Epoch 81/100\n",
            "176/176 [==============================] - 0s 3ms/step - loss: 0.3714 - accuracy: 0.8270\n",
            "Epoch 82/100\n",
            "176/176 [==============================] - 0s 3ms/step - loss: 0.3707 - accuracy: 0.8252\n",
            "Epoch 83/100\n",
            "176/176 [==============================] - 0s 2ms/step - loss: 0.3711 - accuracy: 0.8261\n",
            "Epoch 84/100\n",
            "176/176 [==============================] - 0s 3ms/step - loss: 0.3707 - accuracy: 0.8251\n",
            "Epoch 85/100\n",
            "176/176 [==============================] - 0s 3ms/step - loss: 0.3704 - accuracy: 0.8258\n",
            "Epoch 86/100\n",
            "176/176 [==============================] - 0s 3ms/step - loss: 0.3689 - accuracy: 0.8249\n",
            "Epoch 87/100\n",
            "176/176 [==============================] - 0s 3ms/step - loss: 0.3699 - accuracy: 0.8276\n",
            "Epoch 88/100\n",
            "176/176 [==============================] - 0s 3ms/step - loss: 0.3689 - accuracy: 0.8281\n",
            "Epoch 89/100\n",
            "176/176 [==============================] - 0s 3ms/step - loss: 0.3695 - accuracy: 0.8260\n",
            "Epoch 90/100\n",
            "176/176 [==============================] - 0s 3ms/step - loss: 0.3690 - accuracy: 0.8263\n",
            "Epoch 91/100\n",
            "176/176 [==============================] - 0s 3ms/step - loss: 0.3682 - accuracy: 0.8277\n",
            "Epoch 92/100\n",
            "176/176 [==============================] - 0s 3ms/step - loss: 0.3681 - accuracy: 0.8254\n",
            "Epoch 93/100\n",
            "176/176 [==============================] - 0s 3ms/step - loss: 0.3665 - accuracy: 0.8220\n",
            "Epoch 94/100\n",
            "176/176 [==============================] - 0s 3ms/step - loss: 0.3673 - accuracy: 0.8265\n",
            "Epoch 95/100\n",
            "176/176 [==============================] - 0s 3ms/step - loss: 0.3665 - accuracy: 0.8258\n",
            "Epoch 96/100\n",
            "176/176 [==============================] - 0s 3ms/step - loss: 0.3663 - accuracy: 0.8293\n",
            "Epoch 97/100\n",
            "176/176 [==============================] - 0s 3ms/step - loss: 0.3660 - accuracy: 0.8279\n",
            "Epoch 98/100\n",
            "176/176 [==============================] - 0s 3ms/step - loss: 0.3662 - accuracy: 0.8286\n",
            "Epoch 99/100\n",
            "176/176 [==============================] - 0s 3ms/step - loss: 0.3659 - accuracy: 0.8286\n",
            "Epoch 100/100\n",
            "176/176 [==============================] - 0s 3ms/step - loss: 0.3653 - accuracy: 0.8286\n"
          ]
        },
        {
          "output_type": "execute_result",
          "data": {
            "text/plain": [
              "<keras.callbacks.History at 0x7f38822085d0>"
            ]
          },
          "metadata": {},
          "execution_count": 29
        }
      ]
    },
    {
      "cell_type": "code",
      "source": [
        "y_predicted = model.predict(x_test)\n",
        "y_predicted[:5]"
      ],
      "metadata": {
        "colab": {
          "base_uri": "https://localhost:8080/"
        },
        "id": "O01xxurF6dz9",
        "outputId": "eb11c819-3cd9-421d-d56a-7e471d10ada7"
      },
      "execution_count": 30,
      "outputs": [
        {
          "output_type": "execute_result",
          "data": {
            "text/plain": [
              "array([[0.19210565],\n",
              "       [0.61711246],\n",
              "       [0.0014765 ],\n",
              "       [0.82177806],\n",
              "       [0.41377726]], dtype=float32)"
            ]
          },
          "metadata": {},
          "execution_count": 30
        }
      ]
    },
    {
      "cell_type": "code",
      "source": [
        "for i in range(len(y_predicted)):\n",
        "  if y_predicted[i] < 0.5:\n",
        "    y_predicted[i] = 0\n",
        "  else:\n",
        "    y_predicted[i] = 1\n",
        "y_predicted[:5]"
      ],
      "metadata": {
        "colab": {
          "base_uri": "https://localhost:8080/"
        },
        "id": "H8xAYPCT6iP0",
        "outputId": "a82eecc3-4d45-4050-8cde-a2d34373cc36"
      },
      "execution_count": 31,
      "outputs": [
        {
          "output_type": "execute_result",
          "data": {
            "text/plain": [
              "array([[0.],\n",
              "       [1.],\n",
              "       [0.],\n",
              "       [1.],\n",
              "       [0.]], dtype=float32)"
            ]
          },
          "metadata": {},
          "execution_count": 31
        }
      ]
    },
    {
      "cell_type": "code",
      "source": [
        "from sklearn.metrics import classification_report, confusion_matrix\n",
        "print(classification_report(y_test,y_predicted))"
      ],
      "metadata": {
        "colab": {
          "base_uri": "https://localhost:8080/"
        },
        "id": "GR8sdxR662Wk",
        "outputId": "ab84a663-9402-4c68-ca47-4e3bcf7d8c74"
      },
      "execution_count": 32,
      "outputs": [
        {
          "output_type": "stream",
          "name": "stdout",
          "text": [
            "              precision    recall  f1-score   support\n",
            "\n",
            "           0       0.81      0.90      0.85       999\n",
            "           1       0.67      0.50      0.57       408\n",
            "\n",
            "    accuracy                           0.78      1407\n",
            "   macro avg       0.74      0.70      0.71      1407\n",
            "weighted avg       0.77      0.78      0.77      1407\n",
            "\n"
          ]
        }
      ]
    },
    {
      "cell_type": "code",
      "source": [
        "import seaborn as sns\n",
        "cm = tf.math.confusion_matrix(labels=y_test,predictions=y_predicted)\n",
        "plt.figure(figsize=(10,7))\n",
        "sns.heatmap(cm, annot = True, fmt='d')\n",
        "plt.xlabel('Predicted')\n",
        "plt.ylabel('Truth')"
      ],
      "metadata": {
        "colab": {
          "base_uri": "https://localhost:8080/",
          "height": 459
        },
        "id": "V8BzqpSE7lSE",
        "outputId": "d16356a4-e534-445c-9adb-471cd9a409d3"
      },
      "execution_count": 33,
      "outputs": [
        {
          "output_type": "execute_result",
          "data": {
            "text/plain": [
              "Text(69.0, 0.5, 'Truth')"
            ]
          },
          "metadata": {},
          "execution_count": 33
        },
        {
          "output_type": "display_data",
          "data": {
            "text/plain": [
              "<Figure size 720x504 with 2 Axes>"
            ],
            "image/png": "[encoded data removed]"
          },
          "metadata": {
            "needs_background": "light"
          }
        }
      ]
    },
    {
      "cell_type": "code",
      "source": [
        "def ANN(x_train, y_train, x_test, y_test, loss, weights):\n",
        "  model = keras.Sequential([\n",
        "      keras.layers.Dense(26, input_dim=26, activation='relu'),\n",
        "      keras.layers.Dense(15, activation='relu'),\n",
        "      keras.layers.Dense(1, activation='sigmoid')\n",
        "  ])\n",
        "  model.compile(optimizer = 'adam', loss=loss, metrics=['accuracy'])\n",
        "\n",
        "  if weights == -1:\n",
        "    model.fit(x_train,y_train,epochs=100)\n",
        "  else:\n",
        "    model.fit(x_train,y_train,epochs=100,class_weight=weights)\n",
        "\n",
        "  print(model.evaluate(x_test,y_test))\n",
        "\n",
        "  y_preds = model.predict(x_test)\n",
        "  y_preds = np.round(y_preds)\n",
        "\n",
        "  print(\"Classification Report: \\n\", classification_report(y_test,y_preds))\n",
        "\n",
        "  return y_preds"
      ],
      "metadata": {
        "id": "6a-T2pC6TR7E"
      },
      "execution_count": 35,
      "outputs": []
    },
    {
      "cell_type": "code",
      "source": [
        "y_preds = ANN(x_train,y_train,x_test,y_test,'binary_crossentropy',-1)"
      ],
      "metadata": {
        "colab": {
          "base_uri": "https://localhost:8080/"
        },
        "id": "-DhDnFyNVMq8",
        "outputId": "73c19f66-2e1d-4c9e-a43d-b9d33604b869"
      },
      "execution_count": 36,
      "outputs": [
        {
          "output_type": "stream",
          "name": "stdout",
          "text": [
            "Epoch 1/100\n",
            "176/176 [==============================] - 1s 5ms/step - loss: 0.5133 - accuracy: 0.7417\n",
            "Epoch 2/100\n",
            "176/176 [==============================] - 1s 4ms/step - loss: 0.4267 - accuracy: 0.7954\n",
            "Epoch 3/100\n",
            "176/176 [==============================] - 0s 3ms/step - loss: 0.4192 - accuracy: 0.8021\n",
            "Epoch 4/100\n",
            "176/176 [==============================] - 0s 3ms/step - loss: 0.4159 - accuracy: 0.8016\n",
            "Epoch 5/100\n",
            "176/176 [==============================] - 0s 3ms/step - loss: 0.4126 - accuracy: 0.8066\n",
            "Epoch 6/100\n",
            "176/176 [==============================] - 0s 3ms/step - loss: 0.4112 - accuracy: 0.8075\n",
            "Epoch 7/100\n",
            "176/176 [==============================] - 0s 3ms/step - loss: 0.4094 - accuracy: 0.8053\n",
            "Epoch 8/100\n",
            "176/176 [==============================] - 0s 3ms/step - loss: 0.4070 - accuracy: 0.8082\n",
            "Epoch 9/100\n",
            "176/176 [==============================] - 0s 3ms/step - loss: 0.4064 - accuracy: 0.8064\n",
            "Epoch 10/100\n",
            "176/176 [==============================] - 0s 3ms/step - loss: 0.4052 - accuracy: 0.8100\n",
            "Epoch 11/100\n",
            "176/176 [==============================] - 0s 3ms/step - loss: 0.4043 - accuracy: 0.8085\n",
            "Epoch 12/100\n",
            "176/176 [==============================] - 0s 3ms/step - loss: 0.4029 - accuracy: 0.8100\n",
            "Epoch 13/100\n",
            "176/176 [==============================] - 0s 3ms/step - loss: 0.4019 - accuracy: 0.8117\n",
            "Epoch 14/100\n",
            "176/176 [==============================] - 0s 3ms/step - loss: 0.4027 - accuracy: 0.8103\n",
            "Epoch 15/100\n",
            "176/176 [==============================] - 0s 3ms/step - loss: 0.3998 - accuracy: 0.8105\n",
            "Epoch 16/100\n",
            "176/176 [==============================] - 0s 3ms/step - loss: 0.3982 - accuracy: 0.8132\n",
            "Epoch 17/100\n",
            "176/176 [==============================] - 0s 3ms/step - loss: 0.3972 - accuracy: 0.8132\n",
            "Epoch 18/100\n",
            "176/176 [==============================] - 0s 3ms/step - loss: 0.3964 - accuracy: 0.8133\n",
            "Epoch 19/100\n",
            "176/176 [==============================] - 0s 3ms/step - loss: 0.3951 - accuracy: 0.8167\n",
            "Epoch 20/100\n",
            "176/176 [==============================] - 0s 3ms/step - loss: 0.3944 - accuracy: 0.8160\n",
            "Epoch 21/100\n",
            "176/176 [==============================] - 0s 3ms/step - loss: 0.3937 - accuracy: 0.8144\n",
            "Epoch 22/100\n",
            "176/176 [==============================] - 0s 3ms/step - loss: 0.3929 - accuracy: 0.8142\n",
            "Epoch 23/100\n",
            "176/176 [==============================] - 0s 3ms/step - loss: 0.3920 - accuracy: 0.8165\n",
            "Epoch 24/100\n",
            "176/176 [==============================] - 0s 3ms/step - loss: 0.3914 - accuracy: 0.8167\n",
            "Epoch 25/100\n",
            "176/176 [==============================] - 0s 3ms/step - loss: 0.3919 - accuracy: 0.8128\n",
            "Epoch 26/100\n",
            "176/176 [==============================] - 0s 3ms/step - loss: 0.3898 - accuracy: 0.8139\n",
            "Epoch 27/100\n",
            "176/176 [==============================] - 0s 3ms/step - loss: 0.3889 - accuracy: 0.8160\n",
            "Epoch 28/100\n",
            "176/176 [==============================] - 0s 3ms/step - loss: 0.3889 - accuracy: 0.8132\n",
            "Epoch 29/100\n",
            "176/176 [==============================] - 0s 3ms/step - loss: 0.3873 - accuracy: 0.8176\n",
            "Epoch 30/100\n",
            "176/176 [==============================] - 0s 3ms/step - loss: 0.3860 - accuracy: 0.8181\n",
            "Epoch 31/100\n",
            "176/176 [==============================] - 0s 3ms/step - loss: 0.3859 - accuracy: 0.8165\n",
            "Epoch 32/100\n",
            "176/176 [==============================] - 0s 3ms/step - loss: 0.3848 - accuracy: 0.8171\n",
            "Epoch 33/100\n",
            "176/176 [==============================] - 0s 3ms/step - loss: 0.3845 - accuracy: 0.8197\n",
            "Epoch 34/100\n",
            "176/176 [==============================] - 0s 3ms/step - loss: 0.3835 - accuracy: 0.8183\n",
            "Epoch 35/100\n",
            "176/176 [==============================] - 0s 3ms/step - loss: 0.3816 - accuracy: 0.8228\n",
            "Epoch 36/100\n",
            "176/176 [==============================] - 0s 3ms/step - loss: 0.3812 - accuracy: 0.8199\n",
            "Epoch 37/100\n",
            "176/176 [==============================] - 0s 3ms/step - loss: 0.3802 - accuracy: 0.8204\n",
            "Epoch 38/100\n",
            "176/176 [==============================] - 0s 3ms/step - loss: 0.3788 - accuracy: 0.8233\n",
            "Epoch 39/100\n",
            "176/176 [==============================] - 0s 3ms/step - loss: 0.3788 - accuracy: 0.8212\n",
            "Epoch 40/100\n",
            "176/176 [==============================] - 0s 3ms/step - loss: 0.3776 - accuracy: 0.8217\n",
            "Epoch 41/100\n",
            "176/176 [==============================] - 0s 3ms/step - loss: 0.3778 - accuracy: 0.8215\n",
            "Epoch 42/100\n",
            "176/176 [==============================] - 0s 3ms/step - loss: 0.3772 - accuracy: 0.8217\n",
            "Epoch 43/100\n",
            "176/176 [==============================] - 0s 3ms/step - loss: 0.3766 - accuracy: 0.8215\n",
            "Epoch 44/100\n",
            "176/176 [==============================] - 0s 3ms/step - loss: 0.3767 - accuracy: 0.8206\n",
            "Epoch 45/100\n",
            "176/176 [==============================] - 0s 3ms/step - loss: 0.3748 - accuracy: 0.8244\n",
            "Epoch 46/100\n",
            "176/176 [==============================] - 1s 3ms/step - loss: 0.3747 - accuracy: 0.8220\n",
            "Epoch 47/100\n",
            "176/176 [==============================] - 0s 3ms/step - loss: 0.3737 - accuracy: 0.8226\n",
            "Epoch 48/100\n",
            "176/176 [==============================] - 0s 3ms/step - loss: 0.3728 - accuracy: 0.8210\n",
            "Epoch 49/100\n",
            "176/176 [==============================] - 0s 3ms/step - loss: 0.3742 - accuracy: 0.8215\n",
            "Epoch 50/100\n",
            "176/176 [==============================] - 1s 3ms/step - loss: 0.3718 - accuracy: 0.8219\n",
            "Epoch 51/100\n",
            "176/176 [==============================] - 0s 3ms/step - loss: 0.3714 - accuracy: 0.8213\n",
            "Epoch 52/100\n",
            "176/176 [==============================] - 0s 3ms/step - loss: 0.3713 - accuracy: 0.8228\n",
            "Epoch 53/100\n",
            "176/176 [==============================] - 0s 3ms/step - loss: 0.3698 - accuracy: 0.8247\n",
            "Epoch 54/100\n",
            "176/176 [==============================] - 0s 3ms/step - loss: 0.3703 - accuracy: 0.8263\n",
            "Epoch 55/100\n",
            "176/176 [==============================] - 0s 3ms/step - loss: 0.3696 - accuracy: 0.8247\n",
            "Epoch 56/100\n",
            "176/176 [==============================] - 0s 3ms/step - loss: 0.3689 - accuracy: 0.8254\n",
            "Epoch 57/100\n",
            "176/176 [==============================] - 0s 3ms/step - loss: 0.3701 - accuracy: 0.8213\n",
            "Epoch 58/100\n",
            "176/176 [==============================] - 0s 3ms/step - loss: 0.3680 - accuracy: 0.8265\n",
            "Epoch 59/100\n",
            "176/176 [==============================] - 0s 3ms/step - loss: 0.3672 - accuracy: 0.8254\n",
            "Epoch 60/100\n",
            "176/176 [==============================] - 0s 3ms/step - loss: 0.3670 - accuracy: 0.8252\n",
            "Epoch 61/100\n",
            "176/176 [==============================] - 0s 3ms/step - loss: 0.3654 - accuracy: 0.8272\n",
            "Epoch 62/100\n",
            "176/176 [==============================] - 1s 3ms/step - loss: 0.3668 - accuracy: 0.8254\n",
            "Epoch 63/100\n",
            "176/176 [==============================] - 0s 3ms/step - loss: 0.3665 - accuracy: 0.8249\n",
            "Epoch 64/100\n",
            "176/176 [==============================] - 0s 3ms/step - loss: 0.3649 - accuracy: 0.8252\n",
            "Epoch 65/100\n",
            "176/176 [==============================] - 0s 3ms/step - loss: 0.3641 - accuracy: 0.8286\n",
            "Epoch 66/100\n",
            "176/176 [==============================] - 1s 3ms/step - loss: 0.3648 - accuracy: 0.8245\n",
            "Epoch 67/100\n",
            "176/176 [==============================] - 0s 3ms/step - loss: 0.3639 - accuracy: 0.8286\n",
            "Epoch 68/100\n",
            "176/176 [==============================] - 0s 3ms/step - loss: 0.3641 - accuracy: 0.8284\n",
            "Epoch 69/100\n",
            "176/176 [==============================] - 0s 3ms/step - loss: 0.3626 - accuracy: 0.8276\n",
            "Epoch 70/100\n",
            "176/176 [==============================] - 0s 3ms/step - loss: 0.3617 - accuracy: 0.8277\n",
            "Epoch 71/100\n",
            "176/176 [==============================] - 0s 3ms/step - loss: 0.3630 - accuracy: 0.8256\n",
            "Epoch 72/100\n",
            "176/176 [==============================] - 0s 3ms/step - loss: 0.3620 - accuracy: 0.8249\n",
            "Epoch 73/100\n",
            "176/176 [==============================] - 1s 3ms/step - loss: 0.3610 - accuracy: 0.8304\n",
            "Epoch 74/100\n",
            "176/176 [==============================] - 0s 3ms/step - loss: 0.3610 - accuracy: 0.8268\n",
            "Epoch 75/100\n",
            "176/176 [==============================] - 0s 3ms/step - loss: 0.3598 - accuracy: 0.8251\n",
            "Epoch 76/100\n",
            "176/176 [==============================] - 0s 3ms/step - loss: 0.3598 - accuracy: 0.8316\n",
            "Epoch 77/100\n",
            "176/176 [==============================] - 0s 3ms/step - loss: 0.3590 - accuracy: 0.8281\n",
            "Epoch 78/100\n",
            "176/176 [==============================] - 0s 3ms/step - loss: 0.3588 - accuracy: 0.8268\n",
            "Epoch 79/100\n",
            "176/176 [==============================] - 0s 3ms/step - loss: 0.3586 - accuracy: 0.8302\n",
            "Epoch 80/100\n",
            "176/176 [==============================] - 0s 3ms/step - loss: 0.3583 - accuracy: 0.8279\n",
            "Epoch 81/100\n",
            "176/176 [==============================] - 1s 3ms/step - loss: 0.3581 - accuracy: 0.8309\n",
            "Epoch 82/100\n",
            "176/176 [==============================] - 0s 3ms/step - loss: 0.3571 - accuracy: 0.8304\n",
            "Epoch 83/100\n",
            "176/176 [==============================] - 1s 3ms/step - loss: 0.3579 - accuracy: 0.8288\n",
            "Epoch 84/100\n",
            "176/176 [==============================] - 1s 3ms/step - loss: 0.3557 - accuracy: 0.8325\n",
            "Epoch 85/100\n",
            "176/176 [==============================] - 0s 3ms/step - loss: 0.3573 - accuracy: 0.8309\n",
            "Epoch 86/100\n",
            "176/176 [==============================] - 1s 3ms/step - loss: 0.3545 - accuracy: 0.8295\n",
            "Epoch 87/100\n",
            "176/176 [==============================] - 1s 3ms/step - loss: 0.3559 - accuracy: 0.8295\n",
            "Epoch 88/100\n",
            "176/176 [==============================] - 0s 3ms/step - loss: 0.3540 - accuracy: 0.8331\n",
            "Epoch 89/100\n",
            "176/176 [==============================] - 0s 3ms/step - loss: 0.3554 - accuracy: 0.8313\n",
            "Epoch 90/100\n",
            "176/176 [==============================] - 0s 3ms/step - loss: 0.3558 - accuracy: 0.8265\n",
            "Epoch 91/100\n",
            "176/176 [==============================] - 1s 3ms/step - loss: 0.3543 - accuracy: 0.8297\n",
            "Epoch 92/100\n",
            "176/176 [==============================] - 0s 3ms/step - loss: 0.3541 - accuracy: 0.8315\n",
            "Epoch 93/100\n",
            "176/176 [==============================] - 0s 3ms/step - loss: 0.3520 - accuracy: 0.8316\n",
            "Epoch 94/100\n",
            "176/176 [==============================] - 0s 3ms/step - loss: 0.3530 - accuracy: 0.8256\n",
            "Epoch 95/100\n",
            "176/176 [==============================] - 0s 3ms/step - loss: 0.3525 - accuracy: 0.8295\n",
            "Epoch 96/100\n",
            "176/176 [==============================] - 1s 3ms/step - loss: 0.3540 - accuracy: 0.8297\n",
            "Epoch 97/100\n",
            "176/176 [==============================] - 0s 3ms/step - loss: 0.3515 - accuracy: 0.8316\n",
            "Epoch 98/100\n",
            "176/176 [==============================] - 0s 3ms/step - loss: 0.3507 - accuracy: 0.8300\n",
            "Epoch 99/100\n",
            "176/176 [==============================] - 0s 3ms/step - loss: 0.3511 - accuracy: 0.8304\n",
            "Epoch 100/100\n",
            "176/176 [==============================] - 0s 3ms/step - loss: 0.3500 - accuracy: 0.8324\n",
            "44/44 [==============================] - 0s 2ms/step - loss: 0.4828 - accuracy: 0.7683\n",
            "[0.4827935993671417, 0.7683013677597046]\n",
            "Classification Report: \n",
            "               precision    recall  f1-score   support\n",
            "\n",
            "           0       0.82      0.86      0.84       999\n",
            "           1       0.62      0.54      0.57       408\n",
            "\n",
            "    accuracy                           0.77      1407\n",
            "   macro avg       0.72      0.70      0.71      1407\n",
            "weighted avg       0.76      0.77      0.76      1407\n",
            "\n"
          ]
        }
      ]
    },
    {
      "cell_type": "markdown",
      "source": [
        "f1 score for class 1 (customer leaving the subscription) = 0.57 which is too low"
      ],
      "metadata": {
        "id": "DJxWmImAWAVF"
      }
    },
    {
      "cell_type": "code",
      "source": [
        "df2.Churn.value_counts()"
      ],
      "metadata": {
        "colab": {
          "base_uri": "https://localhost:8080/"
        },
        "id": "v78wLSNKVyIN",
        "outputId": "112286f1-8e83-4eca-fcc3-574c59648c88"
      },
      "execution_count": 42,
      "outputs": [
        {
          "output_type": "execute_result",
          "data": {
            "text/plain": [
              "0    5163\n",
              "1    1869\n",
              "Name: Churn, dtype: int64"
            ]
          },
          "metadata": {},
          "execution_count": 42
        }
      ]
    },
    {
      "cell_type": "markdown",
      "source": [
        "Our dataset is imbalanced"
      ],
      "metadata": {
        "id": "EVotBuDIWfh1"
      }
    },
    {
      "cell_type": "markdown",
      "source": [
        "## Method 1: Random Under-sampling of the majority class"
      ],
      "metadata": {
        "id": "1Q0lsumasEza"
      }
    },
    {
      "cell_type": "code",
      "source": [
        "count_class_0, count_class_1 = df2.Churn.value_counts()\n",
        "count_class_0, count_class_1"
      ],
      "metadata": {
        "colab": {
          "base_uri": "https://localhost:8080/"
        },
        "id": "M8qQeW62Wj5D",
        "outputId": "12deaa28-1aa8-4ec8-b232-99e5e05f6158"
      },
      "execution_count": 43,
      "outputs": [
        {
          "output_type": "execute_result",
          "data": {
            "text/plain": [
              "(5163, 1869)"
            ]
          },
          "metadata": {},
          "execution_count": 43
        }
      ]
    },
    {
      "cell_type": "code",
      "source": [
        "df_class_0 = df2[df2.Churn == 0]\n",
        "df_class_1 = df2[df2.Churn == 1]\n",
        "df_class_0.shape"
      ],
      "metadata": {
        "colab": {
          "base_uri": "https://localhost:8080/"
        },
        "id": "UtZmspA1Wulo",
        "outputId": "b4a8fdf9-c965-45de-c3f1-bcfc9fa98ca9"
      },
      "execution_count": 44,
      "outputs": [
        {
          "output_type": "execute_result",
          "data": {
            "text/plain": [
              "(5163, 27)"
            ]
          },
          "metadata": {},
          "execution_count": 44
        }
      ]
    },
    {
      "cell_type": "code",
      "source": [
        "df_class_1.shape"
      ],
      "metadata": {
        "colab": {
          "base_uri": "https://localhost:8080/"
        },
        "id": "u7ZXngRfW8rl",
        "outputId": "97f38243-40e2-48c5-8a0f-87dadae81ffc"
      },
      "execution_count": 45,
      "outputs": [
        {
          "output_type": "execute_result",
          "data": {
            "text/plain": [
              "(1869, 27)"
            ]
          },
          "metadata": {},
          "execution_count": 45
        }
      ]
    },
    {
      "cell_type": "code",
      "source": [
        "df_class_0_under = df_class_0.sample(count_class_1)"
      ],
      "metadata": {
        "id": "ZhT5Y1XFW--_"
      },
      "execution_count": 47,
      "outputs": []
    },
    {
      "cell_type": "code",
      "source": [
        "df_class_0_under.shape"
      ],
      "metadata": {
        "colab": {
          "base_uri": "https://localhost:8080/"
        },
        "id": "SbVSLLdhXoJm",
        "outputId": "7d3e9462-9093-47a7-a6d8-19fafda32465"
      },
      "execution_count": 48,
      "outputs": [
        {
          "output_type": "execute_result",
          "data": {
            "text/plain": [
              "(1869, 27)"
            ]
          },
          "metadata": {},
          "execution_count": 48
        }
      ]
    },
    {
      "cell_type": "code",
      "source": [
        "df_under = pd.concat([df_class_0_under,df_class_1], axis=0)\n",
        "df_under.shape"
      ],
      "metadata": {
        "colab": {
          "base_uri": "https://localhost:8080/"
        },
        "id": "mWJBmhKZXzMd",
        "outputId": "d92fdc48-ec23-4150-90ce-e1778b62307a"
      },
      "execution_count": 49,
      "outputs": [
        {
          "output_type": "execute_result",
          "data": {
            "text/plain": [
              "(3738, 27)"
            ]
          },
          "metadata": {},
          "execution_count": 49
        }
      ]
    },
    {
      "cell_type": "code",
      "source": [
        "print('Random under-sampling: ')\n",
        "print(df_under.Churn.value_counts())"
      ],
      "metadata": {
        "colab": {
          "base_uri": "https://localhost:8080/"
        },
        "id": "8k9E7g-FYJi1",
        "outputId": "6394275e-6523-41c8-cd97-7eed44b2798e"
      },
      "execution_count": 51,
      "outputs": [
        {
          "output_type": "stream",
          "name": "stdout",
          "text": [
            "Random under-sampling: \n",
            "0    1869\n",
            "1    1869\n",
            "Name: Churn, dtype: int64\n"
          ]
        }
      ]
    },
    {
      "cell_type": "code",
      "source": [
        "x = df_under.drop('Churn',axis='columns')\n",
        "y = df_under['Churn']\n",
        "x_train,x_test,y_train,y_test = train_test_split(x, y, test_size=0.2, stratify=y)"
      ],
      "metadata": {
        "id": "DZzMP5TTYbLL"
      },
      "execution_count": 55,
      "outputs": []
    },
    {
      "cell_type": "markdown",
      "source": [
        "stratify = y = df_under.Churn will split data in such a way that both training and testing data will have equal proportions of classes"
      ],
      "metadata": {
        "id": "QrXAxVswZUow"
      }
    },
    {
      "cell_type": "code",
      "source": [
        "y_train.value_counts()"
      ],
      "metadata": {
        "colab": {
          "base_uri": "https://localhost:8080/"
        },
        "id": "oZ3OxbtkZDuV",
        "outputId": "2262d21f-e147-49c5-befa-25d6eee1fb4e"
      },
      "execution_count": 56,
      "outputs": [
        {
          "output_type": "execute_result",
          "data": {
            "text/plain": [
              "0    1495\n",
              "1    1495\n",
              "Name: Churn, dtype: int64"
            ]
          },
          "metadata": {},
          "execution_count": 56
        }
      ]
    },
    {
      "cell_type": "code",
      "source": [
        "y_preds = ANN(x_train,y_train,x_test,y_test,'binary_crossentropy',-1)"
      ],
      "metadata": {
        "colab": {
          "base_uri": "https://localhost:8080/"
        },
        "id": "NnPBelVXZP4u",
        "outputId": "5078422f-b11a-4fef-dceb-93330ebb57f9"
      },
      "execution_count": 57,
      "outputs": [
        {
          "output_type": "stream",
          "name": "stdout",
          "text": [
            "Epoch 1/100\n",
            "94/94 [==============================] - 1s 3ms/step - loss: 0.5985 - accuracy: 0.7040\n",
            "Epoch 2/100\n",
            "94/94 [==============================] - 0s 3ms/step - loss: 0.5171 - accuracy: 0.7562\n",
            "Epoch 3/100\n",
            "94/94 [==============================] - 0s 3ms/step - loss: 0.5042 - accuracy: 0.7599\n",
            "Epoch 4/100\n",
            "94/94 [==============================] - 0s 3ms/step - loss: 0.4953 - accuracy: 0.7629\n",
            "Epoch 5/100\n",
            "94/94 [==============================] - 0s 3ms/step - loss: 0.4899 - accuracy: 0.7656\n",
            "Epoch 6/100\n",
            "94/94 [==============================] - 0s 3ms/step - loss: 0.4862 - accuracy: 0.7682\n",
            "Epoch 7/100\n",
            "94/94 [==============================] - 0s 3ms/step - loss: 0.4821 - accuracy: 0.7766\n",
            "Epoch 8/100\n",
            "94/94 [==============================] - 0s 3ms/step - loss: 0.4784 - accuracy: 0.7732\n",
            "Epoch 9/100\n",
            "94/94 [==============================] - 0s 3ms/step - loss: 0.4769 - accuracy: 0.7766\n",
            "Epoch 10/100\n",
            "94/94 [==============================] - 0s 3ms/step - loss: 0.4730 - accuracy: 0.7776\n",
            "Epoch 11/100\n",
            "94/94 [==============================] - 0s 3ms/step - loss: 0.4719 - accuracy: 0.7826\n",
            "Epoch 12/100\n",
            "94/94 [==============================] - 0s 3ms/step - loss: 0.4694 - accuracy: 0.7839\n",
            "Epoch 13/100\n",
            "94/94 [==============================] - 0s 3ms/step - loss: 0.4672 - accuracy: 0.7849\n",
            "Epoch 14/100\n",
            "94/94 [==============================] - 0s 3ms/step - loss: 0.4654 - accuracy: 0.7876\n",
            "Epoch 15/100\n",
            "94/94 [==============================] - 0s 3ms/step - loss: 0.4636 - accuracy: 0.7846\n",
            "Epoch 16/100\n",
            "94/94 [==============================] - 0s 3ms/step - loss: 0.4625 - accuracy: 0.7876\n",
            "Epoch 17/100\n",
            "94/94 [==============================] - 0s 3ms/step - loss: 0.4597 - accuracy: 0.7896\n",
            "Epoch 18/100\n",
            "94/94 [==============================] - 0s 3ms/step - loss: 0.4585 - accuracy: 0.7953\n",
            "Epoch 19/100\n",
            "94/94 [==============================] - 0s 3ms/step - loss: 0.4578 - accuracy: 0.7903\n",
            "Epoch 20/100\n",
            "94/94 [==============================] - 0s 3ms/step - loss: 0.4566 - accuracy: 0.7960\n",
            "Epoch 21/100\n",
            "94/94 [==============================] - 0s 3ms/step - loss: 0.4538 - accuracy: 0.7960\n",
            "Epoch 22/100\n",
            "94/94 [==============================] - 0s 3ms/step - loss: 0.4534 - accuracy: 0.7913\n",
            "Epoch 23/100\n",
            "94/94 [==============================] - 0s 3ms/step - loss: 0.4514 - accuracy: 0.7933\n",
            "Epoch 24/100\n",
            "94/94 [==============================] - 0s 3ms/step - loss: 0.4502 - accuracy: 0.7970\n",
            "Epoch 25/100\n",
            "94/94 [==============================] - 0s 3ms/step - loss: 0.4509 - accuracy: 0.7967\n",
            "Epoch 26/100\n",
            "94/94 [==============================] - 0s 3ms/step - loss: 0.4481 - accuracy: 0.8020\n",
            "Epoch 27/100\n",
            "94/94 [==============================] - 0s 3ms/step - loss: 0.4466 - accuracy: 0.8003\n",
            "Epoch 28/100\n",
            "94/94 [==============================] - 0s 3ms/step - loss: 0.4452 - accuracy: 0.8007\n",
            "Epoch 29/100\n",
            "94/94 [==============================] - 0s 3ms/step - loss: 0.4442 - accuracy: 0.8013\n",
            "Epoch 30/100\n",
            "94/94 [==============================] - 0s 3ms/step - loss: 0.4435 - accuracy: 0.7997\n",
            "Epoch 31/100\n",
            "94/94 [==============================] - 0s 3ms/step - loss: 0.4435 - accuracy: 0.8037\n",
            "Epoch 32/100\n",
            "94/94 [==============================] - 0s 3ms/step - loss: 0.4412 - accuracy: 0.8050\n",
            "Epoch 33/100\n",
            "94/94 [==============================] - 0s 3ms/step - loss: 0.4398 - accuracy: 0.8013\n",
            "Epoch 34/100\n",
            "94/94 [==============================] - 0s 3ms/step - loss: 0.4411 - accuracy: 0.8000\n",
            "Epoch 35/100\n",
            "94/94 [==============================] - 0s 3ms/step - loss: 0.4383 - accuracy: 0.8064\n",
            "Epoch 36/100\n",
            "94/94 [==============================] - 0s 3ms/step - loss: 0.4362 - accuracy: 0.8070\n",
            "Epoch 37/100\n",
            "94/94 [==============================] - 0s 3ms/step - loss: 0.4369 - accuracy: 0.8070\n",
            "Epoch 38/100\n",
            "94/94 [==============================] - 0s 3ms/step - loss: 0.4334 - accuracy: 0.8127\n",
            "Epoch 39/100\n",
            "94/94 [==============================] - 0s 3ms/step - loss: 0.4353 - accuracy: 0.8060\n",
            "Epoch 40/100\n",
            "94/94 [==============================] - 0s 3ms/step - loss: 0.4332 - accuracy: 0.8080\n",
            "Epoch 41/100\n",
            "94/94 [==============================] - 0s 3ms/step - loss: 0.4318 - accuracy: 0.8084\n",
            "Epoch 42/100\n",
            "94/94 [==============================] - 0s 3ms/step - loss: 0.4302 - accuracy: 0.8144\n",
            "Epoch 43/100\n",
            "94/94 [==============================] - 0s 3ms/step - loss: 0.4296 - accuracy: 0.8130\n",
            "Epoch 44/100\n",
            "94/94 [==============================] - 0s 3ms/step - loss: 0.4295 - accuracy: 0.8077\n",
            "Epoch 45/100\n",
            "94/94 [==============================] - 0s 3ms/step - loss: 0.4274 - accuracy: 0.8097\n",
            "Epoch 46/100\n",
            "94/94 [==============================] - 0s 3ms/step - loss: 0.4264 - accuracy: 0.8154\n",
            "Epoch 47/100\n",
            "94/94 [==============================] - 0s 3ms/step - loss: 0.4257 - accuracy: 0.8130\n",
            "Epoch 48/100\n",
            "94/94 [==============================] - 0s 3ms/step - loss: 0.4247 - accuracy: 0.8140\n",
            "Epoch 49/100\n",
            "94/94 [==============================] - 0s 3ms/step - loss: 0.4245 - accuracy: 0.8087\n",
            "Epoch 50/100\n",
            "94/94 [==============================] - 0s 3ms/step - loss: 0.4218 - accuracy: 0.8181\n",
            "Epoch 51/100\n",
            "94/94 [==============================] - 0s 3ms/step - loss: 0.4213 - accuracy: 0.8154\n",
            "Epoch 52/100\n",
            "94/94 [==============================] - 0s 3ms/step - loss: 0.4206 - accuracy: 0.8194\n",
            "Epoch 53/100\n",
            "94/94 [==============================] - 0s 3ms/step - loss: 0.4174 - accuracy: 0.8177\n",
            "Epoch 54/100\n",
            "94/94 [==============================] - 0s 3ms/step - loss: 0.4197 - accuracy: 0.8174\n",
            "Epoch 55/100\n",
            "94/94 [==============================] - 0s 3ms/step - loss: 0.4165 - accuracy: 0.8194\n",
            "Epoch 56/100\n",
            "94/94 [==============================] - 0s 3ms/step - loss: 0.4167 - accuracy: 0.8167\n",
            "Epoch 57/100\n",
            "94/94 [==============================] - 0s 3ms/step - loss: 0.4157 - accuracy: 0.8204\n",
            "Epoch 58/100\n",
            "94/94 [==============================] - 0s 3ms/step - loss: 0.4148 - accuracy: 0.8197\n",
            "Epoch 59/100\n",
            "94/94 [==============================] - 0s 3ms/step - loss: 0.4133 - accuracy: 0.8194\n",
            "Epoch 60/100\n",
            "94/94 [==============================] - 0s 3ms/step - loss: 0.4118 - accuracy: 0.8234\n",
            "Epoch 61/100\n",
            "94/94 [==============================] - 0s 3ms/step - loss: 0.4117 - accuracy: 0.8207\n",
            "Epoch 62/100\n",
            "94/94 [==============================] - 0s 3ms/step - loss: 0.4089 - accuracy: 0.8227\n",
            "Epoch 63/100\n",
            "94/94 [==============================] - 0s 3ms/step - loss: 0.4088 - accuracy: 0.8241\n",
            "Epoch 64/100\n",
            "94/94 [==============================] - 0s 3ms/step - loss: 0.4066 - accuracy: 0.8224\n",
            "Epoch 65/100\n",
            "94/94 [==============================] - 0s 3ms/step - loss: 0.4067 - accuracy: 0.8224\n",
            "Epoch 66/100\n",
            "94/94 [==============================] - 0s 3ms/step - loss: 0.4059 - accuracy: 0.8294\n",
            "Epoch 67/100\n",
            "94/94 [==============================] - 0s 3ms/step - loss: 0.4050 - accuracy: 0.8234\n",
            "Epoch 68/100\n",
            "94/94 [==============================] - 0s 3ms/step - loss: 0.4047 - accuracy: 0.8261\n",
            "Epoch 69/100\n",
            "94/94 [==============================] - 0s 3ms/step - loss: 0.4025 - accuracy: 0.8301\n",
            "Epoch 70/100\n",
            "94/94 [==============================] - 0s 3ms/step - loss: 0.4008 - accuracy: 0.8284\n",
            "Epoch 71/100\n",
            "94/94 [==============================] - 0s 3ms/step - loss: 0.4013 - accuracy: 0.8254\n",
            "Epoch 72/100\n",
            "94/94 [==============================] - 0s 3ms/step - loss: 0.4018 - accuracy: 0.8264\n",
            "Epoch 73/100\n",
            "94/94 [==============================] - 0s 3ms/step - loss: 0.4001 - accuracy: 0.8294\n",
            "Epoch 74/100\n",
            "94/94 [==============================] - 0s 3ms/step - loss: 0.3999 - accuracy: 0.8254\n",
            "Epoch 75/100\n",
            "94/94 [==============================] - 0s 3ms/step - loss: 0.3988 - accuracy: 0.8237\n",
            "Epoch 76/100\n",
            "94/94 [==============================] - 0s 3ms/step - loss: 0.3972 - accuracy: 0.8264\n",
            "Epoch 77/100\n",
            "94/94 [==============================] - 0s 3ms/step - loss: 0.3953 - accuracy: 0.8308\n",
            "Epoch 78/100\n",
            "94/94 [==============================] - 0s 3ms/step - loss: 0.3960 - accuracy: 0.8294\n",
            "Epoch 79/100\n",
            "94/94 [==============================] - 0s 3ms/step - loss: 0.3937 - accuracy: 0.8284\n",
            "Epoch 80/100\n",
            "94/94 [==============================] - 0s 3ms/step - loss: 0.3945 - accuracy: 0.8294\n",
            "Epoch 81/100\n",
            "94/94 [==============================] - 0s 3ms/step - loss: 0.3920 - accuracy: 0.8291\n",
            "Epoch 82/100\n",
            "94/94 [==============================] - 0s 3ms/step - loss: 0.3912 - accuracy: 0.8294\n",
            "Epoch 83/100\n",
            "94/94 [==============================] - 0s 3ms/step - loss: 0.3922 - accuracy: 0.8308\n",
            "Epoch 84/100\n",
            "94/94 [==============================] - 0s 3ms/step - loss: 0.3916 - accuracy: 0.8288\n",
            "Epoch 85/100\n",
            "94/94 [==============================] - 0s 3ms/step - loss: 0.3887 - accuracy: 0.8321\n",
            "Epoch 86/100\n",
            "94/94 [==============================] - 0s 3ms/step - loss: 0.3880 - accuracy: 0.8278\n",
            "Epoch 87/100\n",
            "94/94 [==============================] - 0s 3ms/step - loss: 0.3867 - accuracy: 0.8318\n",
            "Epoch 88/100\n",
            "94/94 [==============================] - 0s 3ms/step - loss: 0.3868 - accuracy: 0.8288\n",
            "Epoch 89/100\n",
            "94/94 [==============================] - 0s 3ms/step - loss: 0.3862 - accuracy: 0.8344\n",
            "Epoch 90/100\n",
            "94/94 [==============================] - 0s 3ms/step - loss: 0.3848 - accuracy: 0.8351\n",
            "Epoch 91/100\n",
            "94/94 [==============================] - 0s 3ms/step - loss: 0.3864 - accuracy: 0.8314\n",
            "Epoch 92/100\n",
            "94/94 [==============================] - 0s 3ms/step - loss: 0.3845 - accuracy: 0.8328\n",
            "Epoch 93/100\n",
            "94/94 [==============================] - 0s 3ms/step - loss: 0.3831 - accuracy: 0.8304\n",
            "Epoch 94/100\n",
            "94/94 [==============================] - 0s 3ms/step - loss: 0.3810 - accuracy: 0.8351\n",
            "Epoch 95/100\n",
            "94/94 [==============================] - 0s 3ms/step - loss: 0.3814 - accuracy: 0.8298\n",
            "Epoch 96/100\n",
            "94/94 [==============================] - 0s 3ms/step - loss: 0.3810 - accuracy: 0.8351\n",
            "Epoch 97/100\n",
            "94/94 [==============================] - 0s 3ms/step - loss: 0.3791 - accuracy: 0.8334\n",
            "Epoch 98/100\n",
            "94/94 [==============================] - 0s 3ms/step - loss: 0.3790 - accuracy: 0.8334\n",
            "Epoch 99/100\n",
            "94/94 [==============================] - 0s 3ms/step - loss: 0.3770 - accuracy: 0.8395\n",
            "Epoch 100/100\n",
            "94/94 [==============================] - 0s 3ms/step - loss: 0.3763 - accuracy: 0.8395\n",
            "24/24 [==============================] - 0s 2ms/step - loss: 0.5960 - accuracy: 0.7219\n",
            "[0.5960095524787903, 0.7219251394271851]\n",
            "Classification Report: \n",
            "               precision    recall  f1-score   support\n",
            "\n",
            "           0       0.73      0.70      0.72       374\n",
            "           1       0.71      0.74      0.73       374\n",
            "\n",
            "    accuracy                           0.72       748\n",
            "   macro avg       0.72      0.72      0.72       748\n",
            "weighted avg       0.72      0.72      0.72       748\n",
            "\n"
          ]
        }
      ]
    },
    {
      "cell_type": "markdown",
      "source": [
        "Previous Classification report\n",
        "\n",
        "![image.png](data:image/png;base64,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)"
      ],
      "metadata": {
        "id": "SMPdu-05a7un"
      }
    },
    {
      "cell_type": "markdown",
      "source": [
        "The precision, recall and f1 score has improved for the minority class and decreased for majority class but this seems to be fair treatment to both classes as they have similar scores."
      ],
      "metadata": {
        "id": "NJeYjIHvbac8"
      }
    },
    {
      "cell_type": "markdown",
      "source": [
        "## Method 2: Over-sampling the minority class"
      ],
      "metadata": {
        "id": "D2YPlG5Wb32U"
      }
    },
    {
      "cell_type": "code",
      "source": [
        "count_class_0, count_class_1"
      ],
      "metadata": {
        "colab": {
          "base_uri": "https://localhost:8080/"
        },
        "id": "JfR4qKNxa3_g",
        "outputId": "e9296d10-0ed8-445f-92a6-0928e7b7e714"
      },
      "execution_count": 58,
      "outputs": [
        {
          "output_type": "execute_result",
          "data": {
            "text/plain": [
              "(5163, 1869)"
            ]
          },
          "metadata": {},
          "execution_count": 58
        }
      ]
    },
    {
      "cell_type": "code",
      "source": [
        "df_class_1.sample(2000)"
      ],
      "metadata": {
        "colab": {
          "base_uri": "https://localhost:8080/",
          "height": 321
        },
        "id": "pXmmXVShcK53",
        "outputId": "23728cbb-4d1c-46cd-a0e9-ab365e333966"
      },
      "execution_count": 59,
      "outputs": [
        {
          "output_type": "error",
          "ename": "ValueError",
          "evalue": "ignored",
          "traceback": [
            "\u001b[0;31m---------------------------------------------------------------------------\u001b[0m",
            "\u001b[0;31mValueError\u001b[0m                                Traceback (most recent call last)",
            "\u001b[0;32m<ipython-input-59-31618cd3b40e>\u001b[0m in \u001b[0;36m<module>\u001b[0;34m\u001b[0m\n\u001b[0;32m----> 1\u001b[0;31m \u001b[0mdf_class_1\u001b[0m\u001b[0;34m.\u001b[0m\u001b[0msample\u001b[0m\u001b[0;34m(\u001b[0m\u001b[0;36m2000\u001b[0m\u001b[0;34m)\u001b[0m\u001b[0;34m\u001b[0m\u001b[0;34m\u001b[0m\u001b[0m\n\u001b[0m",
            "\u001b[0;32m/usr/local/lib/python3.7/dist-packages/pandas/core/generic.py\u001b[0m in \u001b[0;36msample\u001b[0;34m(self, n, frac, replace, weights, random_state, axis, ignore_index)\u001b[0m\n\u001b[1;32m   5363\u001b[0m             )\n\u001b[1;32m   5364\u001b[0m \u001b[0;34m\u001b[0m\u001b[0m\n\u001b[0;32m-> 5365\u001b[0;31m         \u001b[0mlocs\u001b[0m \u001b[0;34m=\u001b[0m \u001b[0mrs\u001b[0m\u001b[0;34m.\u001b[0m\u001b[0mchoice\u001b[0m\u001b[0;34m(\u001b[0m\u001b[0maxis_length\u001b[0m\u001b[0;34m,\u001b[0m \u001b[0msize\u001b[0m\u001b[0;34m=\u001b[0m\u001b[0mn\u001b[0m\u001b[0;34m,\u001b[0m \u001b[0mreplace\u001b[0m\u001b[0;34m=\u001b[0m\u001b[0mreplace\u001b[0m\u001b[0;34m,\u001b[0m \u001b[0mp\u001b[0m\u001b[0;34m=\u001b[0m\u001b[0mweights\u001b[0m\u001b[0;34m)\u001b[0m\u001b[0;34m\u001b[0m\u001b[0;34m\u001b[0m\u001b[0m\n\u001b[0m\u001b[1;32m   5366\u001b[0m         \u001b[0mresult\u001b[0m \u001b[0;34m=\u001b[0m \u001b[0mself\u001b[0m\u001b[0;34m.\u001b[0m\u001b[0mtake\u001b[0m\u001b[0;34m(\u001b[0m\u001b[0mlocs\u001b[0m\u001b[0;34m,\u001b[0m \u001b[0maxis\u001b[0m\u001b[0;34m=\u001b[0m\u001b[0maxis\u001b[0m\u001b[0;34m)\u001b[0m\u001b[0;34m\u001b[0m\u001b[0;34m\u001b[0m\u001b[0m\n\u001b[1;32m   5367\u001b[0m         \u001b[0;32mif\u001b[0m \u001b[0mignore_index\u001b[0m\u001b[0;34m:\u001b[0m\u001b[0;34m\u001b[0m\u001b[0;34m\u001b[0m\u001b[0m\n",
            "\u001b[0;32mmtrand.pyx\u001b[0m in \u001b[0;36mnumpy.random.mtrand.RandomState.choice\u001b[0;34m()\u001b[0m\n",
            "\u001b[0;31mValueError\u001b[0m: Cannot take a larger sample than population when 'replace=False'"
          ]
        }
      ]
    },
    {
      "cell_type": "markdown",
      "source": [
        "Since there aren't enough samples we will get error. So we need to give an additional argument replace=True"
      ],
      "metadata": {
        "id": "UdFY_yLxdH7K"
      }
    },
    {
      "cell_type": "code",
      "source": [
        "df_class_1.sample(2000, replace=True).shape"
      ],
      "metadata": {
        "colab": {
          "base_uri": "https://localhost:8080/"
        },
        "id": "uDpghosLdDsj",
        "outputId": "ace99634-607a-4190-f3f2-149f91794b09"
      },
      "execution_count": 60,
      "outputs": [
        {
          "output_type": "execute_result",
          "data": {
            "text/plain": [
              "(2000, 27)"
            ]
          },
          "metadata": {},
          "execution_count": 60
        }
      ]
    },
    {
      "cell_type": "code",
      "source": [
        "df_class_1_over = df_class_1.sample(count_class_0, replace=True)"
      ],
      "metadata": {
        "id": "supXctxydYY5"
      },
      "execution_count": 62,
      "outputs": []
    },
    {
      "cell_type": "code",
      "source": [
        "df_class_1_over.shape"
      ],
      "metadata": {
        "colab": {
          "base_uri": "https://localhost:8080/"
        },
        "id": "qD6iwGNJddTy",
        "outputId": "3fa25741-4dd8-4245-9fef-c7eb6aff44fe"
      },
      "execution_count": 64,
      "outputs": [
        {
          "output_type": "execute_result",
          "data": {
            "text/plain": [
              "(5163, 27)"
            ]
          },
          "metadata": {},
          "execution_count": 64
        }
      ]
    },
    {
      "cell_type": "code",
      "source": [
        "df_over = pd.concat([df_class_0,df_class_1_over],axis=0)\n",
        "df_over.shape"
      ],
      "metadata": {
        "colab": {
          "base_uri": "https://localhost:8080/"
        },
        "id": "sNq7_rjxdnxU",
        "outputId": "c156b4ce-2653-4e3c-f08f-fdc9938be1d5"
      },
      "execution_count": 65,
      "outputs": [
        {
          "output_type": "execute_result",
          "data": {
            "text/plain": [
              "(10326, 27)"
            ]
          },
          "metadata": {},
          "execution_count": 65
        }
      ]
    },
    {
      "cell_type": "code",
      "source": [
        "print('Random over-sampling: ')\n",
        "print(df_over.Churn.value_counts())"
      ],
      "metadata": {
        "colab": {
          "base_uri": "https://localhost:8080/"
        },
        "id": "xP9Lm6SKd2ir",
        "outputId": "fb3fd6d8-5008-4cd2-de4c-5ed4fd705f0d"
      },
      "execution_count": 66,
      "outputs": [
        {
          "output_type": "stream",
          "name": "stdout",
          "text": [
            "Random over-sampling: \n",
            "0    5163\n",
            "1    5163\n",
            "Name: Churn, dtype: int64\n"
          ]
        }
      ]
    },
    {
      "cell_type": "code",
      "source": [
        "x = df_over.drop('Churn',axis='columns')\n",
        "y = df_over['Churn']\n",
        "x_train,x_test,y_train,y_test = train_test_split(x, y, test_size=0.2, stratify=y)"
      ],
      "metadata": {
        "id": "L0j7d5mAd-DQ"
      },
      "execution_count": 67,
      "outputs": []
    },
    {
      "cell_type": "code",
      "source": [
        "y_train.value_counts()"
      ],
      "metadata": {
        "colab": {
          "base_uri": "https://localhost:8080/"
        },
        "id": "MGjfGtWheI6R",
        "outputId": "9dfdb7c0-431e-4883-eea4-b77f585ebde2"
      },
      "execution_count": 68,
      "outputs": [
        {
          "output_type": "execute_result",
          "data": {
            "text/plain": [
              "1    4130\n",
              "0    4130\n",
              "Name: Churn, dtype: int64"
            ]
          },
          "metadata": {},
          "execution_count": 68
        }
      ]
    },
    {
      "cell_type": "code",
      "source": [
        "y_preds = ANN(x_train,y_train,x_test,y_test,'binary_crossentropy',-1)"
      ],
      "metadata": {
        "colab": {
          "base_uri": "https://localhost:8080/"
        },
        "id": "nR4zGOeheM64",
        "outputId": "d4d30547-514b-479b-bf02-ae2e554ce4b6"
      },
      "execution_count": 69,
      "outputs": [
        {
          "output_type": "stream",
          "name": "stdout",
          "text": [
            "Epoch 1/100\n",
            "259/259 [==============================] - 2s 4ms/step - loss: 0.5580 - accuracy: 0.7218\n",
            "Epoch 2/100\n",
            "259/259 [==============================] - 1s 5ms/step - loss: 0.4950 - accuracy: 0.7637\n",
            "Epoch 3/100\n",
            "259/259 [==============================] - 1s 4ms/step - loss: 0.4831 - accuracy: 0.7707\n",
            "Epoch 4/100\n",
            "259/259 [==============================] - 1s 3ms/step - loss: 0.4767 - accuracy: 0.7740\n",
            "Epoch 5/100\n",
            "259/259 [==============================] - 1s 3ms/step - loss: 0.4739 - accuracy: 0.7746\n",
            "Epoch 6/100\n",
            "259/259 [==============================] - 1s 3ms/step - loss: 0.4686 - accuracy: 0.7782\n",
            "Epoch 7/100\n",
            "259/259 [==============================] - 1s 3ms/step - loss: 0.4658 - accuracy: 0.7787\n",
            "Epoch 8/100\n",
            "259/259 [==============================] - 1s 3ms/step - loss: 0.4624 - accuracy: 0.7795\n",
            "Epoch 9/100\n",
            "259/259 [==============================] - 1s 3ms/step - loss: 0.4600 - accuracy: 0.7824\n",
            "Epoch 10/100\n",
            "259/259 [==============================] - 1s 3ms/step - loss: 0.4549 - accuracy: 0.7840\n",
            "Epoch 11/100\n",
            "259/259 [==============================] - 1s 3ms/step - loss: 0.4533 - accuracy: 0.7844\n",
            "Epoch 12/100\n",
            "259/259 [==============================] - 1s 3ms/step - loss: 0.4505 - accuracy: 0.7852\n",
            "Epoch 13/100\n",
            "259/259 [==============================] - 1s 3ms/step - loss: 0.4476 - accuracy: 0.7874\n",
            "Epoch 14/100\n",
            "259/259 [==============================] - 1s 3ms/step - loss: 0.4454 - accuracy: 0.7863\n",
            "Epoch 15/100\n",
            "259/259 [==============================] - 1s 3ms/step - loss: 0.4429 - accuracy: 0.7870\n",
            "Epoch 16/100\n",
            "259/259 [==============================] - 1s 3ms/step - loss: 0.4407 - accuracy: 0.7920\n",
            "Epoch 17/100\n",
            "259/259 [==============================] - 1s 3ms/step - loss: 0.4388 - accuracy: 0.7896\n",
            "Epoch 18/100\n",
            "259/259 [==============================] - 1s 3ms/step - loss: 0.4368 - accuracy: 0.7923\n",
            "Epoch 19/100\n",
            "259/259 [==============================] - 1s 3ms/step - loss: 0.4362 - accuracy: 0.7914\n",
            "Epoch 20/100\n",
            "259/259 [==============================] - 1s 3ms/step - loss: 0.4337 - accuracy: 0.7935\n",
            "Epoch 21/100\n",
            "259/259 [==============================] - 1s 3ms/step - loss: 0.4304 - accuracy: 0.7976\n",
            "Epoch 22/100\n",
            "259/259 [==============================] - 1s 3ms/step - loss: 0.4284 - accuracy: 0.7954\n",
            "Epoch 23/100\n",
            "259/259 [==============================] - 1s 3ms/step - loss: 0.4281 - accuracy: 0.7942\n",
            "Epoch 24/100\n",
            "259/259 [==============================] - 1s 3ms/step - loss: 0.4278 - accuracy: 0.7966\n",
            "Epoch 25/100\n",
            "259/259 [==============================] - 1s 3ms/step - loss: 0.4244 - accuracy: 0.7990\n",
            "Epoch 26/100\n",
            "259/259 [==============================] - 1s 3ms/step - loss: 0.4231 - accuracy: 0.8012\n",
            "Epoch 27/100\n",
            "259/259 [==============================] - 1s 3ms/step - loss: 0.4224 - accuracy: 0.7992\n",
            "Epoch 28/100\n",
            "259/259 [==============================] - 1s 3ms/step - loss: 0.4194 - accuracy: 0.8022\n",
            "Epoch 29/100\n",
            "259/259 [==============================] - 1s 3ms/step - loss: 0.4197 - accuracy: 0.8019\n",
            "Epoch 30/100\n",
            "259/259 [==============================] - 1s 3ms/step - loss: 0.4179 - accuracy: 0.8028\n",
            "Epoch 31/100\n",
            "259/259 [==============================] - 1s 3ms/step - loss: 0.4153 - accuracy: 0.8036\n",
            "Epoch 32/100\n",
            "259/259 [==============================] - 1s 3ms/step - loss: 0.4145 - accuracy: 0.8074\n",
            "Epoch 33/100\n",
            "259/259 [==============================] - 1s 3ms/step - loss: 0.4140 - accuracy: 0.8086\n",
            "Epoch 34/100\n",
            "259/259 [==============================] - 1s 3ms/step - loss: 0.4126 - accuracy: 0.8079\n",
            "Epoch 35/100\n",
            "259/259 [==============================] - 1s 3ms/step - loss: 0.4115 - accuracy: 0.8090\n",
            "Epoch 36/100\n",
            "259/259 [==============================] - 1s 3ms/step - loss: 0.4109 - accuracy: 0.8094\n",
            "Epoch 37/100\n",
            "259/259 [==============================] - 1s 3ms/step - loss: 0.4096 - accuracy: 0.8087\n",
            "Epoch 38/100\n",
            "259/259 [==============================] - 1s 3ms/step - loss: 0.4073 - accuracy: 0.8120\n",
            "Epoch 39/100\n",
            "259/259 [==============================] - 1s 4ms/step - loss: 0.4067 - accuracy: 0.8102\n",
            "Epoch 40/100\n",
            "259/259 [==============================] - 1s 5ms/step - loss: 0.4049 - accuracy: 0.8094\n",
            "Epoch 41/100\n",
            "259/259 [==============================] - 1s 3ms/step - loss: 0.4036 - accuracy: 0.8161\n",
            "Epoch 42/100\n",
            "259/259 [==============================] - 1s 3ms/step - loss: 0.4040 - accuracy: 0.8114\n",
            "Epoch 43/100\n",
            "259/259 [==============================] - 1s 3ms/step - loss: 0.4022 - accuracy: 0.8132\n",
            "Epoch 44/100\n",
            "259/259 [==============================] - 1s 3ms/step - loss: 0.4007 - accuracy: 0.8168\n",
            "Epoch 45/100\n",
            "259/259 [==============================] - 1s 3ms/step - loss: 0.3990 - accuracy: 0.8167\n",
            "Epoch 46/100\n",
            "259/259 [==============================] - 1s 3ms/step - loss: 0.3994 - accuracy: 0.8140\n",
            "Epoch 47/100\n",
            "259/259 [==============================] - 1s 3ms/step - loss: 0.3984 - accuracy: 0.8183\n",
            "Epoch 48/100\n",
            "259/259 [==============================] - 1s 3ms/step - loss: 0.3970 - accuracy: 0.8145\n",
            "Epoch 49/100\n",
            "259/259 [==============================] - 1s 3ms/step - loss: 0.3961 - accuracy: 0.8150\n",
            "Epoch 50/100\n",
            "259/259 [==============================] - 1s 3ms/step - loss: 0.3969 - accuracy: 0.8174\n",
            "Epoch 51/100\n",
            "259/259 [==============================] - 1s 3ms/step - loss: 0.3946 - accuracy: 0.8172\n",
            "Epoch 52/100\n",
            "259/259 [==============================] - 1s 3ms/step - loss: 0.3937 - accuracy: 0.8188\n",
            "Epoch 53/100\n",
            "259/259 [==============================] - 1s 3ms/step - loss: 0.3917 - accuracy: 0.8226\n",
            "Epoch 54/100\n",
            "259/259 [==============================] - 1s 3ms/step - loss: 0.3929 - accuracy: 0.8179\n",
            "Epoch 55/100\n",
            "259/259 [==============================] - 1s 3ms/step - loss: 0.3921 - accuracy: 0.8201\n",
            "Epoch 56/100\n",
            "259/259 [==============================] - 1s 3ms/step - loss: 0.3914 - accuracy: 0.8199\n",
            "Epoch 57/100\n",
            "259/259 [==============================] - 1s 3ms/step - loss: 0.3897 - accuracy: 0.8235\n",
            "Epoch 58/100\n",
            "259/259 [==============================] - 1s 3ms/step - loss: 0.3886 - accuracy: 0.8225\n",
            "Epoch 59/100\n",
            "259/259 [==============================] - 1s 3ms/step - loss: 0.3895 - accuracy: 0.8219\n",
            "Epoch 60/100\n",
            "259/259 [==============================] - 1s 3ms/step - loss: 0.3872 - accuracy: 0.8224\n",
            "Epoch 61/100\n",
            "259/259 [==============================] - 1s 3ms/step - loss: 0.3855 - accuracy: 0.8238\n",
            "Epoch 62/100\n",
            "259/259 [==============================] - 1s 3ms/step - loss: 0.3853 - accuracy: 0.8230\n",
            "Epoch 63/100\n",
            "259/259 [==============================] - 1s 3ms/step - loss: 0.3845 - accuracy: 0.8237\n",
            "Epoch 64/100\n",
            "259/259 [==============================] - 1s 3ms/step - loss: 0.3839 - accuracy: 0.8258\n",
            "Epoch 65/100\n",
            "259/259 [==============================] - 1s 3ms/step - loss: 0.3833 - accuracy: 0.8242\n",
            "Epoch 66/100\n",
            "259/259 [==============================] - 1s 3ms/step - loss: 0.3818 - accuracy: 0.8276\n",
            "Epoch 67/100\n",
            "259/259 [==============================] - 1s 3ms/step - loss: 0.3818 - accuracy: 0.8314\n",
            "Epoch 68/100\n",
            "259/259 [==============================] - 1s 3ms/step - loss: 0.3811 - accuracy: 0.8248\n",
            "Epoch 69/100\n",
            "259/259 [==============================] - 1s 3ms/step - loss: 0.3784 - accuracy: 0.8300\n",
            "Epoch 70/100\n",
            "259/259 [==============================] - 1s 3ms/step - loss: 0.3800 - accuracy: 0.8288\n",
            "Epoch 71/100\n",
            "259/259 [==============================] - 1s 3ms/step - loss: 0.3782 - accuracy: 0.8287\n",
            "Epoch 72/100\n",
            "259/259 [==============================] - 1s 3ms/step - loss: 0.3760 - accuracy: 0.8298\n",
            "Epoch 73/100\n",
            "259/259 [==============================] - 1s 3ms/step - loss: 0.3776 - accuracy: 0.8285\n",
            "Epoch 74/100\n",
            "259/259 [==============================] - 1s 3ms/step - loss: 0.3765 - accuracy: 0.8269\n",
            "Epoch 75/100\n",
            "259/259 [==============================] - 1s 3ms/step - loss: 0.3755 - accuracy: 0.8337\n",
            "Epoch 76/100\n",
            "259/259 [==============================] - 1s 3ms/step - loss: 0.3758 - accuracy: 0.8315\n",
            "Epoch 77/100\n",
            "259/259 [==============================] - 1s 3ms/step - loss: 0.3737 - accuracy: 0.8349\n",
            "Epoch 78/100\n",
            "259/259 [==============================] - 1s 3ms/step - loss: 0.3726 - accuracy: 0.8334\n",
            "Epoch 79/100\n",
            "259/259 [==============================] - 1s 3ms/step - loss: 0.3720 - accuracy: 0.8322\n",
            "Epoch 80/100\n",
            "259/259 [==============================] - 1s 3ms/step - loss: 0.3729 - accuracy: 0.8332\n",
            "Epoch 81/100\n",
            "259/259 [==============================] - 1s 3ms/step - loss: 0.3721 - accuracy: 0.8324\n",
            "Epoch 82/100\n",
            "259/259 [==============================] - 1s 3ms/step - loss: 0.3692 - accuracy: 0.8315\n",
            "Epoch 83/100\n",
            "259/259 [==============================] - 1s 3ms/step - loss: 0.3719 - accuracy: 0.8337\n",
            "Epoch 84/100\n",
            "259/259 [==============================] - 1s 3ms/step - loss: 0.3689 - accuracy: 0.8352\n",
            "Epoch 85/100\n",
            "259/259 [==============================] - 1s 3ms/step - loss: 0.3683 - accuracy: 0.8346\n",
            "Epoch 86/100\n",
            "259/259 [==============================] - 1s 3ms/step - loss: 0.3685 - accuracy: 0.8347\n",
            "Epoch 87/100\n",
            "259/259 [==============================] - 1s 3ms/step - loss: 0.3674 - accuracy: 0.8375\n",
            "Epoch 88/100\n",
            "259/259 [==============================] - 1s 3ms/step - loss: 0.3675 - accuracy: 0.8351\n",
            "Epoch 89/100\n",
            "259/259 [==============================] - 1s 3ms/step - loss: 0.3675 - accuracy: 0.8364\n",
            "Epoch 90/100\n",
            "259/259 [==============================] - 1s 3ms/step - loss: 0.3648 - accuracy: 0.8368\n",
            "Epoch 91/100\n",
            "259/259 [==============================] - 1s 3ms/step - loss: 0.3652 - accuracy: 0.8373\n",
            "Epoch 92/100\n",
            "259/259 [==============================] - 1s 3ms/step - loss: 0.3649 - accuracy: 0.8381\n",
            "Epoch 93/100\n",
            "259/259 [==============================] - 1s 3ms/step - loss: 0.3628 - accuracy: 0.8385\n",
            "Epoch 94/100\n",
            "259/259 [==============================] - 1s 3ms/step - loss: 0.3659 - accuracy: 0.8363\n",
            "Epoch 95/100\n",
            "259/259 [==============================] - 1s 3ms/step - loss: 0.3623 - accuracy: 0.8395\n",
            "Epoch 96/100\n",
            "259/259 [==============================] - 1s 3ms/step - loss: 0.3627 - accuracy: 0.8369\n",
            "Epoch 97/100\n",
            "259/259 [==============================] - 1s 3ms/step - loss: 0.3625 - accuracy: 0.8387\n",
            "Epoch 98/100\n",
            "259/259 [==============================] - 1s 3ms/step - loss: 0.3608 - accuracy: 0.8379\n",
            "Epoch 99/100\n",
            "259/259 [==============================] - 1s 3ms/step - loss: 0.3608 - accuracy: 0.8406\n",
            "Epoch 100/100\n",
            "259/259 [==============================] - 1s 3ms/step - loss: 0.3619 - accuracy: 0.8398\n",
            "65/65 [==============================] - 0s 2ms/step - loss: 0.4841 - accuracy: 0.7856\n",
            "[0.4840933680534363, 0.7855759859085083]\n",
            "Classification Report: \n",
            "               precision    recall  f1-score   support\n",
            "\n",
            "           0       0.82      0.73      0.77      1033\n",
            "           1       0.76      0.84      0.80      1033\n",
            "\n",
            "    accuracy                           0.79      2066\n",
            "   macro avg       0.79      0.79      0.78      2066\n",
            "weighted avg       0.79      0.79      0.78      2066\n",
            "\n"
          ]
        }
      ]
    },
    {
      "cell_type": "markdown",
      "source": [
        "## Method 3: SMOTE (Synthetic Minority Oversampling Technique)"
      ],
      "metadata": {
        "id": "4kBJ3DsFesV0"
      }
    },
    {
      "cell_type": "code",
      "source": [
        "x = df2.drop('Churn',axis='columns')\n",
        "y = df2['Churn']"
      ],
      "metadata": {
        "id": "r2ua7MdteSnS"
      },
      "execution_count": 70,
      "outputs": []
    },
    {
      "cell_type": "code",
      "source": [
        "y.value_counts()"
      ],
      "metadata": {
        "colab": {
          "base_uri": "https://localhost:8080/"
        },
        "id": "Pp1AtvSbfzPG",
        "outputId": "dbad2bf6-dd98-47fd-b5c0-142dc4187e23"
      },
      "execution_count": 71,
      "outputs": [
        {
          "output_type": "execute_result",
          "data": {
            "text/plain": [
              "0    5163\n",
              "1    1869\n",
              "Name: Churn, dtype: int64"
            ]
          },
          "metadata": {},
          "execution_count": 71
        }
      ]
    },
    {
      "cell_type": "code",
      "source": [
        "from imblearn.over_sampling import SMOTE\n",
        "\n",
        "smote = SMOTE(sampling_strategy='minority')\n",
        "x_sm, y_sm = smote.fit_resample(x,y)\n",
        "\n",
        "y_sm.value_counts()"
      ],
      "metadata": {
        "colab": {
          "base_uri": "https://localhost:8080/"
        },
        "id": "T8wf2hjLfD-1",
        "outputId": "4067bd7e-c051-452f-d5db-50593c2d379d"
      },
      "execution_count": 73,
      "outputs": [
        {
          "output_type": "execute_result",
          "data": {
            "text/plain": [
              "0    5163\n",
              "1    5163\n",
              "Name: Churn, dtype: int64"
            ]
          },
          "metadata": {},
          "execution_count": 73
        }
      ]
    },
    {
      "cell_type": "code",
      "source": [
        "x_train,x_test,y_train,y_test = train_test_split(x_sm, y_sm, test_size=0.2, stratify=y_sm)"
      ],
      "metadata": {
        "id": "nhqFJ9waf5Y2"
      },
      "execution_count": 75,
      "outputs": []
    },
    {
      "cell_type": "code",
      "source": [
        "y_train.value_counts()"
      ],
      "metadata": {
        "colab": {
          "base_uri": "https://localhost:8080/"
        },
        "id": "dDjWH6N_gW4R",
        "outputId": "582c2bad-b6d4-43a7-f006-b2272b1a1d0d"
      },
      "execution_count": 76,
      "outputs": [
        {
          "output_type": "execute_result",
          "data": {
            "text/plain": [
              "0    4130\n",
              "1    4130\n",
              "Name: Churn, dtype: int64"
            ]
          },
          "metadata": {},
          "execution_count": 76
        }
      ]
    },
    {
      "cell_type": "code",
      "source": [
        "y_test.value_counts()"
      ],
      "metadata": {
        "colab": {
          "base_uri": "https://localhost:8080/"
        },
        "id": "-WysIc-NgfrY",
        "outputId": "e4d49f6b-33f3-4ec1-9bd8-1f963cb4dfd9"
      },
      "execution_count": 77,
      "outputs": [
        {
          "output_type": "execute_result",
          "data": {
            "text/plain": [
              "1    1033\n",
              "0    1033\n",
              "Name: Churn, dtype: int64"
            ]
          },
          "metadata": {},
          "execution_count": 77
        }
      ]
    },
    {
      "cell_type": "code",
      "source": [
        "y_preds = ANN(x_train,y_train,x_test,y_test,'binary_crossentropy',-1)"
      ],
      "metadata": {
        "colab": {
          "base_uri": "https://localhost:8080/"
        },
        "id": "YI6DDbL7giHf",
        "outputId": "f29bce34-8713-46f5-cea4-66b6771b075c"
      },
      "execution_count": 78,
      "outputs": [
        {
          "output_type": "stream",
          "name": "stdout",
          "text": [
            "Epoch 1/100\n",
            "259/259 [==============================] - 2s 5ms/step - loss: 0.5165 - accuracy: 0.7562\n",
            "Epoch 2/100\n",
            "259/259 [==============================] - 1s 5ms/step - loss: 0.4751 - accuracy: 0.7749\n",
            "Epoch 3/100\n",
            "259/259 [==============================] - 1s 3ms/step - loss: 0.4676 - accuracy: 0.7771\n",
            "Epoch 4/100\n",
            "259/259 [==============================] - 1s 4ms/step - loss: 0.4615 - accuracy: 0.7818\n",
            "Epoch 5/100\n",
            "259/259 [==============================] - 1s 3ms/step - loss: 0.4562 - accuracy: 0.7835\n",
            "Epoch 6/100\n",
            "259/259 [==============================] - 1s 3ms/step - loss: 0.4511 - accuracy: 0.7863\n",
            "Epoch 7/100\n",
            "259/259 [==============================] - 1s 3ms/step - loss: 0.4478 - accuracy: 0.7912\n",
            "Epoch 8/100\n",
            "259/259 [==============================] - 1s 3ms/step - loss: 0.4436 - accuracy: 0.7868\n",
            "Epoch 9/100\n",
            "259/259 [==============================] - 1s 3ms/step - loss: 0.4401 - accuracy: 0.7936\n",
            "Epoch 10/100\n",
            "259/259 [==============================] - 1s 3ms/step - loss: 0.4365 - accuracy: 0.7926\n",
            "Epoch 11/100\n",
            "259/259 [==============================] - 1s 3ms/step - loss: 0.4342 - accuracy: 0.7952\n",
            "Epoch 12/100\n",
            "259/259 [==============================] - 1s 3ms/step - loss: 0.4322 - accuracy: 0.7961\n",
            "Epoch 13/100\n",
            "259/259 [==============================] - 1s 3ms/step - loss: 0.4271 - accuracy: 0.7994\n",
            "Epoch 14/100\n",
            "259/259 [==============================] - 1s 3ms/step - loss: 0.4252 - accuracy: 0.8024\n",
            "Epoch 15/100\n",
            "259/259 [==============================] - 1s 3ms/step - loss: 0.4240 - accuracy: 0.8033\n",
            "Epoch 16/100\n",
            "259/259 [==============================] - 1s 3ms/step - loss: 0.4186 - accuracy: 0.8077\n",
            "Epoch 17/100\n",
            "259/259 [==============================] - 1s 3ms/step - loss: 0.4189 - accuracy: 0.8048\n",
            "Epoch 18/100\n",
            "259/259 [==============================] - 1s 3ms/step - loss: 0.4142 - accuracy: 0.8088\n",
            "Epoch 19/100\n",
            "259/259 [==============================] - 1s 3ms/step - loss: 0.4125 - accuracy: 0.8130\n",
            "Epoch 20/100\n",
            "259/259 [==============================] - 1s 3ms/step - loss: 0.4114 - accuracy: 0.8157\n",
            "Epoch 21/100\n",
            "259/259 [==============================] - 1s 3ms/step - loss: 0.4085 - accuracy: 0.8122\n",
            "Epoch 22/100\n",
            "259/259 [==============================] - 1s 3ms/step - loss: 0.4064 - accuracy: 0.8146\n",
            "Epoch 23/100\n",
            "259/259 [==============================] - 1s 3ms/step - loss: 0.4033 - accuracy: 0.8217\n",
            "Epoch 24/100\n",
            "259/259 [==============================] - 1s 3ms/step - loss: 0.4029 - accuracy: 0.8163\n",
            "Epoch 25/100\n",
            "259/259 [==============================] - 1s 3ms/step - loss: 0.4017 - accuracy: 0.8186\n",
            "Epoch 26/100\n",
            "259/259 [==============================] - 1s 3ms/step - loss: 0.4004 - accuracy: 0.8190\n",
            "Epoch 27/100\n",
            "259/259 [==============================] - 1s 3ms/step - loss: 0.3967 - accuracy: 0.8236\n",
            "Epoch 28/100\n",
            "259/259 [==============================] - 1s 3ms/step - loss: 0.3971 - accuracy: 0.8209\n",
            "Epoch 29/100\n",
            "259/259 [==============================] - 1s 3ms/step - loss: 0.3928 - accuracy: 0.8258\n",
            "Epoch 30/100\n",
            "259/259 [==============================] - 1s 3ms/step - loss: 0.3926 - accuracy: 0.8241\n",
            "Epoch 31/100\n",
            "259/259 [==============================] - 1s 3ms/step - loss: 0.3915 - accuracy: 0.8258\n",
            "Epoch 32/100\n",
            "259/259 [==============================] - 1s 3ms/step - loss: 0.3889 - accuracy: 0.8247\n",
            "Epoch 33/100\n",
            "259/259 [==============================] - 1s 3ms/step - loss: 0.3862 - accuracy: 0.8294\n",
            "Epoch 34/100\n",
            "259/259 [==============================] - 1s 3ms/step - loss: 0.3863 - accuracy: 0.8270\n",
            "Epoch 35/100\n",
            "259/259 [==============================] - 1s 3ms/step - loss: 0.3831 - accuracy: 0.8281\n",
            "Epoch 36/100\n",
            "259/259 [==============================] - 1s 3ms/step - loss: 0.3833 - accuracy: 0.8293\n",
            "Epoch 37/100\n",
            "259/259 [==============================] - 1s 3ms/step - loss: 0.3828 - accuracy: 0.8287\n",
            "Epoch 38/100\n",
            "259/259 [==============================] - 1s 3ms/step - loss: 0.3817 - accuracy: 0.8293\n",
            "Epoch 39/100\n",
            "259/259 [==============================] - 1s 3ms/step - loss: 0.3803 - accuracy: 0.8314\n",
            "Epoch 40/100\n",
            "259/259 [==============================] - 1s 3ms/step - loss: 0.3833 - accuracy: 0.8297\n",
            "Epoch 41/100\n",
            "259/259 [==============================] - 1s 3ms/step - loss: 0.3776 - accuracy: 0.8316\n",
            "Epoch 42/100\n",
            "259/259 [==============================] - 1s 3ms/step - loss: 0.3773 - accuracy: 0.8332\n",
            "Epoch 43/100\n",
            "259/259 [==============================] - 1s 3ms/step - loss: 0.3759 - accuracy: 0.8332\n",
            "Epoch 44/100\n",
            "259/259 [==============================] - 1s 3ms/step - loss: 0.3769 - accuracy: 0.8333\n",
            "Epoch 45/100\n",
            "259/259 [==============================] - 1s 3ms/step - loss: 0.3725 - accuracy: 0.8335\n",
            "Epoch 46/100\n",
            "259/259 [==============================] - 1s 3ms/step - loss: 0.3735 - accuracy: 0.8340\n",
            "Epoch 47/100\n",
            "259/259 [==============================] - 1s 3ms/step - loss: 0.3708 - accuracy: 0.8360\n",
            "Epoch 48/100\n",
            "259/259 [==============================] - 1s 3ms/step - loss: 0.3728 - accuracy: 0.8315\n",
            "Epoch 49/100\n",
            "259/259 [==============================] - 1s 3ms/step - loss: 0.3697 - accuracy: 0.8362\n",
            "Epoch 50/100\n",
            "259/259 [==============================] - 1s 3ms/step - loss: 0.3693 - accuracy: 0.8372\n",
            "Epoch 51/100\n",
            "259/259 [==============================] - 1s 3ms/step - loss: 0.3697 - accuracy: 0.8361\n",
            "Epoch 52/100\n",
            "259/259 [==============================] - 1s 3ms/step - loss: 0.3670 - accuracy: 0.8378\n",
            "Epoch 53/100\n",
            "259/259 [==============================] - 1s 3ms/step - loss: 0.3683 - accuracy: 0.8357\n",
            "Epoch 54/100\n",
            "259/259 [==============================] - 1s 3ms/step - loss: 0.3657 - accuracy: 0.8384\n",
            "Epoch 55/100\n",
            "259/259 [==============================] - 1s 3ms/step - loss: 0.3659 - accuracy: 0.8368\n",
            "Epoch 56/100\n",
            "259/259 [==============================] - 1s 3ms/step - loss: 0.3643 - accuracy: 0.8404\n",
            "Epoch 57/100\n",
            "259/259 [==============================] - 1s 3ms/step - loss: 0.3647 - accuracy: 0.8414\n",
            "Epoch 58/100\n",
            "259/259 [==============================] - 1s 3ms/step - loss: 0.3622 - accuracy: 0.8410\n",
            "Epoch 59/100\n",
            "259/259 [==============================] - 1s 3ms/step - loss: 0.3625 - accuracy: 0.8390\n",
            "Epoch 60/100\n",
            "259/259 [==============================] - 1s 3ms/step - loss: 0.3609 - accuracy: 0.8414\n",
            "Epoch 61/100\n",
            "259/259 [==============================] - 1s 3ms/step - loss: 0.3602 - accuracy: 0.8380\n",
            "Epoch 62/100\n",
            "259/259 [==============================] - 1s 3ms/step - loss: 0.3618 - accuracy: 0.8418\n",
            "Epoch 63/100\n",
            "259/259 [==============================] - 1s 3ms/step - loss: 0.3606 - accuracy: 0.8378\n",
            "Epoch 64/100\n",
            "259/259 [==============================] - 1s 3ms/step - loss: 0.3599 - accuracy: 0.8397\n",
            "Epoch 65/100\n",
            "259/259 [==============================] - 1s 3ms/step - loss: 0.3592 - accuracy: 0.8421\n",
            "Epoch 66/100\n",
            "259/259 [==============================] - 1s 3ms/step - loss: 0.3582 - accuracy: 0.8427\n",
            "Epoch 67/100\n",
            "259/259 [==============================] - 1s 3ms/step - loss: 0.3589 - accuracy: 0.8390\n",
            "Epoch 68/100\n",
            "259/259 [==============================] - 1s 3ms/step - loss: 0.3587 - accuracy: 0.8425\n",
            "Epoch 69/100\n",
            "259/259 [==============================] - 1s 3ms/step - loss: 0.3561 - accuracy: 0.8438\n",
            "Epoch 70/100\n",
            "259/259 [==============================] - 1s 3ms/step - loss: 0.3560 - accuracy: 0.8424\n",
            "Epoch 71/100\n",
            "259/259 [==============================] - 1s 3ms/step - loss: 0.3564 - accuracy: 0.8429\n",
            "Epoch 72/100\n",
            "259/259 [==============================] - 1s 3ms/step - loss: 0.3572 - accuracy: 0.8425\n",
            "Epoch 73/100\n",
            "259/259 [==============================] - 1s 3ms/step - loss: 0.3544 - accuracy: 0.8444\n",
            "Epoch 74/100\n",
            "259/259 [==============================] - 1s 3ms/step - loss: 0.3537 - accuracy: 0.8442\n",
            "Epoch 75/100\n",
            "259/259 [==============================] - 1s 3ms/step - loss: 0.3547 - accuracy: 0.8460\n",
            "Epoch 76/100\n",
            "259/259 [==============================] - 1s 3ms/step - loss: 0.3522 - accuracy: 0.8437\n",
            "Epoch 77/100\n",
            "259/259 [==============================] - 1s 3ms/step - loss: 0.3549 - accuracy: 0.8423\n",
            "Epoch 78/100\n",
            "259/259 [==============================] - 1s 3ms/step - loss: 0.3526 - accuracy: 0.8432\n",
            "Epoch 79/100\n",
            "259/259 [==============================] - 1s 3ms/step - loss: 0.3505 - accuracy: 0.8462\n",
            "Epoch 80/100\n",
            "259/259 [==============================] - 1s 3ms/step - loss: 0.3515 - accuracy: 0.8442\n",
            "Epoch 81/100\n",
            "259/259 [==============================] - 1s 3ms/step - loss: 0.3527 - accuracy: 0.8431\n",
            "Epoch 82/100\n",
            "259/259 [==============================] - 1s 3ms/step - loss: 0.3512 - accuracy: 0.8446\n",
            "Epoch 83/100\n",
            "259/259 [==============================] - 1s 3ms/step - loss: 0.3489 - accuracy: 0.8455\n",
            "Epoch 84/100\n",
            "259/259 [==============================] - 1s 3ms/step - loss: 0.3478 - accuracy: 0.8500\n",
            "Epoch 85/100\n",
            "259/259 [==============================] - 1s 3ms/step - loss: 0.3478 - accuracy: 0.8489\n",
            "Epoch 86/100\n",
            "259/259 [==============================] - 1s 3ms/step - loss: 0.3487 - accuracy: 0.8454\n",
            "Epoch 87/100\n",
            "259/259 [==============================] - 1s 3ms/step - loss: 0.3485 - accuracy: 0.8464\n",
            "Epoch 88/100\n",
            "259/259 [==============================] - 1s 3ms/step - loss: 0.3492 - accuracy: 0.8459\n",
            "Epoch 89/100\n",
            "259/259 [==============================] - 1s 3ms/step - loss: 0.3460 - accuracy: 0.8454\n",
            "Epoch 90/100\n",
            "259/259 [==============================] - 1s 3ms/step - loss: 0.3467 - accuracy: 0.8498\n",
            "Epoch 91/100\n",
            "259/259 [==============================] - 1s 3ms/step - loss: 0.3452 - accuracy: 0.8454\n",
            "Epoch 92/100\n",
            "259/259 [==============================] - 1s 3ms/step - loss: 0.3450 - accuracy: 0.8487\n",
            "Epoch 93/100\n",
            "259/259 [==============================] - 1s 3ms/step - loss: 0.3466 - accuracy: 0.8455\n",
            "Epoch 94/100\n",
            "259/259 [==============================] - 1s 3ms/step - loss: 0.3491 - accuracy: 0.8444\n",
            "Epoch 95/100\n",
            "259/259 [==============================] - 1s 3ms/step - loss: 0.3470 - accuracy: 0.8470\n",
            "Epoch 96/100\n",
            "259/259 [==============================] - 1s 3ms/step - loss: 0.3458 - accuracy: 0.8475\n",
            "Epoch 97/100\n",
            "259/259 [==============================] - 1s 3ms/step - loss: 0.3439 - accuracy: 0.8475\n",
            "Epoch 98/100\n",
            "259/259 [==============================] - 1s 3ms/step - loss: 0.3437 - accuracy: 0.8500\n",
            "Epoch 99/100\n",
            "259/259 [==============================] - 1s 3ms/step - loss: 0.3434 - accuracy: 0.8455\n",
            "Epoch 100/100\n",
            "259/259 [==============================] - 1s 3ms/step - loss: 0.3429 - accuracy: 0.8477\n",
            "65/65 [==============================] - 0s 2ms/step - loss: 0.3928 - accuracy: 0.8291\n",
            "[0.3928176760673523, 0.829138457775116]\n",
            "Classification Report: \n",
            "               precision    recall  f1-score   support\n",
            "\n",
            "           0       0.82      0.84      0.83      1033\n",
            "           1       0.84      0.81      0.83      1033\n",
            "\n",
            "    accuracy                           0.83      2066\n",
            "   macro avg       0.83      0.83      0.83      2066\n",
            "weighted avg       0.83      0.83      0.83      2066\n",
            "\n"
          ]
        }
      ]
    },
    {
      "cell_type": "markdown",
      "source": [
        "## Method 4: Use of Ensemble with under-sampling"
      ],
      "metadata": {
        "id": "lrQJP-cPkYYs"
      }
    },
    {
      "cell_type": "code",
      "source": [
        "df2.Churn.value_counts()"
      ],
      "metadata": {
        "colab": {
          "base_uri": "https://localhost:8080/"
        },
        "id": "sBojcf7bgmr7",
        "outputId": "70a02bcc-4881-403c-e755-373a6398f596"
      },
      "execution_count": 79,
      "outputs": [
        {
          "output_type": "execute_result",
          "data": {
            "text/plain": [
              "0    5163\n",
              "1    1869\n",
              "Name: Churn, dtype: int64"
            ]
          },
          "metadata": {},
          "execution_count": 79
        }
      ]
    },
    {
      "cell_type": "code",
      "source": [
        "x = df2.drop('Churn', axis='columns')\n",
        "y = df2['Churn']"
      ],
      "metadata": {
        "id": "-3kVy9cIksHF"
      },
      "execution_count": 81,
      "outputs": []
    },
    {
      "cell_type": "code",
      "source": [
        "x_train,x_test,y_train,y_test = train_test_split(x, y, test_size=0.2, random_state=15, stratify=y)"
      ],
      "metadata": {
        "id": "vz6pk4LllaDJ"
      },
      "execution_count": 82,
      "outputs": []
    },
    {
      "cell_type": "code",
      "source": [
        "y_train.value_counts()"
      ],
      "metadata": {
        "colab": {
          "base_uri": "https://localhost:8080/"
        },
        "id": "SMUlMLzglp8v",
        "outputId": "fc4932a4-b024-4891-cbcf-a01dedb3774b"
      },
      "execution_count": 83,
      "outputs": [
        {
          "output_type": "execute_result",
          "data": {
            "text/plain": [
              "0    4130\n",
              "1    1495\n",
              "Name: Churn, dtype: int64"
            ]
          },
          "metadata": {},
          "execution_count": 83
        }
      ]
    },
    {
      "cell_type": "code",
      "source": [
        "4130/1495"
      ],
      "metadata": {
        "colab": {
          "base_uri": "https://localhost:8080/"
        },
        "id": "I1BHbBzZlsQM",
        "outputId": "f21a6788-0382-4999-a7a1-ed838d5be842"
      },
      "execution_count": 84,
      "outputs": [
        {
          "output_type": "execute_result",
          "data": {
            "text/plain": [
              "2.762541806020067"
            ]
          },
          "metadata": {},
          "execution_count": 84
        }
      ]
    },
    {
      "cell_type": "code",
      "source": [
        "df3 = x_train.copy()\n",
        "df3['Churn'] = y_train"
      ],
      "metadata": {
        "id": "ngc6KdHLmAfl"
      },
      "execution_count": 91,
      "outputs": []
    },
    {
      "cell_type": "code",
      "source": [
        "df3_class_0 = df3[df3.Churn==0]\n",
        "df3_class_1 = df3[df3.Churn==1]"
      ],
      "metadata": {
        "id": "aswNP6vIlwUI"
      },
      "execution_count": 92,
      "outputs": []
    },
    {
      "cell_type": "code",
      "source": [
        "df3_class_0.shape, df3_class_1.shape"
      ],
      "metadata": {
        "colab": {
          "base_uri": "https://localhost:8080/"
        },
        "id": "Vlhxs6EkmO-x",
        "outputId": "b920cdba-2c87-46e4-9094-f88e34c8a6ee"
      },
      "execution_count": 93,
      "outputs": [
        {
          "output_type": "execute_result",
          "data": {
            "text/plain": [
              "((4130, 27), (1495, 27))"
            ]
          },
          "metadata": {},
          "execution_count": 93
        }
      ]
    },
    {
      "cell_type": "code",
      "source": [
        "def get_train_batch(df_majority,df3_minority,start,end):\n",
        "  \n",
        "  df_train = pd.concat([df_majority[start:end],df3_minority],axis=0)\n",
        "  \n",
        "  x_train = df_train.drop('Churn', axis='columns')\n",
        "  y_train = df_train.Churn\n",
        "\n",
        "  return x_train, y_train"
      ],
      "metadata": {
        "id": "7jk-ohf_mbHZ"
      },
      "execution_count": 95,
      "outputs": []
    },
    {
      "cell_type": "code",
      "source": [
        "x_train, y_train = get_train_batch(df3_class_0, df3_class_1, 0, 1495)\n",
        "pred1 = ANN(x_train,y_train,x_test,y_test,'binary_crossentropy',-1)"
      ],
      "metadata": {
        "colab": {
          "base_uri": "https://localhost:8080/"
        },
        "id": "JKmoQ0tzm2bf",
        "outputId": "ac14b927-fe08-4534-c445-1296400090c3"
      },
      "execution_count": 101,
      "outputs": [
        {
          "output_type": "stream",
          "name": "stdout",
          "text": [
            "Epoch 1/100\n",
            "94/94 [==============================] - 1s 3ms/step - loss: 0.6420 - accuracy: 0.6435\n",
            "Epoch 2/100\n",
            "94/94 [==============================] - 0s 3ms/step - loss: 0.5298 - accuracy: 0.7478\n",
            "Epoch 3/100\n",
            "94/94 [==============================] - 0s 3ms/step - loss: 0.5034 - accuracy: 0.7609\n",
            "Epoch 4/100\n",
            "94/94 [==============================] - 0s 3ms/step - loss: 0.4926 - accuracy: 0.7629\n",
            "Epoch 5/100\n",
            "94/94 [==============================] - 0s 3ms/step - loss: 0.4880 - accuracy: 0.7676\n",
            "Epoch 6/100\n",
            "94/94 [==============================] - 0s 3ms/step - loss: 0.4844 - accuracy: 0.7692\n",
            "Epoch 7/100\n",
            "94/94 [==============================] - 0s 3ms/step - loss: 0.4798 - accuracy: 0.7686\n",
            "Epoch 8/100\n",
            "94/94 [==============================] - 0s 3ms/step - loss: 0.4790 - accuracy: 0.7722\n",
            "Epoch 9/100\n",
            "94/94 [==============================] - 0s 3ms/step - loss: 0.4757 - accuracy: 0.7736\n",
            "Epoch 10/100\n",
            "94/94 [==============================] - 0s 3ms/step - loss: 0.4742 - accuracy: 0.7726\n",
            "Epoch 11/100\n",
            "94/94 [==============================] - 0s 3ms/step - loss: 0.4727 - accuracy: 0.7766\n",
            "Epoch 12/100\n",
            "94/94 [==============================] - 0s 3ms/step - loss: 0.4706 - accuracy: 0.7779\n",
            "Epoch 13/100\n",
            "94/94 [==============================] - 0s 3ms/step - loss: 0.4690 - accuracy: 0.7806\n",
            "Epoch 14/100\n",
            "94/94 [==============================] - 0s 3ms/step - loss: 0.4675 - accuracy: 0.7793\n",
            "Epoch 15/100\n",
            "94/94 [==============================] - 0s 3ms/step - loss: 0.4655 - accuracy: 0.7789\n",
            "Epoch 16/100\n",
            "94/94 [==============================] - 0s 3ms/step - loss: 0.4639 - accuracy: 0.7786\n",
            "Epoch 17/100\n",
            "94/94 [==============================] - 0s 3ms/step - loss: 0.4627 - accuracy: 0.7829\n",
            "Epoch 18/100\n",
            "94/94 [==============================] - 0s 4ms/step - loss: 0.4622 - accuracy: 0.7789\n",
            "Epoch 19/100\n",
            "94/94 [==============================] - 0s 4ms/step - loss: 0.4605 - accuracy: 0.7813\n",
            "Epoch 20/100\n",
            "94/94 [==============================] - 0s 4ms/step - loss: 0.4574 - accuracy: 0.7823\n",
            "Epoch 21/100\n",
            "94/94 [==============================] - 0s 4ms/step - loss: 0.4578 - accuracy: 0.7799\n",
            "Epoch 22/100\n",
            "94/94 [==============================] - 1s 5ms/step - loss: 0.4558 - accuracy: 0.7843\n",
            "Epoch 23/100\n",
            "94/94 [==============================] - 1s 6ms/step - loss: 0.4544 - accuracy: 0.7870\n",
            "Epoch 24/100\n",
            "94/94 [==============================] - 1s 5ms/step - loss: 0.4526 - accuracy: 0.7856\n",
            "Epoch 25/100\n",
            "94/94 [==============================] - 0s 5ms/step - loss: 0.4523 - accuracy: 0.7856\n",
            "Epoch 26/100\n",
            "94/94 [==============================] - 0s 3ms/step - loss: 0.4502 - accuracy: 0.7883\n",
            "Epoch 27/100\n",
            "94/94 [==============================] - 0s 3ms/step - loss: 0.4492 - accuracy: 0.7893\n",
            "Epoch 28/100\n",
            "94/94 [==============================] - 0s 3ms/step - loss: 0.4483 - accuracy: 0.7873\n",
            "Epoch 29/100\n",
            "94/94 [==============================] - 0s 3ms/step - loss: 0.4463 - accuracy: 0.7886\n",
            "Epoch 30/100\n",
            "94/94 [==============================] - 0s 3ms/step - loss: 0.4462 - accuracy: 0.7866\n",
            "Epoch 31/100\n",
            "94/94 [==============================] - 0s 3ms/step - loss: 0.4448 - accuracy: 0.7900\n",
            "Epoch 32/100\n",
            "94/94 [==============================] - 0s 3ms/step - loss: 0.4439 - accuracy: 0.7926\n",
            "Epoch 33/100\n",
            "94/94 [==============================] - 0s 3ms/step - loss: 0.4419 - accuracy: 0.7906\n",
            "Epoch 34/100\n",
            "94/94 [==============================] - 0s 3ms/step - loss: 0.4413 - accuracy: 0.7930\n",
            "Epoch 35/100\n",
            "94/94 [==============================] - 0s 3ms/step - loss: 0.4394 - accuracy: 0.7963\n",
            "Epoch 36/100\n",
            "94/94 [==============================] - 0s 3ms/step - loss: 0.4384 - accuracy: 0.7926\n",
            "Epoch 37/100\n",
            "94/94 [==============================] - 0s 3ms/step - loss: 0.4385 - accuracy: 0.7960\n",
            "Epoch 38/100\n",
            "94/94 [==============================] - 0s 3ms/step - loss: 0.4384 - accuracy: 0.7957\n",
            "Epoch 39/100\n",
            "94/94 [==============================] - 0s 3ms/step - loss: 0.4371 - accuracy: 0.7943\n",
            "Epoch 40/100\n",
            "94/94 [==============================] - 0s 3ms/step - loss: 0.4337 - accuracy: 0.7987\n",
            "Epoch 41/100\n",
            "94/94 [==============================] - 0s 3ms/step - loss: 0.4332 - accuracy: 0.7960\n",
            "Epoch 42/100\n",
            "94/94 [==============================] - 0s 3ms/step - loss: 0.4325 - accuracy: 0.7970\n",
            "Epoch 43/100\n",
            "94/94 [==============================] - 0s 3ms/step - loss: 0.4318 - accuracy: 0.8030\n",
            "Epoch 44/100\n",
            "94/94 [==============================] - 0s 3ms/step - loss: 0.4312 - accuracy: 0.8037\n",
            "Epoch 45/100\n",
            "94/94 [==============================] - 0s 3ms/step - loss: 0.4293 - accuracy: 0.7983\n",
            "Epoch 46/100\n",
            "94/94 [==============================] - 0s 3ms/step - loss: 0.4290 - accuracy: 0.8043\n",
            "Epoch 47/100\n",
            "94/94 [==============================] - 0s 3ms/step - loss: 0.4271 - accuracy: 0.8013\n",
            "Epoch 48/100\n",
            "94/94 [==============================] - 0s 3ms/step - loss: 0.4266 - accuracy: 0.8027\n",
            "Epoch 49/100\n",
            "94/94 [==============================] - 0s 3ms/step - loss: 0.4276 - accuracy: 0.8010\n",
            "Epoch 50/100\n",
            "94/94 [==============================] - 0s 3ms/step - loss: 0.4264 - accuracy: 0.8054\n",
            "Epoch 51/100\n",
            "94/94 [==============================] - 0s 3ms/step - loss: 0.4237 - accuracy: 0.8033\n",
            "Epoch 52/100\n",
            "94/94 [==============================] - 0s 3ms/step - loss: 0.4218 - accuracy: 0.8047\n",
            "Epoch 53/100\n",
            "94/94 [==============================] - 0s 3ms/step - loss: 0.4222 - accuracy: 0.8003\n",
            "Epoch 54/100\n",
            "94/94 [==============================] - 0s 3ms/step - loss: 0.4212 - accuracy: 0.8060\n",
            "Epoch 55/100\n",
            "94/94 [==============================] - 0s 3ms/step - loss: 0.4191 - accuracy: 0.8087\n",
            "Epoch 56/100\n",
            "94/94 [==============================] - 0s 3ms/step - loss: 0.4194 - accuracy: 0.8047\n",
            "Epoch 57/100\n",
            "94/94 [==============================] - 0s 3ms/step - loss: 0.4195 - accuracy: 0.8057\n",
            "Epoch 58/100\n",
            "94/94 [==============================] - 0s 3ms/step - loss: 0.4171 - accuracy: 0.8080\n",
            "Epoch 59/100\n",
            "94/94 [==============================] - 0s 3ms/step - loss: 0.4184 - accuracy: 0.8000\n",
            "Epoch 60/100\n",
            "94/94 [==============================] - 0s 3ms/step - loss: 0.4168 - accuracy: 0.8070\n",
            "Epoch 61/100\n",
            "94/94 [==============================] - 0s 3ms/step - loss: 0.4166 - accuracy: 0.8030\n",
            "Epoch 62/100\n",
            "94/94 [==============================] - 0s 3ms/step - loss: 0.4136 - accuracy: 0.8080\n",
            "Epoch 63/100\n",
            "94/94 [==============================] - 0s 3ms/step - loss: 0.4120 - accuracy: 0.8107\n",
            "Epoch 64/100\n",
            "94/94 [==============================] - 0s 3ms/step - loss: 0.4128 - accuracy: 0.8137\n",
            "Epoch 65/100\n",
            "94/94 [==============================] - 0s 3ms/step - loss: 0.4115 - accuracy: 0.8090\n",
            "Epoch 66/100\n",
            "94/94 [==============================] - 0s 3ms/step - loss: 0.4115 - accuracy: 0.8094\n",
            "Epoch 67/100\n",
            "94/94 [==============================] - 0s 3ms/step - loss: 0.4085 - accuracy: 0.8110\n",
            "Epoch 68/100\n",
            "94/94 [==============================] - 0s 3ms/step - loss: 0.4094 - accuracy: 0.8144\n",
            "Epoch 69/100\n",
            "94/94 [==============================] - 0s 3ms/step - loss: 0.4078 - accuracy: 0.8147\n",
            "Epoch 70/100\n",
            "94/94 [==============================] - 0s 3ms/step - loss: 0.4061 - accuracy: 0.8117\n",
            "Epoch 71/100\n",
            "94/94 [==============================] - 0s 3ms/step - loss: 0.4054 - accuracy: 0.8151\n",
            "Epoch 72/100\n",
            "94/94 [==============================] - 0s 3ms/step - loss: 0.4043 - accuracy: 0.8137\n",
            "Epoch 73/100\n",
            "94/94 [==============================] - 0s 3ms/step - loss: 0.4037 - accuracy: 0.8137\n",
            "Epoch 74/100\n",
            "94/94 [==============================] - 0s 3ms/step - loss: 0.4043 - accuracy: 0.8167\n",
            "Epoch 75/100\n",
            "94/94 [==============================] - 0s 3ms/step - loss: 0.4027 - accuracy: 0.8137\n",
            "Epoch 76/100\n",
            "94/94 [==============================] - 0s 3ms/step - loss: 0.4020 - accuracy: 0.8147\n",
            "Epoch 77/100\n",
            "94/94 [==============================] - 0s 3ms/step - loss: 0.4006 - accuracy: 0.8194\n",
            "Epoch 78/100\n",
            "94/94 [==============================] - 0s 3ms/step - loss: 0.4002 - accuracy: 0.8161\n",
            "Epoch 79/100\n",
            "94/94 [==============================] - 0s 3ms/step - loss: 0.3987 - accuracy: 0.8161\n",
            "Epoch 80/100\n",
            "94/94 [==============================] - 0s 3ms/step - loss: 0.3988 - accuracy: 0.8161\n",
            "Epoch 81/100\n",
            "94/94 [==============================] - 0s 3ms/step - loss: 0.3976 - accuracy: 0.8154\n",
            "Epoch 82/100\n",
            "94/94 [==============================] - 0s 3ms/step - loss: 0.3964 - accuracy: 0.8191\n",
            "Epoch 83/100\n",
            "94/94 [==============================] - 0s 3ms/step - loss: 0.3956 - accuracy: 0.8164\n",
            "Epoch 84/100\n",
            "94/94 [==============================] - 0s 3ms/step - loss: 0.3939 - accuracy: 0.8211\n",
            "Epoch 85/100\n",
            "94/94 [==============================] - 0s 3ms/step - loss: 0.3947 - accuracy: 0.8204\n",
            "Epoch 86/100\n",
            "94/94 [==============================] - 0s 3ms/step - loss: 0.3938 - accuracy: 0.8207\n",
            "Epoch 87/100\n",
            "94/94 [==============================] - 0s 3ms/step - loss: 0.3916 - accuracy: 0.8227\n",
            "Epoch 88/100\n",
            "94/94 [==============================] - 0s 3ms/step - loss: 0.3922 - accuracy: 0.8184\n",
            "Epoch 89/100\n",
            "94/94 [==============================] - 0s 3ms/step - loss: 0.3912 - accuracy: 0.8187\n",
            "Epoch 90/100\n",
            "94/94 [==============================] - 0s 3ms/step - loss: 0.3907 - accuracy: 0.8227\n",
            "Epoch 91/100\n",
            "94/94 [==============================] - 0s 3ms/step - loss: 0.3894 - accuracy: 0.8237\n",
            "Epoch 92/100\n",
            "94/94 [==============================] - 0s 3ms/step - loss: 0.3883 - accuracy: 0.8258\n",
            "Epoch 93/100\n",
            "94/94 [==============================] - 0s 3ms/step - loss: 0.3884 - accuracy: 0.8264\n",
            "Epoch 94/100\n",
            "94/94 [==============================] - 0s 3ms/step - loss: 0.3871 - accuracy: 0.8258\n",
            "Epoch 95/100\n",
            "94/94 [==============================] - 0s 3ms/step - loss: 0.3857 - accuracy: 0.8231\n",
            "Epoch 96/100\n",
            "94/94 [==============================] - 0s 3ms/step - loss: 0.3858 - accuracy: 0.8247\n",
            "Epoch 97/100\n",
            "94/94 [==============================] - 0s 3ms/step - loss: 0.3846 - accuracy: 0.8224\n",
            "Epoch 98/100\n",
            "94/94 [==============================] - 0s 3ms/step - loss: 0.3843 - accuracy: 0.8244\n",
            "Epoch 99/100\n",
            "94/94 [==============================] - 0s 3ms/step - loss: 0.3814 - accuracy: 0.8241\n",
            "Epoch 100/100\n",
            "94/94 [==============================] - 0s 3ms/step - loss: 0.3833 - accuracy: 0.8278\n",
            "44/44 [==============================] - 0s 2ms/step - loss: 0.5590 - accuracy: 0.7349\n",
            "[0.5589507818222046, 0.7348969578742981]\n",
            "Classification Report: \n",
            "               precision    recall  f1-score   support\n",
            "\n",
            "           0       0.89      0.73      0.80      1033\n",
            "           1       0.50      0.74      0.60       374\n",
            "\n",
            "    accuracy                           0.73      1407\n",
            "   macro avg       0.69      0.74      0.70      1407\n",
            "weighted avg       0.78      0.73      0.75      1407\n",
            "\n"
          ]
        }
      ]
    },
    {
      "cell_type": "code",
      "source": [
        "x_train, y_train = get_train_batch(df3_class_0, df3_class_1, 1495, 2990)\n",
        "pred2 = ANN(x_train,y_train,x_test,y_test,'binary_crossentropy',-1)"
      ],
      "metadata": {
        "colab": {
          "base_uri": "https://localhost:8080/"
        },
        "id": "llFqvdCCopxZ",
        "outputId": "11107150-d033-4f16-dc0a-c53cb8af3fa8"
      },
      "execution_count": 102,
      "outputs": [
        {
          "output_type": "stream",
          "name": "stdout",
          "text": [
            "Epoch 1/100\n",
            "94/94 [==============================] - 1s 3ms/step - loss: 0.6432 - accuracy: 0.6482\n",
            "Epoch 2/100\n",
            "94/94 [==============================] - 0s 3ms/step - loss: 0.5285 - accuracy: 0.7498\n",
            "Epoch 3/100\n",
            "94/94 [==============================] - 0s 3ms/step - loss: 0.4992 - accuracy: 0.7599\n",
            "Epoch 4/100\n",
            "94/94 [==============================] - 0s 3ms/step - loss: 0.4899 - accuracy: 0.7622\n",
            "Epoch 5/100\n",
            "94/94 [==============================] - 0s 3ms/step - loss: 0.4850 - accuracy: 0.7642\n",
            "Epoch 6/100\n",
            "94/94 [==============================] - 0s 3ms/step - loss: 0.4810 - accuracy: 0.7652\n",
            "Epoch 7/100\n",
            "94/94 [==============================] - 0s 3ms/step - loss: 0.4770 - accuracy: 0.7676\n",
            "Epoch 8/100\n",
            "94/94 [==============================] - 0s 3ms/step - loss: 0.4735 - accuracy: 0.7706\n",
            "Epoch 9/100\n",
            "94/94 [==============================] - 0s 3ms/step - loss: 0.4719 - accuracy: 0.7676\n",
            "Epoch 10/100\n",
            "94/94 [==============================] - 0s 3ms/step - loss: 0.4689 - accuracy: 0.7742\n",
            "Epoch 11/100\n",
            "94/94 [==============================] - 0s 3ms/step - loss: 0.4679 - accuracy: 0.7719\n",
            "Epoch 12/100\n",
            "94/94 [==============================] - 0s 3ms/step - loss: 0.4659 - accuracy: 0.7729\n",
            "Epoch 13/100\n",
            "94/94 [==============================] - 0s 3ms/step - loss: 0.4633 - accuracy: 0.7749\n",
            "Epoch 14/100\n",
            "94/94 [==============================] - 0s 3ms/step - loss: 0.4607 - accuracy: 0.7759\n",
            "Epoch 15/100\n",
            "94/94 [==============================] - 0s 3ms/step - loss: 0.4609 - accuracy: 0.7756\n",
            "Epoch 16/100\n",
            "94/94 [==============================] - 0s 3ms/step - loss: 0.4586 - accuracy: 0.7763\n",
            "Epoch 17/100\n",
            "94/94 [==============================] - 0s 3ms/step - loss: 0.4548 - accuracy: 0.7799\n",
            "Epoch 18/100\n",
            "94/94 [==============================] - 0s 3ms/step - loss: 0.4532 - accuracy: 0.7749\n",
            "Epoch 19/100\n",
            "94/94 [==============================] - 0s 3ms/step - loss: 0.4533 - accuracy: 0.7816\n",
            "Epoch 20/100\n",
            "94/94 [==============================] - 0s 3ms/step - loss: 0.4509 - accuracy: 0.7819\n",
            "Epoch 21/100\n",
            "94/94 [==============================] - 0s 3ms/step - loss: 0.4495 - accuracy: 0.7823\n",
            "Epoch 22/100\n",
            "94/94 [==============================] - 0s 3ms/step - loss: 0.4482 - accuracy: 0.7866\n",
            "Epoch 23/100\n",
            "94/94 [==============================] - 0s 3ms/step - loss: 0.4463 - accuracy: 0.7839\n",
            "Epoch 24/100\n",
            "94/94 [==============================] - 0s 3ms/step - loss: 0.4459 - accuracy: 0.7873\n",
            "Epoch 25/100\n",
            "94/94 [==============================] - 0s 3ms/step - loss: 0.4441 - accuracy: 0.7890\n",
            "Epoch 26/100\n",
            "94/94 [==============================] - 0s 3ms/step - loss: 0.4408 - accuracy: 0.7880\n",
            "Epoch 27/100\n",
            "94/94 [==============================] - 0s 3ms/step - loss: 0.4410 - accuracy: 0.7886\n",
            "Epoch 28/100\n",
            "94/94 [==============================] - 0s 3ms/step - loss: 0.4400 - accuracy: 0.7886\n",
            "Epoch 29/100\n",
            "94/94 [==============================] - 0s 3ms/step - loss: 0.4374 - accuracy: 0.7849\n",
            "Epoch 30/100\n",
            "94/94 [==============================] - 0s 3ms/step - loss: 0.4372 - accuracy: 0.7910\n",
            "Epoch 31/100\n",
            "94/94 [==============================] - 0s 3ms/step - loss: 0.4347 - accuracy: 0.7933\n",
            "Epoch 32/100\n",
            "94/94 [==============================] - 0s 3ms/step - loss: 0.4325 - accuracy: 0.7970\n",
            "Epoch 33/100\n",
            "94/94 [==============================] - 0s 3ms/step - loss: 0.4331 - accuracy: 0.7953\n",
            "Epoch 34/100\n",
            "94/94 [==============================] - 0s 3ms/step - loss: 0.4330 - accuracy: 0.7933\n",
            "Epoch 35/100\n",
            "94/94 [==============================] - 0s 3ms/step - loss: 0.4304 - accuracy: 0.7960\n",
            "Epoch 36/100\n",
            "94/94 [==============================] - 0s 3ms/step - loss: 0.4282 - accuracy: 0.7987\n",
            "Epoch 37/100\n",
            "94/94 [==============================] - 0s 3ms/step - loss: 0.4275 - accuracy: 0.7967\n",
            "Epoch 38/100\n",
            "94/94 [==============================] - 0s 3ms/step - loss: 0.4263 - accuracy: 0.7980\n",
            "Epoch 39/100\n",
            "94/94 [==============================] - 0s 3ms/step - loss: 0.4253 - accuracy: 0.8023\n",
            "Epoch 40/100\n",
            "94/94 [==============================] - 0s 3ms/step - loss: 0.4238 - accuracy: 0.8010\n",
            "Epoch 41/100\n",
            "94/94 [==============================] - 0s 3ms/step - loss: 0.4230 - accuracy: 0.8027\n",
            "Epoch 42/100\n",
            "94/94 [==============================] - 0s 3ms/step - loss: 0.4187 - accuracy: 0.8047\n",
            "Epoch 43/100\n",
            "94/94 [==============================] - 0s 3ms/step - loss: 0.4211 - accuracy: 0.8007\n",
            "Epoch 44/100\n",
            "94/94 [==============================] - 0s 3ms/step - loss: 0.4199 - accuracy: 0.8027\n",
            "Epoch 45/100\n",
            "94/94 [==============================] - 0s 3ms/step - loss: 0.4189 - accuracy: 0.8017\n",
            "Epoch 46/100\n",
            "94/94 [==============================] - 0s 3ms/step - loss: 0.4186 - accuracy: 0.8054\n",
            "Epoch 47/100\n",
            "94/94 [==============================] - 0s 3ms/step - loss: 0.4160 - accuracy: 0.8040\n",
            "Epoch 48/100\n",
            "94/94 [==============================] - 0s 3ms/step - loss: 0.4135 - accuracy: 0.8067\n",
            "Epoch 49/100\n",
            "94/94 [==============================] - 0s 3ms/step - loss: 0.4157 - accuracy: 0.8047\n",
            "Epoch 50/100\n",
            "94/94 [==============================] - 0s 3ms/step - loss: 0.4107 - accuracy: 0.8084\n",
            "Epoch 51/100\n",
            "94/94 [==============================] - 0s 3ms/step - loss: 0.4119 - accuracy: 0.8030\n",
            "Epoch 52/100\n",
            "94/94 [==============================] - 0s 3ms/step - loss: 0.4097 - accuracy: 0.8104\n",
            "Epoch 53/100\n",
            "94/94 [==============================] - 0s 3ms/step - loss: 0.4112 - accuracy: 0.8124\n",
            "Epoch 54/100\n",
            "94/94 [==============================] - 0s 3ms/step - loss: 0.4075 - accuracy: 0.8097\n",
            "Epoch 55/100\n",
            "94/94 [==============================] - 0s 3ms/step - loss: 0.4060 - accuracy: 0.8107\n",
            "Epoch 56/100\n",
            "94/94 [==============================] - 0s 3ms/step - loss: 0.4071 - accuracy: 0.8127\n",
            "Epoch 57/100\n",
            "94/94 [==============================] - 0s 3ms/step - loss: 0.4055 - accuracy: 0.8080\n",
            "Epoch 58/100\n",
            "94/94 [==============================] - 0s 3ms/step - loss: 0.4017 - accuracy: 0.8127\n",
            "Epoch 59/100\n",
            "94/94 [==============================] - 0s 3ms/step - loss: 0.4027 - accuracy: 0.8147\n",
            "Epoch 60/100\n",
            "94/94 [==============================] - 0s 3ms/step - loss: 0.4009 - accuracy: 0.8134\n",
            "Epoch 61/100\n",
            "94/94 [==============================] - 0s 3ms/step - loss: 0.3999 - accuracy: 0.8130\n",
            "Epoch 62/100\n",
            "94/94 [==============================] - 0s 3ms/step - loss: 0.3977 - accuracy: 0.8164\n",
            "Epoch 63/100\n",
            "94/94 [==============================] - 0s 3ms/step - loss: 0.3981 - accuracy: 0.8090\n",
            "Epoch 64/100\n",
            "94/94 [==============================] - 0s 3ms/step - loss: 0.3976 - accuracy: 0.8151\n",
            "Epoch 65/100\n",
            "94/94 [==============================] - 0s 3ms/step - loss: 0.3958 - accuracy: 0.8167\n",
            "Epoch 66/100\n",
            "94/94 [==============================] - 0s 3ms/step - loss: 0.3942 - accuracy: 0.8177\n",
            "Epoch 67/100\n",
            "94/94 [==============================] - 0s 3ms/step - loss: 0.3937 - accuracy: 0.8117\n",
            "Epoch 68/100\n",
            "94/94 [==============================] - 0s 3ms/step - loss: 0.3917 - accuracy: 0.8161\n",
            "Epoch 69/100\n",
            "94/94 [==============================] - 0s 3ms/step - loss: 0.3913 - accuracy: 0.8171\n",
            "Epoch 70/100\n",
            "94/94 [==============================] - 0s 3ms/step - loss: 0.3899 - accuracy: 0.8194\n",
            "Epoch 71/100\n",
            "94/94 [==============================] - 0s 3ms/step - loss: 0.3904 - accuracy: 0.8154\n",
            "Epoch 72/100\n",
            "94/94 [==============================] - 0s 3ms/step - loss: 0.3894 - accuracy: 0.8167\n",
            "Epoch 73/100\n",
            "94/94 [==============================] - 0s 3ms/step - loss: 0.3874 - accuracy: 0.8187\n",
            "Epoch 74/100\n",
            "94/94 [==============================] - 0s 3ms/step - loss: 0.3887 - accuracy: 0.8197\n",
            "Epoch 75/100\n",
            "94/94 [==============================] - 0s 3ms/step - loss: 0.3878 - accuracy: 0.8157\n",
            "Epoch 76/100\n",
            "94/94 [==============================] - 0s 3ms/step - loss: 0.3850 - accuracy: 0.8161\n",
            "Epoch 77/100\n",
            "94/94 [==============================] - 0s 3ms/step - loss: 0.3854 - accuracy: 0.8191\n",
            "Epoch 78/100\n",
            "94/94 [==============================] - 0s 3ms/step - loss: 0.3827 - accuracy: 0.8174\n",
            "Epoch 79/100\n",
            "94/94 [==============================] - 0s 3ms/step - loss: 0.3816 - accuracy: 0.8244\n",
            "Epoch 80/100\n",
            "94/94 [==============================] - 0s 3ms/step - loss: 0.3807 - accuracy: 0.8237\n",
            "Epoch 81/100\n",
            "94/94 [==============================] - 0s 3ms/step - loss: 0.3797 - accuracy: 0.8254\n",
            "Epoch 82/100\n",
            "94/94 [==============================] - 0s 3ms/step - loss: 0.3790 - accuracy: 0.8284\n",
            "Epoch 83/100\n",
            "94/94 [==============================] - 0s 4ms/step - loss: 0.3802 - accuracy: 0.8274\n",
            "Epoch 84/100\n",
            "94/94 [==============================] - 0s 5ms/step - loss: 0.3792 - accuracy: 0.8264\n",
            "Epoch 85/100\n",
            "94/94 [==============================] - 0s 3ms/step - loss: 0.3774 - accuracy: 0.8281\n",
            "Epoch 86/100\n",
            "94/94 [==============================] - 0s 5ms/step - loss: 0.3761 - accuracy: 0.8284\n",
            "Epoch 87/100\n",
            "94/94 [==============================] - 1s 6ms/step - loss: 0.3734 - accuracy: 0.8308\n",
            "Epoch 88/100\n",
            "94/94 [==============================] - 1s 6ms/step - loss: 0.3761 - accuracy: 0.8237\n",
            "Epoch 89/100\n",
            "94/94 [==============================] - 0s 4ms/step - loss: 0.3727 - accuracy: 0.8284\n",
            "Epoch 90/100\n",
            "94/94 [==============================] - 0s 4ms/step - loss: 0.3710 - accuracy: 0.8271\n",
            "Epoch 91/100\n",
            "94/94 [==============================] - 0s 4ms/step - loss: 0.3737 - accuracy: 0.8271\n",
            "Epoch 92/100\n",
            "94/94 [==============================] - 0s 5ms/step - loss: 0.3701 - accuracy: 0.8311\n",
            "Epoch 93/100\n",
            "94/94 [==============================] - 0s 5ms/step - loss: 0.3680 - accuracy: 0.8318\n",
            "Epoch 94/100\n",
            "94/94 [==============================] - 0s 4ms/step - loss: 0.3700 - accuracy: 0.8304\n",
            "Epoch 95/100\n",
            "94/94 [==============================] - 0s 3ms/step - loss: 0.3674 - accuracy: 0.8274\n",
            "Epoch 96/100\n",
            "94/94 [==============================] - 0s 3ms/step - loss: 0.3660 - accuracy: 0.8338\n",
            "Epoch 97/100\n",
            "94/94 [==============================] - 0s 3ms/step - loss: 0.3657 - accuracy: 0.8328\n",
            "Epoch 98/100\n",
            "94/94 [==============================] - 0s 3ms/step - loss: 0.3645 - accuracy: 0.8341\n",
            "Epoch 99/100\n",
            "94/94 [==============================] - 0s 4ms/step - loss: 0.3643 - accuracy: 0.8298\n",
            "Epoch 100/100\n",
            "94/94 [==============================] - 0s 3ms/step - loss: 0.3633 - accuracy: 0.8334\n",
            "44/44 [==============================] - 0s 2ms/step - loss: 0.6175 - accuracy: 0.6965\n",
            "[0.6174613833427429, 0.6965174078941345]\n",
            "Classification Report: \n",
            "               precision    recall  f1-score   support\n",
            "\n",
            "           0       0.88      0.68      0.77      1033\n",
            "           1       0.46      0.74      0.56       374\n",
            "\n",
            "    accuracy                           0.70      1407\n",
            "   macro avg       0.67      0.71      0.67      1407\n",
            "weighted avg       0.77      0.70      0.71      1407\n",
            "\n"
          ]
        }
      ]
    },
    {
      "cell_type": "code",
      "source": [
        "x_train, y_train = get_train_batch(df3_class_0, df3_class_1, 2990, 4130)\n",
        "pred3 = ANN(x_train,y_train,x_test,y_test,'binary_crossentropy',-1)"
      ],
      "metadata": {
        "colab": {
          "base_uri": "https://localhost:8080/"
        },
        "id": "fB4UGftmo17v",
        "outputId": "07a3839c-ff24-4a68-945e-f1cb9e2d0e03"
      },
      "execution_count": 103,
      "outputs": [
        {
          "output_type": "stream",
          "name": "stdout",
          "text": [
            "Epoch 1/100\n",
            "83/83 [==============================] - 1s 3ms/step - loss: 0.6235 - accuracy: 0.6782\n",
            "Epoch 2/100\n",
            "83/83 [==============================] - 0s 3ms/step - loss: 0.5186 - accuracy: 0.7658\n",
            "Epoch 3/100\n",
            "83/83 [==============================] - 0s 3ms/step - loss: 0.4878 - accuracy: 0.7685\n",
            "Epoch 4/100\n",
            "83/83 [==============================] - 0s 3ms/step - loss: 0.4782 - accuracy: 0.7731\n",
            "Epoch 5/100\n",
            "83/83 [==============================] - 0s 3ms/step - loss: 0.4709 - accuracy: 0.7810\n",
            "Epoch 6/100\n",
            "83/83 [==============================] - 0s 3ms/step - loss: 0.4680 - accuracy: 0.7761\n",
            "Epoch 7/100\n",
            "83/83 [==============================] - 0s 3ms/step - loss: 0.4648 - accuracy: 0.7818\n",
            "Epoch 8/100\n",
            "83/83 [==============================] - 0s 3ms/step - loss: 0.4619 - accuracy: 0.7803\n",
            "Epoch 9/100\n",
            "83/83 [==============================] - 0s 3ms/step - loss: 0.4591 - accuracy: 0.7852\n",
            "Epoch 10/100\n",
            "83/83 [==============================] - 0s 3ms/step - loss: 0.4585 - accuracy: 0.7795\n",
            "Epoch 11/100\n",
            "83/83 [==============================] - 0s 3ms/step - loss: 0.4573 - accuracy: 0.7875\n",
            "Epoch 12/100\n",
            "83/83 [==============================] - 0s 3ms/step - loss: 0.4528 - accuracy: 0.7909\n",
            "Epoch 13/100\n",
            "83/83 [==============================] - 0s 3ms/step - loss: 0.4506 - accuracy: 0.7909\n",
            "Epoch 14/100\n",
            "83/83 [==============================] - 0s 3ms/step - loss: 0.4495 - accuracy: 0.7879\n",
            "Epoch 15/100\n",
            "83/83 [==============================] - 0s 3ms/step - loss: 0.4477 - accuracy: 0.7939\n",
            "Epoch 16/100\n",
            "83/83 [==============================] - 0s 3ms/step - loss: 0.4460 - accuracy: 0.7928\n",
            "Epoch 17/100\n",
            "83/83 [==============================] - 0s 3ms/step - loss: 0.4441 - accuracy: 0.7943\n",
            "Epoch 18/100\n",
            "83/83 [==============================] - 0s 3ms/step - loss: 0.4447 - accuracy: 0.7954\n",
            "Epoch 19/100\n",
            "83/83 [==============================] - 0s 3ms/step - loss: 0.4420 - accuracy: 0.7917\n",
            "Epoch 20/100\n",
            "83/83 [==============================] - 0s 3ms/step - loss: 0.4398 - accuracy: 0.7958\n",
            "Epoch 21/100\n",
            "83/83 [==============================] - 0s 3ms/step - loss: 0.4384 - accuracy: 0.7992\n",
            "Epoch 22/100\n",
            "83/83 [==============================] - 0s 3ms/step - loss: 0.4367 - accuracy: 0.7989\n",
            "Epoch 23/100\n",
            "83/83 [==============================] - 0s 3ms/step - loss: 0.4352 - accuracy: 0.7954\n",
            "Epoch 24/100\n",
            "83/83 [==============================] - 0s 3ms/step - loss: 0.4351 - accuracy: 0.8038\n",
            "Epoch 25/100\n",
            "83/83 [==============================] - 0s 3ms/step - loss: 0.4338 - accuracy: 0.7985\n",
            "Epoch 26/100\n",
            "83/83 [==============================] - 0s 3ms/step - loss: 0.4304 - accuracy: 0.8008\n",
            "Epoch 27/100\n",
            "83/83 [==============================] - 0s 3ms/step - loss: 0.4320 - accuracy: 0.8008\n",
            "Epoch 28/100\n",
            "83/83 [==============================] - 0s 3ms/step - loss: 0.4308 - accuracy: 0.8019\n",
            "Epoch 29/100\n",
            "83/83 [==============================] - 0s 3ms/step - loss: 0.4276 - accuracy: 0.8034\n",
            "Epoch 30/100\n",
            "83/83 [==============================] - 0s 3ms/step - loss: 0.4261 - accuracy: 0.8061\n",
            "Epoch 31/100\n",
            "83/83 [==============================] - 0s 3ms/step - loss: 0.4245 - accuracy: 0.8072\n",
            "Epoch 32/100\n",
            "83/83 [==============================] - 0s 3ms/step - loss: 0.4233 - accuracy: 0.8106\n",
            "Epoch 33/100\n",
            "83/83 [==============================] - 0s 3ms/step - loss: 0.4219 - accuracy: 0.8046\n",
            "Epoch 34/100\n",
            "83/83 [==============================] - 0s 3ms/step - loss: 0.4210 - accuracy: 0.8076\n",
            "Epoch 35/100\n",
            "83/83 [==============================] - 0s 3ms/step - loss: 0.4201 - accuracy: 0.8053\n",
            "Epoch 36/100\n",
            "83/83 [==============================] - 0s 3ms/step - loss: 0.4186 - accuracy: 0.8072\n",
            "Epoch 37/100\n",
            "83/83 [==============================] - 0s 3ms/step - loss: 0.4165 - accuracy: 0.8102\n",
            "Epoch 38/100\n",
            "83/83 [==============================] - 0s 3ms/step - loss: 0.4197 - accuracy: 0.8087\n",
            "Epoch 39/100\n",
            "83/83 [==============================] - 0s 3ms/step - loss: 0.4134 - accuracy: 0.8072\n",
            "Epoch 40/100\n",
            "83/83 [==============================] - 0s 3ms/step - loss: 0.4143 - accuracy: 0.8125\n",
            "Epoch 41/100\n",
            "83/83 [==============================] - 0s 3ms/step - loss: 0.4124 - accuracy: 0.8110\n",
            "Epoch 42/100\n",
            "83/83 [==============================] - 0s 3ms/step - loss: 0.4127 - accuracy: 0.8091\n",
            "Epoch 43/100\n",
            "83/83 [==============================] - 0s 3ms/step - loss: 0.4122 - accuracy: 0.8118\n",
            "Epoch 44/100\n",
            "83/83 [==============================] - 0s 3ms/step - loss: 0.4104 - accuracy: 0.8099\n",
            "Epoch 45/100\n",
            "83/83 [==============================] - 0s 3ms/step - loss: 0.4070 - accuracy: 0.8159\n",
            "Epoch 46/100\n",
            "83/83 [==============================] - 0s 3ms/step - loss: 0.4096 - accuracy: 0.8159\n",
            "Epoch 47/100\n",
            "83/83 [==============================] - 0s 3ms/step - loss: 0.4072 - accuracy: 0.8171\n",
            "Epoch 48/100\n",
            "83/83 [==============================] - 0s 3ms/step - loss: 0.4054 - accuracy: 0.8144\n",
            "Epoch 49/100\n",
            "83/83 [==============================] - 0s 3ms/step - loss: 0.4062 - accuracy: 0.8129\n",
            "Epoch 50/100\n",
            "83/83 [==============================] - 0s 3ms/step - loss: 0.4044 - accuracy: 0.8137\n",
            "Epoch 51/100\n",
            "83/83 [==============================] - 0s 3ms/step - loss: 0.4031 - accuracy: 0.8152\n",
            "Epoch 52/100\n",
            "83/83 [==============================] - 0s 3ms/step - loss: 0.4016 - accuracy: 0.8186\n",
            "Epoch 53/100\n",
            "83/83 [==============================] - 0s 3ms/step - loss: 0.4014 - accuracy: 0.8144\n",
            "Epoch 54/100\n",
            "83/83 [==============================] - 0s 3ms/step - loss: 0.3996 - accuracy: 0.8178\n",
            "Epoch 55/100\n",
            "83/83 [==============================] - 0s 3ms/step - loss: 0.3981 - accuracy: 0.8209\n",
            "Epoch 56/100\n",
            "83/83 [==============================] - 0s 3ms/step - loss: 0.3985 - accuracy: 0.8163\n",
            "Epoch 57/100\n",
            "83/83 [==============================] - 0s 3ms/step - loss: 0.3961 - accuracy: 0.8190\n",
            "Epoch 58/100\n",
            "83/83 [==============================] - 0s 3ms/step - loss: 0.3965 - accuracy: 0.8163\n",
            "Epoch 59/100\n",
            "83/83 [==============================] - 0s 3ms/step - loss: 0.3956 - accuracy: 0.8190\n",
            "Epoch 60/100\n",
            "83/83 [==============================] - 0s 3ms/step - loss: 0.3951 - accuracy: 0.8159\n",
            "Epoch 61/100\n",
            "83/83 [==============================] - 0s 3ms/step - loss: 0.3927 - accuracy: 0.8201\n",
            "Epoch 62/100\n",
            "83/83 [==============================] - 0s 3ms/step - loss: 0.3921 - accuracy: 0.8194\n",
            "Epoch 63/100\n",
            "83/83 [==============================] - 0s 3ms/step - loss: 0.3948 - accuracy: 0.8163\n",
            "Epoch 64/100\n",
            "83/83 [==============================] - 0s 3ms/step - loss: 0.3919 - accuracy: 0.8201\n",
            "Epoch 65/100\n",
            "83/83 [==============================] - 0s 3ms/step - loss: 0.3907 - accuracy: 0.8201\n",
            "Epoch 66/100\n",
            "83/83 [==============================] - 0s 3ms/step - loss: 0.3912 - accuracy: 0.8197\n",
            "Epoch 67/100\n",
            "83/83 [==============================] - 0s 3ms/step - loss: 0.3917 - accuracy: 0.8137\n",
            "Epoch 68/100\n",
            "83/83 [==============================] - 0s 3ms/step - loss: 0.3913 - accuracy: 0.8175\n",
            "Epoch 69/100\n",
            "83/83 [==============================] - 0s 3ms/step - loss: 0.3871 - accuracy: 0.8194\n",
            "Epoch 70/100\n",
            "83/83 [==============================] - 0s 3ms/step - loss: 0.3847 - accuracy: 0.8235\n",
            "Epoch 71/100\n",
            "83/83 [==============================] - 0s 3ms/step - loss: 0.3842 - accuracy: 0.8269\n",
            "Epoch 72/100\n",
            "83/83 [==============================] - 0s 3ms/step - loss: 0.3848 - accuracy: 0.8201\n",
            "Epoch 73/100\n",
            "83/83 [==============================] - 0s 3ms/step - loss: 0.3823 - accuracy: 0.8277\n",
            "Epoch 74/100\n",
            "83/83 [==============================] - 0s 3ms/step - loss: 0.3820 - accuracy: 0.8220\n",
            "Epoch 75/100\n",
            "83/83 [==============================] - 0s 3ms/step - loss: 0.3829 - accuracy: 0.8269\n",
            "Epoch 76/100\n",
            "83/83 [==============================] - 0s 3ms/step - loss: 0.3797 - accuracy: 0.8269\n",
            "Epoch 77/100\n",
            "83/83 [==============================] - 0s 3ms/step - loss: 0.3774 - accuracy: 0.8277\n",
            "Epoch 78/100\n",
            "83/83 [==============================] - 0s 3ms/step - loss: 0.3802 - accuracy: 0.8262\n",
            "Epoch 79/100\n",
            "83/83 [==============================] - 0s 3ms/step - loss: 0.3782 - accuracy: 0.8266\n",
            "Epoch 80/100\n",
            "83/83 [==============================] - 0s 3ms/step - loss: 0.3771 - accuracy: 0.8311\n",
            "Epoch 81/100\n",
            "83/83 [==============================] - 0s 3ms/step - loss: 0.3774 - accuracy: 0.8288\n",
            "Epoch 82/100\n",
            "83/83 [==============================] - 0s 3ms/step - loss: 0.3746 - accuracy: 0.8288\n",
            "Epoch 83/100\n",
            "83/83 [==============================] - 0s 3ms/step - loss: 0.3721 - accuracy: 0.8288\n",
            "Epoch 84/100\n",
            "83/83 [==============================] - 0s 3ms/step - loss: 0.3726 - accuracy: 0.8326\n",
            "Epoch 85/100\n",
            "83/83 [==============================] - 0s 3ms/step - loss: 0.3741 - accuracy: 0.8285\n",
            "Epoch 86/100\n",
            "83/83 [==============================] - 0s 3ms/step - loss: 0.3708 - accuracy: 0.8323\n",
            "Epoch 87/100\n",
            "83/83 [==============================] - 0s 3ms/step - loss: 0.3704 - accuracy: 0.8311\n",
            "Epoch 88/100\n",
            "83/83 [==============================] - 0s 3ms/step - loss: 0.3697 - accuracy: 0.8342\n",
            "Epoch 89/100\n",
            "83/83 [==============================] - 0s 3ms/step - loss: 0.3684 - accuracy: 0.8334\n",
            "Epoch 90/100\n",
            "83/83 [==============================] - 0s 3ms/step - loss: 0.3692 - accuracy: 0.8323\n",
            "Epoch 91/100\n",
            "83/83 [==============================] - 0s 3ms/step - loss: 0.3693 - accuracy: 0.8345\n",
            "Epoch 92/100\n",
            "83/83 [==============================] - 0s 3ms/step - loss: 0.3667 - accuracy: 0.8357\n",
            "Epoch 93/100\n",
            "83/83 [==============================] - 0s 3ms/step - loss: 0.3651 - accuracy: 0.8372\n",
            "Epoch 94/100\n",
            "83/83 [==============================] - 0s 3ms/step - loss: 0.3651 - accuracy: 0.8345\n",
            "Epoch 95/100\n",
            "83/83 [==============================] - 0s 3ms/step - loss: 0.3660 - accuracy: 0.8395\n",
            "Epoch 96/100\n",
            "83/83 [==============================] - 0s 3ms/step - loss: 0.3653 - accuracy: 0.8395\n",
            "Epoch 97/100\n",
            "83/83 [==============================] - 0s 3ms/step - loss: 0.3621 - accuracy: 0.8391\n",
            "Epoch 98/100\n",
            "83/83 [==============================] - 0s 3ms/step - loss: 0.3645 - accuracy: 0.8342\n",
            "Epoch 99/100\n",
            "83/83 [==============================] - 0s 3ms/step - loss: 0.3613 - accuracy: 0.8364\n",
            "Epoch 100/100\n",
            "83/83 [==============================] - 0s 3ms/step - loss: 0.3590 - accuracy: 0.8395\n",
            "44/44 [==============================] - 0s 3ms/step - loss: 0.6627 - accuracy: 0.6951\n",
            "[0.6626515984535217, 0.695095956325531]\n",
            "Classification Report: \n",
            "               precision    recall  f1-score   support\n",
            "\n",
            "           0       0.90      0.66      0.76      1033\n",
            "           1       0.46      0.80      0.58       374\n",
            "\n",
            "    accuracy                           0.70      1407\n",
            "   macro avg       0.68      0.73      0.67      1407\n",
            "weighted avg       0.78      0.70      0.71      1407\n",
            "\n"
          ]
        }
      ]
    },
    {
      "cell_type": "markdown",
      "source": [
        "if we have two or more 1's out of three then the final prediction value will be 1 so the basic logic is that sum should be greater than 1\n",
        "\n",
        "for ex:\n",
        "\n",
        "pred1[i] = 0\n",
        "\n",
        "pred2[i] = 1\n",
        "\n",
        "pred3[i] = 1\n",
        "\n",
        "num of ones or sum of all three preds = 0 + 1 + 1 = 2 > 1\n",
        "\n",
        "\n",
        "therefore majority vote is 1\n",
        "\n",
        "pred1[i] = 0\n",
        "\n",
        "pred2[i] = 1\n",
        "\n",
        "pred3[i] = 0\n",
        "\n",
        "num of ones or sum of all three preds = 0 + 1 + 0 = 1 > 1 (false)\n",
        "\n",
        "therefore majority vote is 0"
      ],
      "metadata": {
        "id": "bzTsc9i4qO5X"
      }
    },
    {
      "cell_type": "code",
      "source": [
        "y_pred_final = pred1.copy()\n",
        "\n",
        "for i in range(len(pred1)):\n",
        "  num_ones = pred1[i]+pred2[i]+pred3[i]\n",
        "  if num_ones>1:\n",
        "    y_pred_final[i] = 1\n",
        "  else:\n",
        "    y_pred_final[i] = 0"
      ],
      "metadata": {
        "id": "DQTsquH7o5pV"
      },
      "execution_count": 104,
      "outputs": []
    },
    {
      "cell_type": "code",
      "source": [
        "print(classification_report(y_test,y_pred_final))"
      ],
      "metadata": {
        "colab": {
          "base_uri": "https://localhost:8080/"
        },
        "id": "NQVMF6eprEM0",
        "outputId": "b561ed50-47f0-4546-a9c2-624a0de92d5e"
      },
      "execution_count": 106,
      "outputs": [
        {
          "output_type": "stream",
          "name": "stdout",
          "text": [
            "              precision    recall  f1-score   support\n",
            "\n",
            "           0       0.90      0.70      0.79      1033\n",
            "           1       0.48      0.77      0.60       374\n",
            "\n",
            "    accuracy                           0.72      1407\n",
            "   macro avg       0.69      0.74      0.69      1407\n",
            "weighted avg       0.79      0.72      0.74      1407\n",
            "\n"
          ]
        }
      ]
    },
    {
      "cell_type": "markdown",
      "source": [
        "# Conclusion:\n",
        "\n",
        "##Classification reports\n",
        "\n",
        "###1. Without Sampling\n",
        "\n",
        "![image.png](data:image/png;base64,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)\n",
        "\n",
        "### 2. Random Under-sampling of the majority class\n",
        "\n",
        "![image.png](data:image/png;base64,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)\n",
        "\n",
        "\n",
        "### 3. Over-sampling the minority class\n",
        "\n",
        "![image.png](data:image/png;base64,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)\n",
        "\n",
        "### 4. SMOTE (Synthetic Minority Oversampling Technique)\n",
        "\n",
        "![image.png](data:image/png;base64,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)\n",
        "\n",
        "### 5. Use of Ensemble with under-sampling\n",
        "\n",
        "![image.png](data:image/png;base64,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)"
      ],
      "metadata": {
        "id": "GO_c8KEDrYwt"
      }
    }
  ]
}